{
 "cells": [
  {
   "cell_type": "code",
   "execution_count": 16,
   "metadata": {},
   "outputs": [],
   "source": [
    "# Importar librerias\n",
    "import numpy as np\n",
    "import plotly.express as px\n",
    "import plotly.graph_objects as go\n",
    "from matplotlib import pyplot as plt\n",
    "import pandas as pd\n",
    "import seaborn as sb"
   ]
  },
  {
   "cell_type": "code",
   "execution_count": 17,
   "metadata": {},
   "outputs": [],
   "source": [
    "# Importar documento excel (Training Set)\n",
    "dataset_downs = pd.read_csv('ofensiva/all/downs.csv')\n",
    "dataset_kickoffReturn = pd.read_csv('ofensiva/all/kickoffReturn.csv')\n",
    "dataset_passing = pd.read_csv('ofensiva/all/passing.csv')\n",
    "dataset_punting = pd.read_csv('ofensiva/all/punting.csv')\n",
    "dataset_puntingReturn = pd.read_csv('ofensiva/all/puntReturn.csv')\n",
    "dataset_rushing = pd.read_csv('ofensiva/all/rushing.csv')\n",
    "dataset_scoring = pd.read_csv('ofensiva/all/scoring.csv')\n"
   ]
  },
  {
   "cell_type": "markdown",
   "metadata": {},
   "source": [
    "# Passing"
   ]
  },
  {
   "cell_type": "code",
   "execution_count": 18,
   "metadata": {},
   "outputs": [],
   "source": [
    "gbPackers_passing = dataset_passing.loc[dataset_passing['Team'] == \"Green Bay Packers\"]\n",
    "tBay_passing = dataset_passing.loc[dataset_passing['Team'] == \"Tampa Bay Buccaneers\"]\n",
    "dallas_passing = dataset_passing.loc[dataset_passing['Team'] == \"Dallas Cowboys\"]\n",
    "atlanta_passing = dataset_passing.loc[dataset_passing['Team'] == \"Atlanta Falcons\"]\n",
    "rams_passing = dataset_passing.loc[dataset_passing['Team'] == \"Los Angeles Rams\"]\n",
    "kansas_passing = dataset_passing.loc[dataset_passing['Team'] == \"Kansas City Chiefs\"]\n",
    "chargers_passing = dataset_passing.loc[dataset_passing['Team'] == \"Los Angeles Chargers\"]\n",
    "orleands_passing = dataset_passing.loc[dataset_passing['Team'] == \"New Orleans Saints\"]\n",
    "england_passing = dataset_passing.loc[dataset_passing['Team'] == \"New England Patriots\"]\n",
    "oak_passing = dataset_passing.loc[dataset_passing['Team'] == \"Oakland Raiders\"]\n",
    "detroid_passing = dataset_passing.loc[dataset_passing['Team'] == \"Detroit Lions\"]\n",
    "philadelphia_passing = dataset_passing.loc[dataset_passing['Team'] == \"Philadelphia Eagles\"]\n",
    "miami_passing = dataset_passing.loc[dataset_passing['Team'] == \"Miami Dolphins\"]\n",
    "san_francisco_passing = dataset_passing.loc[dataset_passing['Team'] == \"San Francisco 49ers\"]\n",
    "seattle_passing = dataset_passing.loc[dataset_passing['Team'] == \"Seattle Seahawks\"]\n",
    "houston_passing = dataset_passing.loc[dataset_passing['Team'] == \"Houston Texans\"]\n",
    "jacksonville_passing = dataset_passing.loc[dataset_passing['Team'] == \"Jacksonville Jaguars\"]\n",
    "giants_passing = dataset_passing.loc[dataset_passing['Team'] == \"New York Giants\"]\n",
    "cincinnati_passing = dataset_passing.loc[dataset_passing['Team'] == \"Cincinnati Bengals\"]\n",
    "carolina_passing = dataset_passing.loc[dataset_passing['Team'] == \"Carolina Panthers\"]\n",
    "tenessee_passing = dataset_passing.loc[dataset_passing['Team'] == \"Tennessee Titans\"]\n",
    "cleveland_passing = dataset_passing.loc[dataset_passing['Team'] == \"Cleveland Browns\"]\n",
    "minnesota_passing = dataset_passing.loc[dataset_passing['Team'] == \"Minnesota Vikings\"]\n",
    "arizona_passing = dataset_passing.loc[dataset_passing['Team'] == \"Arizona Cardinals\"]\n",
    "chicago_passing = dataset_passing.loc[dataset_passing['Team'] == \"Chicago Bears\"]\n",
    "buffalo_passing = dataset_passing.loc[dataset_passing['Team'] == \"Buffalo Bills\"]\n",
    "baltimore_passing = dataset_passing.loc[dataset_passing['Team'] == \"Baltimore Ravens\"]\n",
    "denver_passing = dataset_passing.loc[dataset_passing['Team'] == \"Denver Broncos\"]\n",
    "jets_passing = dataset_passing.loc[dataset_passing['Team'] == \"New York Jets\"]\n",
    "inianapolis_passing = dataset_passing.loc[dataset_passing['Team'] == \"Indianapolis Colts\"]\n",
    "pittsburgh_passing = dataset_passing.loc[dataset_passing['Team'] == \"Pittsburgh Steelers\"]\n",
    "washington_passing = dataset_passing.loc[dataset_passing['Team'] == \"Washington Redskins\"]\n",
    "\n",
    "year = [2014,2015,2016,2017,2018]"
   ]
  },
  {
   "cell_type": "markdown",
   "metadata": {},
   "source": [
    "## Pases Completados"
   ]
  },
  {
   "cell_type": "code",
   "execution_count": 19,
   "metadata": {},
   "outputs": [],
   "source": [
    "gbPackers_cmd = gbPackers_passing.iloc[:, 3].values\n",
    "tBay_cmd = tBay_passing.iloc[:, 3].values\n",
    "dallas_cmd = dallas_passing.iloc[:, 3].values\n",
    "atlanta_cmd = atlanta_passing.iloc[:, 3].values\n",
    "rams_cmd = rams_passing.iloc[:, 3].values\n",
    "kansas_cmd = kansas_passing.iloc[:, 3].values\n",
    "chargers_cmd = chargers_passing.iloc[:, 3].values\n",
    "orleands_cmd = orleands_passing.iloc[:, 3].values\n",
    "england_cmd = england_passing.iloc[:, 3].values\n",
    "oak_cmd = oak_passing.iloc[:, 3].values\n",
    "detroid_cmd = detroid_passing.iloc[:, 3].values\n",
    "philadelphia_cmd = philadelphia_passing.iloc[:, 3].values\n",
    "miami_cmd = miami_passing.iloc[:, 3].values\n",
    "san_francisco_cmd = san_francisco_passing.iloc[:, 3].values\n",
    "seattle_cmd = seattle_passing.iloc[:, 3].values\n",
    "houston_cmd = houston_passing.iloc[:, 3].values\n",
    "jacksonville_cmd = jacksonville_passing.iloc[:, 3].values\n",
    "giants_cmd = giants_passing.iloc[:, 3].values\n",
    "cincinnati_cmd = cincinnati_passing.iloc[:, 3].values\n",
    "carolina_cmd = carolina_passing.iloc[:, 3].values\n",
    "tenessee_cmd = tenessee_passing.iloc[:, 3].values\n",
    "cleveland_cmd = cleveland_passing.iloc[:, 3].values\n",
    "minnesota_cmd = minnesota_passing.iloc[:, 3].values\n",
    "arizona_cmd = arizona_passing.iloc[:, 3].values\n",
    "chicago_cmd = chicago_passing.iloc[:, 3].values\n",
    "buffalo_cmd = buffalo_passing.iloc[:, 3].values\n",
    "baltimore_cmd = baltimore_passing.iloc[:, 3].values\n",
    "denver_cmd = denver_passing.iloc[:, 3].values\n",
    "jets_cmd = jets_passing.iloc[:, 3].values\n",
    "inianapolis_cmd = inianapolis_passing.iloc[:, 3].values\n",
    "pittsburgh_cmd = pittsburgh_passing.iloc[:, 3].values\n",
    "washington_cmd = washington_passing.iloc[:, 3].values"
   ]
  },
  {
   "cell_type": "code",
   "execution_count": 20,
   "metadata": {},
   "outputs": [
    {
     "data": {
      "application/vnd.plotly.v1+json": {
       "config": {
        "plotlyServerURL": "https://plot.ly"
       },
       "data": [
        {
         "mode": "lines+markers",
         "name": "Green Bay Packers",
         "type": "scatter",
         "x": [
          2014,
          2015,
          2016,
          2017,
          2018
         ],
         "y": [
          349,
          348,
          403,
          352,
          392
         ]
        },
        {
         "mode": "lines+markers",
         "name": "Tampa Bay Buccaneers",
         "type": "scatter",
         "x": [
          2014,
          2015,
          2016,
          2017,
          2018
         ],
         "y": [
          301,
          312,
          355,
          378,
          408
         ]
        },
        {
         "mode": "lines+markers",
         "name": "Dallas Cowboys",
         "type": "scatter",
         "x": [
          2014,
          2015,
          2016,
          2017,
          2018
         ],
         "y": [
          328,
          334,
          325,
          309,
          356
         ]
        },
        {
         "mode": "lines+markers",
         "name": "Atlanta Falcons",
         "type": "scatter",
         "x": [
          2014,
          2015,
          2016,
          2017,
          2018
         ],
         "y": [
          418,
          410,
          374,
          343,
          428
         ]
        },
        {
         "mode": "lines+markers",
         "name": "Los Angeles Rams",
         "type": "scatter",
         "x": [
          2014,
          2015,
          2016,
          2017,
          2018
         ],
         "y": [
          327,
          273,
          312,
          320,
          368
         ]
        },
        {
         "mode": "lines+markers",
         "name": "Kansas City Chiefs",
         "type": "scatter",
         "x": [
          2014,
          2015,
          2016,
          2017,
          2018
         ],
         "y": [
          320,
          310,
          365,
          363,
          385
         ]
        },
        {
         "mode": "lines+markers",
         "name": "Los Angeles Chargers",
         "type": "scatter",
         "x": [
          2014,
          2015,
          2016,
          2017,
          2018
         ],
         "y": [
          380,
          442,
          349,
          366,
          348
         ]
        },
        {
         "mode": "lines+markers",
         "name": "New Orleans Saints",
         "type": "scatter",
         "x": [
          2014,
          2015,
          2016,
          2017,
          2018
         ],
         "y": [
          456,
          460,
          472,
          386,
          381
         ]
        },
        {
         "mode": "lines+markers",
         "name": "New England Patriots",
         "type": "scatter",
         "x": [
          2014,
          2015,
          2016,
          2017,
          2018
         ],
         "y": [
          392,
          404,
          368,
          389,
          378
         ]
        },
        {
         "mode": "lines+markers",
         "name": "Oakland Raiders",
         "type": "scatter",
         "x": [
          2014,
          2015,
          2016,
          2017,
          2018
         ],
         "y": [
          365,
          373,
          379,
          347,
          382
         ]
        },
        {
         "mode": "lines+markers",
         "name": "Detroit Lions",
         "type": "scatter",
         "x": [
          2014,
          2015,
          2016,
          2017,
          2018
         ],
         "y": [
          365,
          420,
          388,
          374,
          375
         ]
        },
        {
         "mode": "lines+markers",
         "name": "Philadelphia Eagles",
         "type": "scatter",
         "x": [
          2014,
          2015,
          2016,
          2017,
          2018
         ],
         "y": [
          384,
          405,
          380,
          341,
          422
         ]
        },
        {
         "mode": "lines+markers",
         "name": "Miami Dolphins",
         "type": "scatter",
         "x": [
          2014,
          2015,
          2016,
          2017,
          2018
         ],
         "y": [
          394,
          365,
          316,
          373,
          292
         ]
        },
        {
         "mode": "lines+markers",
         "name": "San Francisco 49ers",
         "type": "scatter",
         "x": [
          2014,
          2015,
          2016,
          2017,
          2018
         ],
         "y": [
          292,
          322,
          287,
          362,
          331
         ]
        },
        {
         "mode": "lines+markers",
         "name": "Seattle Seahawks",
         "type": "scatter",
         "x": [
          2014,
          2015,
          2016,
          2017,
          2018
         ],
         "y": [
          287,
          333,
          368,
          340,
          280
         ]
        },
        {
         "mode": "lines+markers",
         "name": "Houston Texans",
         "type": "scatter",
         "x": [
          2014,
          2015,
          2016,
          2017,
          2018
         ],
         "y": [
          295,
          358,
          347,
          299,
          345
         ]
        },
        {
         "mode": "lines+markers",
         "name": "Jacksonville Jaguars",
         "type": "scatter",
         "x": [
          2014,
          2015,
          2016,
          2017,
          2018
         ],
         "y": [
          325,
          355,
          369,
          316,
          329
         ]
        },
        {
         "mode": "lines+markers",
         "name": "New York Giants",
         "type": "scatter",
         "x": [
          2014,
          2015,
          2016,
          2017,
          2018
         ],
         "y": [
          383,
          392,
          377,
          373,
          382
         ]
        },
        {
         "mode": "lines+markers",
         "name": "Cincinnati Bengals",
         "type": "scatter",
         "x": [
          2014,
          2015,
          2016,
          2017,
          2018
         ],
         "y": [
          323,
          334,
          364,
          304,
          331
         ]
        },
        {
         "mode": "lines+markers",
         "name": "Carolina Panthers",
         "type": "scatter",
         "x": [
          2014,
          2015,
          2016,
          2017,
          2018
         ],
         "y": [
          327,
          300,
          306,
          293,
          378
         ]
        },
        {
         "mode": "lines+markers",
         "name": "Tennessee Titans",
         "type": "scatter",
         "x": [
          2014,
          2015,
          2016,
          2017,
          2018
         ],
         "y": [
          299,
          342,
          307,
          306,
          293
         ]
        },
        {
         "mode": "lines+markers",
         "name": "Cleveland Browns",
         "type": "scatter",
         "x": [
          2014,
          2015,
          2016,
          2017,
          2018
         ],
         "y": [
          274,
          371,
          338,
          312,
          353
         ]
        },
        {
         "mode": "lines+markers",
         "name": "Minnesota Vikings",
         "type": "scatter",
         "x": [
          2014,
          2015,
          2016,
          2017,
          2018
         ],
         "y": [
          322,
          294,
          414,
          357,
          425
         ]
        },
        {
         "mode": "lines+markers",
         "name": "Arizona Cardinals",
         "type": "scatter",
         "x": [
          2014,
          2015,
          2016,
          2017,
          2018
         ],
         "y": [
          320,
          353,
          383,
          339,
          283
         ]
        },
        {
         "mode": "lines+markers",
         "name": "Chicago Bears",
         "type": "scatter",
         "x": [
          2014,
          2015,
          2016,
          2017,
          2018
         ],
         "y": [
          396,
          334,
          347,
          291,
          344
         ]
        },
        {
         "mode": "lines+markers",
         "name": "Buffalo Bills",
         "type": "scatter",
         "x": [
          2014,
          2015,
          2016,
          2017,
          2018
         ],
         "y": [
          363,
          295,
          286,
          289,
          271
         ]
        },
        {
         "mode": "lines+markers",
         "name": "Baltimore Ravens",
         "type": "scatter",
         "x": [
          2014,
          2015,
          2016,
          2017,
          2018
         ],
         "y": [
          344,
          426,
          439,
          363,
          334
         ]
        },
        {
         "mode": "lines+markers",
         "name": "Denver Broncos",
         "type": "scatter",
         "x": [
          2014,
          2015,
          2016,
          2017,
          2018
         ],
         "y": [
          399,
          368,
          339,
          332,
          367
         ]
        },
        {
         "mode": "lines+markers",
         "name": "New York Jets",
         "type": "scatter",
         "x": [
          2014,
          2015,
          2016,
          2017,
          2018
         ],
         "y": [
          287,
          362,
          311,
          323,
          299
         ]
        },
        {
         "mode": "lines+markers",
         "name": "Indianapolis Colts",
         "type": "scatter",
         "x": [
          2014,
          2015,
          2016,
          2017,
          2018
         ],
         "y": [
          410,
          355,
          370,
          285,
          432
         ]
        },
        {
         "mode": "lines+markers",
         "name": "Pittsburgh Steelers",
         "type": "scatter",
         "x": [
          2014,
          2015,
          2016,
          2017,
          2018
         ],
         "y": [
          411,
          391,
          381,
          384,
          459
         ]
        },
        {
         "mode": "lines+markers",
         "name": "Washington Redskins",
         "type": "scatter",
         "x": [
          2014,
          2015,
          2016,
          2017,
          2018
         ],
         "y": [
          364,
          386,
          407,
          347,
          311
         ]
        }
       ],
       "layout": {
        "template": {
         "data": {
          "bar": [
           {
            "error_x": {
             "color": "#2a3f5f"
            },
            "error_y": {
             "color": "#2a3f5f"
            },
            "marker": {
             "line": {
              "color": "#E5ECF6",
              "width": 0.5
             }
            },
            "type": "bar"
           }
          ],
          "barpolar": [
           {
            "marker": {
             "line": {
              "color": "#E5ECF6",
              "width": 0.5
             }
            },
            "type": "barpolar"
           }
          ],
          "carpet": [
           {
            "aaxis": {
             "endlinecolor": "#2a3f5f",
             "gridcolor": "white",
             "linecolor": "white",
             "minorgridcolor": "white",
             "startlinecolor": "#2a3f5f"
            },
            "baxis": {
             "endlinecolor": "#2a3f5f",
             "gridcolor": "white",
             "linecolor": "white",
             "minorgridcolor": "white",
             "startlinecolor": "#2a3f5f"
            },
            "type": "carpet"
           }
          ],
          "choropleth": [
           {
            "colorbar": {
             "outlinewidth": 0,
             "ticks": ""
            },
            "type": "choropleth"
           }
          ],
          "contour": [
           {
            "colorbar": {
             "outlinewidth": 0,
             "ticks": ""
            },
            "colorscale": [
             [
              0,
              "#0d0887"
             ],
             [
              0.1111111111111111,
              "#46039f"
             ],
             [
              0.2222222222222222,
              "#7201a8"
             ],
             [
              0.3333333333333333,
              "#9c179e"
             ],
             [
              0.4444444444444444,
              "#bd3786"
             ],
             [
              0.5555555555555556,
              "#d8576b"
             ],
             [
              0.6666666666666666,
              "#ed7953"
             ],
             [
              0.7777777777777778,
              "#fb9f3a"
             ],
             [
              0.8888888888888888,
              "#fdca26"
             ],
             [
              1,
              "#f0f921"
             ]
            ],
            "type": "contour"
           }
          ],
          "contourcarpet": [
           {
            "colorbar": {
             "outlinewidth": 0,
             "ticks": ""
            },
            "type": "contourcarpet"
           }
          ],
          "heatmap": [
           {
            "colorbar": {
             "outlinewidth": 0,
             "ticks": ""
            },
            "colorscale": [
             [
              0,
              "#0d0887"
             ],
             [
              0.1111111111111111,
              "#46039f"
             ],
             [
              0.2222222222222222,
              "#7201a8"
             ],
             [
              0.3333333333333333,
              "#9c179e"
             ],
             [
              0.4444444444444444,
              "#bd3786"
             ],
             [
              0.5555555555555556,
              "#d8576b"
             ],
             [
              0.6666666666666666,
              "#ed7953"
             ],
             [
              0.7777777777777778,
              "#fb9f3a"
             ],
             [
              0.8888888888888888,
              "#fdca26"
             ],
             [
              1,
              "#f0f921"
             ]
            ],
            "type": "heatmap"
           }
          ],
          "heatmapgl": [
           {
            "colorbar": {
             "outlinewidth": 0,
             "ticks": ""
            },
            "colorscale": [
             [
              0,
              "#0d0887"
             ],
             [
              0.1111111111111111,
              "#46039f"
             ],
             [
              0.2222222222222222,
              "#7201a8"
             ],
             [
              0.3333333333333333,
              "#9c179e"
             ],
             [
              0.4444444444444444,
              "#bd3786"
             ],
             [
              0.5555555555555556,
              "#d8576b"
             ],
             [
              0.6666666666666666,
              "#ed7953"
             ],
             [
              0.7777777777777778,
              "#fb9f3a"
             ],
             [
              0.8888888888888888,
              "#fdca26"
             ],
             [
              1,
              "#f0f921"
             ]
            ],
            "type": "heatmapgl"
           }
          ],
          "histogram": [
           {
            "marker": {
             "colorbar": {
              "outlinewidth": 0,
              "ticks": ""
             }
            },
            "type": "histogram"
           }
          ],
          "histogram2d": [
           {
            "colorbar": {
             "outlinewidth": 0,
             "ticks": ""
            },
            "colorscale": [
             [
              0,
              "#0d0887"
             ],
             [
              0.1111111111111111,
              "#46039f"
             ],
             [
              0.2222222222222222,
              "#7201a8"
             ],
             [
              0.3333333333333333,
              "#9c179e"
             ],
             [
              0.4444444444444444,
              "#bd3786"
             ],
             [
              0.5555555555555556,
              "#d8576b"
             ],
             [
              0.6666666666666666,
              "#ed7953"
             ],
             [
              0.7777777777777778,
              "#fb9f3a"
             ],
             [
              0.8888888888888888,
              "#fdca26"
             ],
             [
              1,
              "#f0f921"
             ]
            ],
            "type": "histogram2d"
           }
          ],
          "histogram2dcontour": [
           {
            "colorbar": {
             "outlinewidth": 0,
             "ticks": ""
            },
            "colorscale": [
             [
              0,
              "#0d0887"
             ],
             [
              0.1111111111111111,
              "#46039f"
             ],
             [
              0.2222222222222222,
              "#7201a8"
             ],
             [
              0.3333333333333333,
              "#9c179e"
             ],
             [
              0.4444444444444444,
              "#bd3786"
             ],
             [
              0.5555555555555556,
              "#d8576b"
             ],
             [
              0.6666666666666666,
              "#ed7953"
             ],
             [
              0.7777777777777778,
              "#fb9f3a"
             ],
             [
              0.8888888888888888,
              "#fdca26"
             ],
             [
              1,
              "#f0f921"
             ]
            ],
            "type": "histogram2dcontour"
           }
          ],
          "mesh3d": [
           {
            "colorbar": {
             "outlinewidth": 0,
             "ticks": ""
            },
            "type": "mesh3d"
           }
          ],
          "parcoords": [
           {
            "line": {
             "colorbar": {
              "outlinewidth": 0,
              "ticks": ""
             }
            },
            "type": "parcoords"
           }
          ],
          "scatter": [
           {
            "marker": {
             "colorbar": {
              "outlinewidth": 0,
              "ticks": ""
             }
            },
            "type": "scatter"
           }
          ],
          "scatter3d": [
           {
            "line": {
             "colorbar": {
              "outlinewidth": 0,
              "ticks": ""
             }
            },
            "marker": {
             "colorbar": {
              "outlinewidth": 0,
              "ticks": ""
             }
            },
            "type": "scatter3d"
           }
          ],
          "scattercarpet": [
           {
            "marker": {
             "colorbar": {
              "outlinewidth": 0,
              "ticks": ""
             }
            },
            "type": "scattercarpet"
           }
          ],
          "scattergeo": [
           {
            "marker": {
             "colorbar": {
              "outlinewidth": 0,
              "ticks": ""
             }
            },
            "type": "scattergeo"
           }
          ],
          "scattergl": [
           {
            "marker": {
             "colorbar": {
              "outlinewidth": 0,
              "ticks": ""
             }
            },
            "type": "scattergl"
           }
          ],
          "scattermapbox": [
           {
            "marker": {
             "colorbar": {
              "outlinewidth": 0,
              "ticks": ""
             }
            },
            "type": "scattermapbox"
           }
          ],
          "scatterpolar": [
           {
            "marker": {
             "colorbar": {
              "outlinewidth": 0,
              "ticks": ""
             }
            },
            "type": "scatterpolar"
           }
          ],
          "scatterpolargl": [
           {
            "marker": {
             "colorbar": {
              "outlinewidth": 0,
              "ticks": ""
             }
            },
            "type": "scatterpolargl"
           }
          ],
          "scatterternary": [
           {
            "marker": {
             "colorbar": {
              "outlinewidth": 0,
              "ticks": ""
             }
            },
            "type": "scatterternary"
           }
          ],
          "surface": [
           {
            "colorbar": {
             "outlinewidth": 0,
             "ticks": ""
            },
            "colorscale": [
             [
              0,
              "#0d0887"
             ],
             [
              0.1111111111111111,
              "#46039f"
             ],
             [
              0.2222222222222222,
              "#7201a8"
             ],
             [
              0.3333333333333333,
              "#9c179e"
             ],
             [
              0.4444444444444444,
              "#bd3786"
             ],
             [
              0.5555555555555556,
              "#d8576b"
             ],
             [
              0.6666666666666666,
              "#ed7953"
             ],
             [
              0.7777777777777778,
              "#fb9f3a"
             ],
             [
              0.8888888888888888,
              "#fdca26"
             ],
             [
              1,
              "#f0f921"
             ]
            ],
            "type": "surface"
           }
          ],
          "table": [
           {
            "cells": {
             "fill": {
              "color": "#EBF0F8"
             },
             "line": {
              "color": "white"
             }
            },
            "header": {
             "fill": {
              "color": "#C8D4E3"
             },
             "line": {
              "color": "white"
             }
            },
            "type": "table"
           }
          ]
         },
         "layout": {
          "annotationdefaults": {
           "arrowcolor": "#2a3f5f",
           "arrowhead": 0,
           "arrowwidth": 1
          },
          "colorscale": {
           "diverging": [
            [
             0,
             "#8e0152"
            ],
            [
             0.1,
             "#c51b7d"
            ],
            [
             0.2,
             "#de77ae"
            ],
            [
             0.3,
             "#f1b6da"
            ],
            [
             0.4,
             "#fde0ef"
            ],
            [
             0.5,
             "#f7f7f7"
            ],
            [
             0.6,
             "#e6f5d0"
            ],
            [
             0.7,
             "#b8e186"
            ],
            [
             0.8,
             "#7fbc41"
            ],
            [
             0.9,
             "#4d9221"
            ],
            [
             1,
             "#276419"
            ]
           ],
           "sequential": [
            [
             0,
             "#0d0887"
            ],
            [
             0.1111111111111111,
             "#46039f"
            ],
            [
             0.2222222222222222,
             "#7201a8"
            ],
            [
             0.3333333333333333,
             "#9c179e"
            ],
            [
             0.4444444444444444,
             "#bd3786"
            ],
            [
             0.5555555555555556,
             "#d8576b"
            ],
            [
             0.6666666666666666,
             "#ed7953"
            ],
            [
             0.7777777777777778,
             "#fb9f3a"
            ],
            [
             0.8888888888888888,
             "#fdca26"
            ],
            [
             1,
             "#f0f921"
            ]
           ],
           "sequentialminus": [
            [
             0,
             "#0d0887"
            ],
            [
             0.1111111111111111,
             "#46039f"
            ],
            [
             0.2222222222222222,
             "#7201a8"
            ],
            [
             0.3333333333333333,
             "#9c179e"
            ],
            [
             0.4444444444444444,
             "#bd3786"
            ],
            [
             0.5555555555555556,
             "#d8576b"
            ],
            [
             0.6666666666666666,
             "#ed7953"
            ],
            [
             0.7777777777777778,
             "#fb9f3a"
            ],
            [
             0.8888888888888888,
             "#fdca26"
            ],
            [
             1,
             "#f0f921"
            ]
           ]
          },
          "colorway": [
           "#636efa",
           "#EF553B",
           "#00cc96",
           "#ab63fa",
           "#FFA15A",
           "#19d3f3",
           "#FF6692",
           "#B6E880",
           "#FF97FF",
           "#FECB52"
          ],
          "font": {
           "color": "#2a3f5f"
          },
          "geo": {
           "bgcolor": "white",
           "lakecolor": "white",
           "landcolor": "#E5ECF6",
           "showlakes": true,
           "showland": true,
           "subunitcolor": "white"
          },
          "hoverlabel": {
           "align": "left"
          },
          "hovermode": "closest",
          "mapbox": {
           "style": "light"
          },
          "paper_bgcolor": "white",
          "plot_bgcolor": "#E5ECF6",
          "polar": {
           "angularaxis": {
            "gridcolor": "white",
            "linecolor": "white",
            "ticks": ""
           },
           "bgcolor": "#E5ECF6",
           "radialaxis": {
            "gridcolor": "white",
            "linecolor": "white",
            "ticks": ""
           }
          },
          "scene": {
           "xaxis": {
            "backgroundcolor": "#E5ECF6",
            "gridcolor": "white",
            "gridwidth": 2,
            "linecolor": "white",
            "showbackground": true,
            "ticks": "",
            "zerolinecolor": "white"
           },
           "yaxis": {
            "backgroundcolor": "#E5ECF6",
            "gridcolor": "white",
            "gridwidth": 2,
            "linecolor": "white",
            "showbackground": true,
            "ticks": "",
            "zerolinecolor": "white"
           },
           "zaxis": {
            "backgroundcolor": "#E5ECF6",
            "gridcolor": "white",
            "gridwidth": 2,
            "linecolor": "white",
            "showbackground": true,
            "ticks": "",
            "zerolinecolor": "white"
           }
          },
          "shapedefaults": {
           "line": {
            "color": "#2a3f5f"
           }
          },
          "ternary": {
           "aaxis": {
            "gridcolor": "white",
            "linecolor": "white",
            "ticks": ""
           },
           "baxis": {
            "gridcolor": "white",
            "linecolor": "white",
            "ticks": ""
           },
           "bgcolor": "#E5ECF6",
           "caxis": {
            "gridcolor": "white",
            "linecolor": "white",
            "ticks": ""
           }
          },
          "title": {
           "x": 0.05
          },
          "xaxis": {
           "automargin": true,
           "gridcolor": "white",
           "linecolor": "white",
           "ticks": "",
           "zerolinecolor": "white",
           "zerolinewidth": 2
          },
          "yaxis": {
           "automargin": true,
           "gridcolor": "white",
           "linecolor": "white",
           "ticks": "",
           "zerolinecolor": "white",
           "zerolinewidth": 2
          }
         }
        }
       }
      },
      "text/html": [
       "<div>\n",
       "        \n",
       "        \n",
       "            <div id=\"1a68adff-66d6-4eda-8a99-261aebb8491a\" class=\"plotly-graph-div\" style=\"height:525px; width:100%;\"></div>\n",
       "            <script type=\"text/javascript\">\n",
       "                require([\"plotly\"], function(Plotly) {\n",
       "                    window.PLOTLYENV=window.PLOTLYENV || {};\n",
       "                    \n",
       "                if (document.getElementById(\"1a68adff-66d6-4eda-8a99-261aebb8491a\")) {\n",
       "                    Plotly.newPlot(\n",
       "                        '1a68adff-66d6-4eda-8a99-261aebb8491a',\n",
       "                        [{\"mode\": \"lines+markers\", \"name\": \"Green Bay Packers\", \"type\": \"scatter\", \"x\": [2014, 2015, 2016, 2017, 2018], \"y\": [349, 348, 403, 352, 392]}, {\"mode\": \"lines+markers\", \"name\": \"Tampa Bay Buccaneers\", \"type\": \"scatter\", \"x\": [2014, 2015, 2016, 2017, 2018], \"y\": [301, 312, 355, 378, 408]}, {\"mode\": \"lines+markers\", \"name\": \"Dallas Cowboys\", \"type\": \"scatter\", \"x\": [2014, 2015, 2016, 2017, 2018], \"y\": [328, 334, 325, 309, 356]}, {\"mode\": \"lines+markers\", \"name\": \"Atlanta Falcons\", \"type\": \"scatter\", \"x\": [2014, 2015, 2016, 2017, 2018], \"y\": [418, 410, 374, 343, 428]}, {\"mode\": \"lines+markers\", \"name\": \"Los Angeles Rams\", \"type\": \"scatter\", \"x\": [2014, 2015, 2016, 2017, 2018], \"y\": [327, 273, 312, 320, 368]}, {\"mode\": \"lines+markers\", \"name\": \"Kansas City Chiefs\", \"type\": \"scatter\", \"x\": [2014, 2015, 2016, 2017, 2018], \"y\": [320, 310, 365, 363, 385]}, {\"mode\": \"lines+markers\", \"name\": \"Los Angeles Chargers\", \"type\": \"scatter\", \"x\": [2014, 2015, 2016, 2017, 2018], \"y\": [380, 442, 349, 366, 348]}, {\"mode\": \"lines+markers\", \"name\": \"New Orleans Saints\", \"type\": \"scatter\", \"x\": [2014, 2015, 2016, 2017, 2018], \"y\": [456, 460, 472, 386, 381]}, {\"mode\": \"lines+markers\", \"name\": \"New England Patriots\", \"type\": \"scatter\", \"x\": [2014, 2015, 2016, 2017, 2018], \"y\": [392, 404, 368, 389, 378]}, {\"mode\": \"lines+markers\", \"name\": \"Oakland Raiders\", \"type\": \"scatter\", \"x\": [2014, 2015, 2016, 2017, 2018], \"y\": [365, 373, 379, 347, 382]}, {\"mode\": \"lines+markers\", \"name\": \"Detroit Lions\", \"type\": \"scatter\", \"x\": [2014, 2015, 2016, 2017, 2018], \"y\": [365, 420, 388, 374, 375]}, {\"mode\": \"lines+markers\", \"name\": \"Philadelphia Eagles\", \"type\": \"scatter\", \"x\": [2014, 2015, 2016, 2017, 2018], \"y\": [384, 405, 380, 341, 422]}, {\"mode\": \"lines+markers\", \"name\": \"Miami Dolphins\", \"type\": \"scatter\", \"x\": [2014, 2015, 2016, 2017, 2018], \"y\": [394, 365, 316, 373, 292]}, {\"mode\": \"lines+markers\", \"name\": \"San Francisco 49ers\", \"type\": \"scatter\", \"x\": [2014, 2015, 2016, 2017, 2018], \"y\": [292, 322, 287, 362, 331]}, {\"mode\": \"lines+markers\", \"name\": \"Seattle Seahawks\", \"type\": \"scatter\", \"x\": [2014, 2015, 2016, 2017, 2018], \"y\": [287, 333, 368, 340, 280]}, {\"mode\": \"lines+markers\", \"name\": \"Houston Texans\", \"type\": \"scatter\", \"x\": [2014, 2015, 2016, 2017, 2018], \"y\": [295, 358, 347, 299, 345]}, {\"mode\": \"lines+markers\", \"name\": \"Jacksonville Jaguars\", \"type\": \"scatter\", \"x\": [2014, 2015, 2016, 2017, 2018], \"y\": [325, 355, 369, 316, 329]}, {\"mode\": \"lines+markers\", \"name\": \"New York Giants\", \"type\": \"scatter\", \"x\": [2014, 2015, 2016, 2017, 2018], \"y\": [383, 392, 377, 373, 382]}, {\"mode\": \"lines+markers\", \"name\": \"Cincinnati Bengals\", \"type\": \"scatter\", \"x\": [2014, 2015, 2016, 2017, 2018], \"y\": [323, 334, 364, 304, 331]}, {\"mode\": \"lines+markers\", \"name\": \"Carolina Panthers\", \"type\": \"scatter\", \"x\": [2014, 2015, 2016, 2017, 2018], \"y\": [327, 300, 306, 293, 378]}, {\"mode\": \"lines+markers\", \"name\": \"Tennessee Titans\", \"type\": \"scatter\", \"x\": [2014, 2015, 2016, 2017, 2018], \"y\": [299, 342, 307, 306, 293]}, {\"mode\": \"lines+markers\", \"name\": \"Cleveland Browns\", \"type\": \"scatter\", \"x\": [2014, 2015, 2016, 2017, 2018], \"y\": [274, 371, 338, 312, 353]}, {\"mode\": \"lines+markers\", \"name\": \"Minnesota Vikings\", \"type\": \"scatter\", \"x\": [2014, 2015, 2016, 2017, 2018], \"y\": [322, 294, 414, 357, 425]}, {\"mode\": \"lines+markers\", \"name\": \"Arizona Cardinals\", \"type\": \"scatter\", \"x\": [2014, 2015, 2016, 2017, 2018], \"y\": [320, 353, 383, 339, 283]}, {\"mode\": \"lines+markers\", \"name\": \"Chicago Bears\", \"type\": \"scatter\", \"x\": [2014, 2015, 2016, 2017, 2018], \"y\": [396, 334, 347, 291, 344]}, {\"mode\": \"lines+markers\", \"name\": \"Buffalo Bills\", \"type\": \"scatter\", \"x\": [2014, 2015, 2016, 2017, 2018], \"y\": [363, 295, 286, 289, 271]}, {\"mode\": \"lines+markers\", \"name\": \"Baltimore Ravens\", \"type\": \"scatter\", \"x\": [2014, 2015, 2016, 2017, 2018], \"y\": [344, 426, 439, 363, 334]}, {\"mode\": \"lines+markers\", \"name\": \"Denver Broncos\", \"type\": \"scatter\", \"x\": [2014, 2015, 2016, 2017, 2018], \"y\": [399, 368, 339, 332, 367]}, {\"mode\": \"lines+markers\", \"name\": \"New York Jets\", \"type\": \"scatter\", \"x\": [2014, 2015, 2016, 2017, 2018], \"y\": [287, 362, 311, 323, 299]}, {\"mode\": \"lines+markers\", \"name\": \"Indianapolis Colts\", \"type\": \"scatter\", \"x\": [2014, 2015, 2016, 2017, 2018], \"y\": [410, 355, 370, 285, 432]}, {\"mode\": \"lines+markers\", \"name\": \"Pittsburgh Steelers\", \"type\": \"scatter\", \"x\": [2014, 2015, 2016, 2017, 2018], \"y\": [411, 391, 381, 384, 459]}, {\"mode\": \"lines+markers\", \"name\": \"Washington Redskins\", \"type\": \"scatter\", \"x\": [2014, 2015, 2016, 2017, 2018], \"y\": [364, 386, 407, 347, 311]}],\n",
       "                        {\"template\": {\"data\": {\"bar\": [{\"error_x\": {\"color\": \"#2a3f5f\"}, \"error_y\": {\"color\": \"#2a3f5f\"}, \"marker\": {\"line\": {\"color\": \"#E5ECF6\", \"width\": 0.5}}, \"type\": \"bar\"}], \"barpolar\": [{\"marker\": {\"line\": {\"color\": \"#E5ECF6\", \"width\": 0.5}}, \"type\": \"barpolar\"}], \"carpet\": [{\"aaxis\": {\"endlinecolor\": \"#2a3f5f\", \"gridcolor\": \"white\", \"linecolor\": \"white\", \"minorgridcolor\": \"white\", \"startlinecolor\": \"#2a3f5f\"}, \"baxis\": {\"endlinecolor\": \"#2a3f5f\", \"gridcolor\": \"white\", \"linecolor\": \"white\", \"minorgridcolor\": \"white\", \"startlinecolor\": \"#2a3f5f\"}, \"type\": \"carpet\"}], \"choropleth\": [{\"colorbar\": {\"outlinewidth\": 0, \"ticks\": \"\"}, \"type\": \"choropleth\"}], \"contour\": [{\"colorbar\": {\"outlinewidth\": 0, \"ticks\": \"\"}, \"colorscale\": [[0.0, \"#0d0887\"], [0.1111111111111111, \"#46039f\"], [0.2222222222222222, \"#7201a8\"], [0.3333333333333333, \"#9c179e\"], [0.4444444444444444, \"#bd3786\"], [0.5555555555555556, \"#d8576b\"], [0.6666666666666666, \"#ed7953\"], [0.7777777777777778, \"#fb9f3a\"], [0.8888888888888888, \"#fdca26\"], [1.0, \"#f0f921\"]], \"type\": \"contour\"}], \"contourcarpet\": [{\"colorbar\": {\"outlinewidth\": 0, \"ticks\": \"\"}, \"type\": \"contourcarpet\"}], \"heatmap\": [{\"colorbar\": {\"outlinewidth\": 0, \"ticks\": \"\"}, \"colorscale\": [[0.0, \"#0d0887\"], [0.1111111111111111, \"#46039f\"], [0.2222222222222222, \"#7201a8\"], [0.3333333333333333, \"#9c179e\"], [0.4444444444444444, \"#bd3786\"], [0.5555555555555556, \"#d8576b\"], [0.6666666666666666, \"#ed7953\"], [0.7777777777777778, \"#fb9f3a\"], [0.8888888888888888, \"#fdca26\"], [1.0, \"#f0f921\"]], \"type\": \"heatmap\"}], \"heatmapgl\": [{\"colorbar\": {\"outlinewidth\": 0, \"ticks\": \"\"}, \"colorscale\": [[0.0, \"#0d0887\"], [0.1111111111111111, \"#46039f\"], [0.2222222222222222, \"#7201a8\"], [0.3333333333333333, \"#9c179e\"], [0.4444444444444444, \"#bd3786\"], [0.5555555555555556, \"#d8576b\"], [0.6666666666666666, \"#ed7953\"], [0.7777777777777778, \"#fb9f3a\"], [0.8888888888888888, \"#fdca26\"], [1.0, \"#f0f921\"]], \"type\": \"heatmapgl\"}], \"histogram\": [{\"marker\": {\"colorbar\": {\"outlinewidth\": 0, \"ticks\": \"\"}}, \"type\": \"histogram\"}], \"histogram2d\": [{\"colorbar\": {\"outlinewidth\": 0, \"ticks\": \"\"}, \"colorscale\": [[0.0, \"#0d0887\"], [0.1111111111111111, \"#46039f\"], [0.2222222222222222, \"#7201a8\"], [0.3333333333333333, \"#9c179e\"], [0.4444444444444444, \"#bd3786\"], [0.5555555555555556, \"#d8576b\"], [0.6666666666666666, \"#ed7953\"], [0.7777777777777778, \"#fb9f3a\"], [0.8888888888888888, \"#fdca26\"], [1.0, \"#f0f921\"]], \"type\": \"histogram2d\"}], \"histogram2dcontour\": [{\"colorbar\": {\"outlinewidth\": 0, \"ticks\": \"\"}, \"colorscale\": [[0.0, \"#0d0887\"], [0.1111111111111111, \"#46039f\"], [0.2222222222222222, \"#7201a8\"], [0.3333333333333333, \"#9c179e\"], [0.4444444444444444, \"#bd3786\"], [0.5555555555555556, \"#d8576b\"], [0.6666666666666666, \"#ed7953\"], [0.7777777777777778, \"#fb9f3a\"], [0.8888888888888888, \"#fdca26\"], [1.0, \"#f0f921\"]], \"type\": \"histogram2dcontour\"}], \"mesh3d\": [{\"colorbar\": {\"outlinewidth\": 0, \"ticks\": \"\"}, \"type\": \"mesh3d\"}], \"parcoords\": [{\"line\": {\"colorbar\": {\"outlinewidth\": 0, \"ticks\": \"\"}}, \"type\": \"parcoords\"}], \"scatter\": [{\"marker\": {\"colorbar\": {\"outlinewidth\": 0, \"ticks\": \"\"}}, \"type\": \"scatter\"}], \"scatter3d\": [{\"line\": {\"colorbar\": {\"outlinewidth\": 0, \"ticks\": \"\"}}, \"marker\": {\"colorbar\": {\"outlinewidth\": 0, \"ticks\": \"\"}}, \"type\": \"scatter3d\"}], \"scattercarpet\": [{\"marker\": {\"colorbar\": {\"outlinewidth\": 0, \"ticks\": \"\"}}, \"type\": \"scattercarpet\"}], \"scattergeo\": [{\"marker\": {\"colorbar\": {\"outlinewidth\": 0, \"ticks\": \"\"}}, \"type\": \"scattergeo\"}], \"scattergl\": [{\"marker\": {\"colorbar\": {\"outlinewidth\": 0, \"ticks\": \"\"}}, \"type\": \"scattergl\"}], \"scattermapbox\": [{\"marker\": {\"colorbar\": {\"outlinewidth\": 0, \"ticks\": \"\"}}, \"type\": \"scattermapbox\"}], \"scatterpolar\": [{\"marker\": {\"colorbar\": {\"outlinewidth\": 0, \"ticks\": \"\"}}, \"type\": \"scatterpolar\"}], \"scatterpolargl\": [{\"marker\": {\"colorbar\": {\"outlinewidth\": 0, \"ticks\": \"\"}}, \"type\": \"scatterpolargl\"}], \"scatterternary\": [{\"marker\": {\"colorbar\": {\"outlinewidth\": 0, \"ticks\": \"\"}}, \"type\": \"scatterternary\"}], \"surface\": [{\"colorbar\": {\"outlinewidth\": 0, \"ticks\": \"\"}, \"colorscale\": [[0.0, \"#0d0887\"], [0.1111111111111111, \"#46039f\"], [0.2222222222222222, \"#7201a8\"], [0.3333333333333333, \"#9c179e\"], [0.4444444444444444, \"#bd3786\"], [0.5555555555555556, \"#d8576b\"], [0.6666666666666666, \"#ed7953\"], [0.7777777777777778, \"#fb9f3a\"], [0.8888888888888888, \"#fdca26\"], [1.0, \"#f0f921\"]], \"type\": \"surface\"}], \"table\": [{\"cells\": {\"fill\": {\"color\": \"#EBF0F8\"}, \"line\": {\"color\": \"white\"}}, \"header\": {\"fill\": {\"color\": \"#C8D4E3\"}, \"line\": {\"color\": \"white\"}}, \"type\": \"table\"}]}, \"layout\": {\"annotationdefaults\": {\"arrowcolor\": \"#2a3f5f\", \"arrowhead\": 0, \"arrowwidth\": 1}, \"colorscale\": {\"diverging\": [[0, \"#8e0152\"], [0.1, \"#c51b7d\"], [0.2, \"#de77ae\"], [0.3, \"#f1b6da\"], [0.4, \"#fde0ef\"], [0.5, \"#f7f7f7\"], [0.6, \"#e6f5d0\"], [0.7, \"#b8e186\"], [0.8, \"#7fbc41\"], [0.9, \"#4d9221\"], [1, \"#276419\"]], \"sequential\": [[0.0, \"#0d0887\"], [0.1111111111111111, \"#46039f\"], [0.2222222222222222, \"#7201a8\"], [0.3333333333333333, \"#9c179e\"], [0.4444444444444444, \"#bd3786\"], [0.5555555555555556, \"#d8576b\"], [0.6666666666666666, \"#ed7953\"], [0.7777777777777778, \"#fb9f3a\"], [0.8888888888888888, \"#fdca26\"], [1.0, \"#f0f921\"]], \"sequentialminus\": [[0.0, \"#0d0887\"], [0.1111111111111111, \"#46039f\"], [0.2222222222222222, \"#7201a8\"], [0.3333333333333333, \"#9c179e\"], [0.4444444444444444, \"#bd3786\"], [0.5555555555555556, \"#d8576b\"], [0.6666666666666666, \"#ed7953\"], [0.7777777777777778, \"#fb9f3a\"], [0.8888888888888888, \"#fdca26\"], [1.0, \"#f0f921\"]]}, \"colorway\": [\"#636efa\", \"#EF553B\", \"#00cc96\", \"#ab63fa\", \"#FFA15A\", \"#19d3f3\", \"#FF6692\", \"#B6E880\", \"#FF97FF\", \"#FECB52\"], \"font\": {\"color\": \"#2a3f5f\"}, \"geo\": {\"bgcolor\": \"white\", \"lakecolor\": \"white\", \"landcolor\": \"#E5ECF6\", \"showlakes\": true, \"showland\": true, \"subunitcolor\": \"white\"}, \"hoverlabel\": {\"align\": \"left\"}, \"hovermode\": \"closest\", \"mapbox\": {\"style\": \"light\"}, \"paper_bgcolor\": \"white\", \"plot_bgcolor\": \"#E5ECF6\", \"polar\": {\"angularaxis\": {\"gridcolor\": \"white\", \"linecolor\": \"white\", \"ticks\": \"\"}, \"bgcolor\": \"#E5ECF6\", \"radialaxis\": {\"gridcolor\": \"white\", \"linecolor\": \"white\", \"ticks\": \"\"}}, \"scene\": {\"xaxis\": {\"backgroundcolor\": \"#E5ECF6\", \"gridcolor\": \"white\", \"gridwidth\": 2, \"linecolor\": \"white\", \"showbackground\": true, \"ticks\": \"\", \"zerolinecolor\": \"white\"}, \"yaxis\": {\"backgroundcolor\": \"#E5ECF6\", \"gridcolor\": \"white\", \"gridwidth\": 2, \"linecolor\": \"white\", \"showbackground\": true, \"ticks\": \"\", \"zerolinecolor\": \"white\"}, \"zaxis\": {\"backgroundcolor\": \"#E5ECF6\", \"gridcolor\": \"white\", \"gridwidth\": 2, \"linecolor\": \"white\", \"showbackground\": true, \"ticks\": \"\", \"zerolinecolor\": \"white\"}}, \"shapedefaults\": {\"line\": {\"color\": \"#2a3f5f\"}}, \"ternary\": {\"aaxis\": {\"gridcolor\": \"white\", \"linecolor\": \"white\", \"ticks\": \"\"}, \"baxis\": {\"gridcolor\": \"white\", \"linecolor\": \"white\", \"ticks\": \"\"}, \"bgcolor\": \"#E5ECF6\", \"caxis\": {\"gridcolor\": \"white\", \"linecolor\": \"white\", \"ticks\": \"\"}}, \"title\": {\"x\": 0.05}, \"xaxis\": {\"automargin\": true, \"gridcolor\": \"white\", \"linecolor\": \"white\", \"ticks\": \"\", \"zerolinecolor\": \"white\", \"zerolinewidth\": 2}, \"yaxis\": {\"automargin\": true, \"gridcolor\": \"white\", \"linecolor\": \"white\", \"ticks\": \"\", \"zerolinecolor\": \"white\", \"zerolinewidth\": 2}}}},\n",
       "                        {\"responsive\": true}\n",
       "                    ).then(function(){\n",
       "                            \n",
       "var gd = document.getElementById('1a68adff-66d6-4eda-8a99-261aebb8491a');\n",
       "var x = new MutationObserver(function (mutations, observer) {{\n",
       "        var display = window.getComputedStyle(gd).display;\n",
       "        if (!display || display === 'none') {{\n",
       "            console.log([gd, 'removed!']);\n",
       "            Plotly.purge(gd);\n",
       "            observer.disconnect();\n",
       "        }}\n",
       "}});\n",
       "\n",
       "// Listen for the removal of the full notebook cells\n",
       "var notebookContainer = gd.closest('#notebook-container');\n",
       "if (notebookContainer) {{\n",
       "    x.observe(notebookContainer, {childList: true});\n",
       "}}\n",
       "\n",
       "// Listen for the clearing of the current output cell\n",
       "var outputEl = gd.closest('.output');\n",
       "if (outputEl) {{\n",
       "    x.observe(outputEl, {childList: true});\n",
       "}}\n",
       "\n",
       "                        })\n",
       "                };\n",
       "                });\n",
       "            </script>\n",
       "        </div>"
      ]
     },
     "metadata": {},
     "output_type": "display_data"
    }
   ],
   "source": [
    "fig = go.Figure()\n",
    "\n",
    "# Add traces\n",
    "fig.add_trace(go.Scatter(x=year, y=gbPackers_cmd,\n",
    "                    mode='lines+markers',\n",
    "                    name='Green Bay Packers'))\n",
    "fig.add_trace(go.Scatter(x=year, y=tBay_cmd,\n",
    "                    mode='lines+markers',\n",
    "                    name='Tampa Bay Buccaneers'))\n",
    "fig.add_trace(go.Scatter(x=year, y=dallas_cmd,\n",
    "                    mode='lines+markers',\n",
    "                    name='Dallas Cowboys'))\n",
    "\n",
    "fig.add_trace(go.Scatter(x=year, y=atlanta_cmd,\n",
    "                    mode='lines+markers',\n",
    "                    name='Atlanta Falcons'))\n",
    "fig.add_trace(go.Scatter(x=year, y=rams_cmd,\n",
    "                    mode='lines+markers',\n",
    "                    name='Los Angeles Rams'))\n",
    "fig.add_trace(go.Scatter(x=year, y=kansas_cmd,\n",
    "                    mode='lines+markers',\n",
    "                    name='Kansas City Chiefs'))\n",
    "\n",
    "fig.add_trace(go.Scatter(x=year, y=chargers_cmd,\n",
    "                    mode='lines+markers',\n",
    "                    name='Los Angeles Chargers'))\n",
    "fig.add_trace(go.Scatter(x=year, y=orleands_cmd,\n",
    "                    mode='lines+markers',\n",
    "                    name='New Orleans Saints'))\n",
    "fig.add_trace(go.Scatter(x=year, y=england_cmd,\n",
    "                    mode='lines+markers',\n",
    "                    name='New England Patriots'))\n",
    "\n",
    "fig.add_trace(go.Scatter(x=year, y=oak_cmd,\n",
    "                    mode='lines+markers',\n",
    "                    name='Oakland Raiders'))\n",
    "fig.add_trace(go.Scatter(x=year, y=detroid_cmd,\n",
    "                    mode='lines+markers',\n",
    "                    name='Detroit Lions'))\n",
    "fig.add_trace(go.Scatter(x=year, y=philadelphia_cmd,\n",
    "                    mode='lines+markers',\n",
    "                    name='Philadelphia Eagles'))\n",
    "\n",
    "fig.add_trace(go.Scatter(x=year, y=miami_cmd,\n",
    "                    mode='lines+markers',\n",
    "                    name='Miami Dolphins'))\n",
    "fig.add_trace(go.Scatter(x=year, y=san_francisco_cmd,\n",
    "                    mode='lines+markers',\n",
    "                    name='San Francisco 49ers'))\n",
    "fig.add_trace(go.Scatter(x=year, y=seattle_cmd,\n",
    "                    mode='lines+markers',\n",
    "                    name='Seattle Seahawks'))\n",
    "\n",
    "fig.add_trace(go.Scatter(x=year, y=houston_cmd,\n",
    "                    mode='lines+markers',\n",
    "                    name='Houston Texans'))\n",
    "fig.add_trace(go.Scatter(x=year, y=jacksonville_cmd,\n",
    "                    mode='lines+markers',\n",
    "                    name='Jacksonville Jaguars'))\n",
    "fig.add_trace(go.Scatter(x=year, y=giants_cmd,\n",
    "                    mode='lines+markers',\n",
    "                    name='New York Giants'))\n",
    "\n",
    "fig.add_trace(go.Scatter(x=year, y=cincinnati_cmd,\n",
    "                    mode='lines+markers',\n",
    "                    name='Cincinnati Bengals'))\n",
    "fig.add_trace(go.Scatter(x=year, y=carolina_cmd,\n",
    "                    mode='lines+markers',\n",
    "                    name='Carolina Panthers'))\n",
    "fig.add_trace(go.Scatter(x=year, y=tenessee_cmd,\n",
    "                    mode='lines+markers',\n",
    "                    name='Tennessee Titans'))\n",
    "\n",
    "fig.add_trace(go.Scatter(x=year, y=cleveland_cmd,\n",
    "                    mode='lines+markers',\n",
    "                    name='Cleveland Browns'))\n",
    "fig.add_trace(go.Scatter(x=year, y=minnesota_cmd,\n",
    "                    mode='lines+markers',\n",
    "                    name='Minnesota Vikings'))\n",
    "fig.add_trace(go.Scatter(x=year, y=arizona_cmd,\n",
    "                    mode='lines+markers',\n",
    "                    name='Arizona Cardinals'))\n",
    "\n",
    "fig.add_trace(go.Scatter(x=year, y=chicago_cmd,\n",
    "                    mode='lines+markers',\n",
    "                    name='Chicago Bears'))\n",
    "fig.add_trace(go.Scatter(x=year, y=buffalo_cmd,\n",
    "                    mode='lines+markers',\n",
    "                    name='Buffalo Bills'))\n",
    "fig.add_trace(go.Scatter(x=year, y=baltimore_cmd,\n",
    "                    mode='lines+markers',\n",
    "                    name='Baltimore Ravens'))\n",
    "\n",
    "fig.add_trace(go.Scatter(x=year, y=denver_cmd,\n",
    "                    mode='lines+markers',\n",
    "                    name='Denver Broncos'))\n",
    "fig.add_trace(go.Scatter(x=year, y=jets_cmd,\n",
    "                    mode='lines+markers',\n",
    "                    name='New York Jets'))\n",
    "fig.add_trace(go.Scatter(x=year, y=inianapolis_cmd,\n",
    "                    mode='lines+markers',\n",
    "                    name='Indianapolis Colts'))\n",
    "\n",
    "fig.add_trace(go.Scatter(x=year, y=pittsburgh_cmd,\n",
    "                    mode='lines+markers',\n",
    "                    name='Pittsburgh Steelers'))\n",
    "fig.add_trace(go.Scatter(x=year, y=washington_cmd,\n",
    "                    mode='lines+markers',\n",
    "                    name='Washington Redskins'))\n",
    "\n",
    "fig.show()"
   ]
  },
  {
   "cell_type": "markdown",
   "metadata": {},
   "source": [
    "## Porcentaje Pases Completados"
   ]
  },
  {
   "cell_type": "code",
   "execution_count": 6,
   "metadata": {},
   "outputs": [],
   "source": [
    "gbPackers_pct = gbPackers_passing.iloc[:, 4].values\n",
    "tBay_pct = tBay_passing.iloc[:, 4].values\n",
    "dallas_pct = dallas_passing.iloc[:, 4].values\n",
    "atlanta_pct = atlanta_passing.iloc[:, 4].values\n",
    "rams_pct = rams_passing.iloc[:, 4].values\n",
    "kansas_pct = kansas_passing.iloc[:, 4].values\n",
    "chargers_pct = chargers_passing.iloc[:, 4].values\n",
    "orleands_pct = orleands_passing.iloc[:, 4].values\n",
    "england_pct = england_passing.iloc[:, 4].values\n",
    "oak_pct = oak_passing.iloc[:, 4].values\n",
    "detroid_pct = detroid_passing.iloc[:, 4].values\n",
    "philadelphia_pct = philadelphia_passing.iloc[:, 4].values\n",
    "miami_pct = miami_passing.iloc[:, 4].values\n",
    "san_francisco_pct = san_francisco_passing.iloc[:, 4].values\n",
    "seattle_pct = seattle_passing.iloc[:, 4].values\n",
    "houston_pct = houston_passing.iloc[:, 4].values\n",
    "jacksonville_pct = jacksonville_passing.iloc[:, 4].values\n",
    "giants_pct = giants_passing.iloc[:, 4].values\n",
    "cincinnati_pct = cincinnati_passing.iloc[:, 4].values\n",
    "carolina_pct = carolina_passing.iloc[:, 4].values\n",
    "tenessee_pct = tenessee_passing.iloc[:, 4].values\n",
    "cleveland_pct = cleveland_passing.iloc[:, 4].values\n",
    "minnesota_pct = minnesota_passing.iloc[:, 4].values\n",
    "arizona_pct = arizona_passing.iloc[:, 4].values\n",
    "chicago_pct = chicago_passing.iloc[:, 4].values\n",
    "buffalo_pct = buffalo_passing.iloc[:, 4].values\n",
    "baltimore_pct = baltimore_passing.iloc[:, 4].values\n",
    "denver_pct = denver_passing.iloc[:, 4].values\n",
    "jets_pct = jets_passing.iloc[:, 4].values\n",
    "inianapolis_pct = inianapolis_passing.iloc[:, 4].values\n",
    "pittsburgh_pct = pittsburgh_passing.iloc[:, 4].values\n",
    "washington_pct = washington_passing.iloc[:, 4].values"
   ]
  },
  {
   "cell_type": "code",
   "execution_count": 7,
   "metadata": {},
   "outputs": [
    {
     "data": {
      "application/vnd.plotly.v1+json": {
       "config": {
        "plotlyServerURL": "https://plot.ly"
       },
       "data": [
        {
         "mode": "lines+markers",
         "name": "Green Bay Packers",
         "type": "scatter",
         "x": [
          2014,
          2015,
          2016,
          2017,
          2018
         ],
         "y": [
          65.1,
          60.7,
          65,
          62.6,
          61.2
         ]
        },
        {
         "mode": "lines+markers",
         "name": "Tampa Bay Buccaneers",
         "type": "scatter",
         "x": [
          2014,
          2015,
          2016,
          2017,
          2018
         ],
         "y": [
          56.7,
          58.3,
          61.4,
          62.5,
          65.3
         ]
        },
        {
         "mode": "lines+markers",
         "name": "Dallas Cowboys",
         "type": "scatter",
         "x": [
          2014,
          2015,
          2016,
          2017,
          2018
         ],
         "y": [
          68.9,
          63.3,
          67.3,
          62.7,
          67.6
         ]
        },
        {
         "mode": "lines+markers",
         "name": "Atlanta Falcons",
         "type": "scatter",
         "x": [
          2014,
          2015,
          2016,
          2017,
          2018
         ],
         "y": [
          66.1,
          66,
          69.6,
          64.7,
          69.4
         ]
        },
        {
         "mode": "lines+markers",
         "name": "Los Angeles Rams",
         "type": "scatter",
         "x": [
          2014,
          2015,
          2016,
          2017,
          2018
         ],
         "y": [
          63.5,
          57.7,
          58.2,
          61.8,
          64.8
         ]
        },
        {
         "mode": "lines+markers",
         "name": "Kansas City Chiefs",
         "type": "scatter",
         "x": [
          2014,
          2015,
          2016,
          2017,
          2018
         ],
         "y": [
          64.9,
          65.5,
          66.8,
          66.9,
          66
         ]
        },
        {
         "mode": "lines+markers",
         "name": "Los Angeles Chargers",
         "type": "scatter",
         "x": [
          2014,
          2015,
          2016,
          2017,
          2018
         ],
         "y": [
          66.2,
          66.3,
          60.2,
          62.8,
          68
         ]
        },
        {
         "mode": "lines+markers",
         "name": "New Orleans Saints",
         "type": "scatter",
         "x": [
          2014,
          2015,
          2016,
          2017,
          2018
         ],
         "y": [
          69.2,
          69,
          70,
          72,
          73.4
         ]
        },
        {
         "mode": "lines+markers",
         "name": "New England Patriots",
         "type": "scatter",
         "x": [
          2014,
          2015,
          2016,
          2017,
          2018
         ],
         "y": [
          64.4,
          64.2,
          66.9,
          66.3,
          65.9
         ]
        },
        {
         "mode": "lines+markers",
         "name": "Oakland Raiders",
         "type": "scatter",
         "x": [
          2014,
          2015,
          2016,
          2017,
          2018
         ],
         "y": [
          58,
          61.7,
          63.6,
          62.2,
          68.7
         ]
        },
        {
         "mode": "lines+markers",
         "name": "Detroit Lions",
         "type": "scatter",
         "x": [
          2014,
          2015,
          2016,
          2017,
          2018
         ],
         "y": [
          60.4,
          66.5,
          65.3,
          65.6,
          65.3
         ]
        },
        {
         "mode": "lines+markers",
         "name": "Philadelphia Eagles",
         "type": "scatter",
         "x": [
          2014,
          2015,
          2016,
          2017,
          2018
         ],
         "y": [
          61.8,
          65,
          62.4,
          60.5,
          70.5
         ]
        },
        {
         "mode": "lines+markers",
         "name": "Miami Dolphins",
         "type": "scatter",
         "x": [
          2014,
          2015,
          2016,
          2017,
          2018
         ],
         "y": [
          66.2,
          62.1,
          66.2,
          62,
          64.2
         ]
        },
        {
         "mode": "lines+markers",
         "name": "San Francisco 49ers",
         "type": "scatter",
         "x": [
          2014,
          2015,
          2016,
          2017,
          2018
         ],
         "y": [
          60,
          61.2,
          58.5,
          59.6,
          62.2
         ]
        },
        {
         "mode": "lines+markers",
         "name": "Seattle Seahawks",
         "type": "scatter",
         "x": [
          2014,
          2015,
          2016,
          2017,
          2018
         ],
         "y": [
          63.2,
          68.1,
          64.9,
          61.3,
          65.6
         ]
        },
        {
         "mode": "lines+markers",
         "name": "Houston Texans",
         "type": "scatter",
         "x": [
          2014,
          2015,
          2016,
          2017,
          2018
         ],
         "y": [
          60.8,
          57.8,
          59.5,
          57,
          68.2
         ]
        },
        {
         "mode": "lines+markers",
         "name": "Jacksonville Jaguars",
         "type": "scatter",
         "x": [
          2014,
          2015,
          2016,
          2017,
          2018
         ],
         "y": [
          58.3,
          58.5,
          58.9,
          60,
          61.4
         ]
        },
        {
         "mode": "lines+markers",
         "name": "New York Giants",
         "type": "scatter",
         "x": [
          2014,
          2015,
          2016,
          2017,
          2018
         ],
         "y": [
          63.1,
          62.9,
          63,
          61.3,
          65.5
         ]
        },
        {
         "mode": "lines+markers",
         "name": "Cincinnati Bengals",
         "type": "scatter",
         "x": [
          2014,
          2015,
          2016,
          2017,
          2018
         ],
         "y": [
          64.2,
          66.1,
          64.7,
          59.6,
          61.1
         ]
        },
        {
         "mode": "lines+markers",
         "name": "Carolina Panthers",
         "type": "scatter",
         "x": [
          2014,
          2015,
          2016,
          2017,
          2018
         ],
         "y": [
          60,
          59.9,
          54.4,
          58.5,
          67.1
         ]
        },
        {
         "mode": "lines+markers",
         "name": "Tennessee Titans",
         "type": "scatter",
         "x": [
          2014,
          2015,
          2016,
          2017,
          2018
         ],
         "y": [
          58.3,
          62.1,
          60.9,
          61.7,
          67
         ]
        },
        {
         "mode": "lines+markers",
         "name": "Cleveland Browns",
         "type": "scatter",
         "x": [
          2014,
          2015,
          2016,
          2017,
          2018
         ],
         "y": [
          54.6,
          60.9,
          59.6,
          54.4,
          61.5
         ]
        },
        {
         "mode": "lines+markers",
         "name": "Minnesota Vikings",
         "type": "scatter",
         "x": [
          2014,
          2015,
          2016,
          2017,
          2018
         ],
         "y": [
          62.3,
          64.8,
          70.4,
          67.7,
          70.1
         ]
        },
        {
         "mode": "lines+markers",
         "name": "Arizona Cardinals",
         "type": "scatter",
         "x": [
          2014,
          2015,
          2016,
          2017,
          2018
         ],
         "y": [
          56.3,
          62.8,
          59.3,
          56.7,
          57.2
         ]
        },
        {
         "mode": "lines+markers",
         "name": "Chicago Bears",
         "type": "scatter",
         "x": [
          2014,
          2015,
          2016,
          2017,
          2018
         ],
         "y": [
          65,
          63.9,
          62.1,
          61.5,
          67.2
         ]
        },
        {
         "mode": "lines+markers",
         "name": "Buffalo Bills",
         "type": "scatter",
         "x": [
          2014,
          2015,
          2016,
          2017,
          2018
         ],
         "y": [
          62.7,
          63.4,
          60.3,
          60.7,
          54.3
         ]
        },
        {
         "mode": "lines+markers",
         "name": "Baltimore Ravens",
         "type": "scatter",
         "x": [
          2014,
          2015,
          2016,
          2017,
          2018
         ],
         "y": [
          62.1,
          63,
          64.7,
          64,
          60.1
         ]
        },
        {
         "mode": "lines+markers",
         "name": "Denver Broncos",
         "type": "scatter",
         "x": [
          2014,
          2015,
          2016,
          2017,
          2018
         ],
         "y": [
          65.7,
          60.7,
          59.5,
          58.7,
          62.4
         ]
        },
        {
         "mode": "lines+markers",
         "name": "New York Jets",
         "type": "scatter",
         "x": [
          2014,
          2015,
          2016,
          2017,
          2018
         ],
         "y": [
          57.6,
          59.9,
          56.5,
          63.3,
          57.1
         ]
        },
        {
         "mode": "lines+markers",
         "name": "Indianapolis Colts",
         "type": "scatter",
         "x": [
          2014,
          2015,
          2016,
          2017,
          2018
         ],
         "y": [
          62,
          57.4,
          63.4,
          58.5,
          67.1
         ]
        },
        {
         "mode": "lines+markers",
         "name": "Pittsburgh Steelers",
         "type": "scatter",
         "x": [
          2014,
          2015,
          2016,
          2017,
          2018
         ],
         "y": [
          67.2,
          66.3,
          63.9,
          65.1,
          66.6
         ]
        },
        {
         "mode": "lines+markers",
         "name": "Washington Redskins",
         "type": "scatter",
         "x": [
          2014,
          2015,
          2016,
          2017,
          2018
         ],
         "y": [
          66.5,
          69.5,
          67.1,
          64.3,
          61.1
         ]
        }
       ],
       "layout": {
        "template": {
         "data": {
          "bar": [
           {
            "error_x": {
             "color": "#2a3f5f"
            },
            "error_y": {
             "color": "#2a3f5f"
            },
            "marker": {
             "line": {
              "color": "#E5ECF6",
              "width": 0.5
             }
            },
            "type": "bar"
           }
          ],
          "barpolar": [
           {
            "marker": {
             "line": {
              "color": "#E5ECF6",
              "width": 0.5
             }
            },
            "type": "barpolar"
           }
          ],
          "carpet": [
           {
            "aaxis": {
             "endlinecolor": "#2a3f5f",
             "gridcolor": "white",
             "linecolor": "white",
             "minorgridcolor": "white",
             "startlinecolor": "#2a3f5f"
            },
            "baxis": {
             "endlinecolor": "#2a3f5f",
             "gridcolor": "white",
             "linecolor": "white",
             "minorgridcolor": "white",
             "startlinecolor": "#2a3f5f"
            },
            "type": "carpet"
           }
          ],
          "choropleth": [
           {
            "colorbar": {
             "outlinewidth": 0,
             "ticks": ""
            },
            "type": "choropleth"
           }
          ],
          "contour": [
           {
            "colorbar": {
             "outlinewidth": 0,
             "ticks": ""
            },
            "colorscale": [
             [
              0,
              "#0d0887"
             ],
             [
              0.1111111111111111,
              "#46039f"
             ],
             [
              0.2222222222222222,
              "#7201a8"
             ],
             [
              0.3333333333333333,
              "#9c179e"
             ],
             [
              0.4444444444444444,
              "#bd3786"
             ],
             [
              0.5555555555555556,
              "#d8576b"
             ],
             [
              0.6666666666666666,
              "#ed7953"
             ],
             [
              0.7777777777777778,
              "#fb9f3a"
             ],
             [
              0.8888888888888888,
              "#fdca26"
             ],
             [
              1,
              "#f0f921"
             ]
            ],
            "type": "contour"
           }
          ],
          "contourcarpet": [
           {
            "colorbar": {
             "outlinewidth": 0,
             "ticks": ""
            },
            "type": "contourcarpet"
           }
          ],
          "heatmap": [
           {
            "colorbar": {
             "outlinewidth": 0,
             "ticks": ""
            },
            "colorscale": [
             [
              0,
              "#0d0887"
             ],
             [
              0.1111111111111111,
              "#46039f"
             ],
             [
              0.2222222222222222,
              "#7201a8"
             ],
             [
              0.3333333333333333,
              "#9c179e"
             ],
             [
              0.4444444444444444,
              "#bd3786"
             ],
             [
              0.5555555555555556,
              "#d8576b"
             ],
             [
              0.6666666666666666,
              "#ed7953"
             ],
             [
              0.7777777777777778,
              "#fb9f3a"
             ],
             [
              0.8888888888888888,
              "#fdca26"
             ],
             [
              1,
              "#f0f921"
             ]
            ],
            "type": "heatmap"
           }
          ],
          "heatmapgl": [
           {
            "colorbar": {
             "outlinewidth": 0,
             "ticks": ""
            },
            "colorscale": [
             [
              0,
              "#0d0887"
             ],
             [
              0.1111111111111111,
              "#46039f"
             ],
             [
              0.2222222222222222,
              "#7201a8"
             ],
             [
              0.3333333333333333,
              "#9c179e"
             ],
             [
              0.4444444444444444,
              "#bd3786"
             ],
             [
              0.5555555555555556,
              "#d8576b"
             ],
             [
              0.6666666666666666,
              "#ed7953"
             ],
             [
              0.7777777777777778,
              "#fb9f3a"
             ],
             [
              0.8888888888888888,
              "#fdca26"
             ],
             [
              1,
              "#f0f921"
             ]
            ],
            "type": "heatmapgl"
           }
          ],
          "histogram": [
           {
            "marker": {
             "colorbar": {
              "outlinewidth": 0,
              "ticks": ""
             }
            },
            "type": "histogram"
           }
          ],
          "histogram2d": [
           {
            "colorbar": {
             "outlinewidth": 0,
             "ticks": ""
            },
            "colorscale": [
             [
              0,
              "#0d0887"
             ],
             [
              0.1111111111111111,
              "#46039f"
             ],
             [
              0.2222222222222222,
              "#7201a8"
             ],
             [
              0.3333333333333333,
              "#9c179e"
             ],
             [
              0.4444444444444444,
              "#bd3786"
             ],
             [
              0.5555555555555556,
              "#d8576b"
             ],
             [
              0.6666666666666666,
              "#ed7953"
             ],
             [
              0.7777777777777778,
              "#fb9f3a"
             ],
             [
              0.8888888888888888,
              "#fdca26"
             ],
             [
              1,
              "#f0f921"
             ]
            ],
            "type": "histogram2d"
           }
          ],
          "histogram2dcontour": [
           {
            "colorbar": {
             "outlinewidth": 0,
             "ticks": ""
            },
            "colorscale": [
             [
              0,
              "#0d0887"
             ],
             [
              0.1111111111111111,
              "#46039f"
             ],
             [
              0.2222222222222222,
              "#7201a8"
             ],
             [
              0.3333333333333333,
              "#9c179e"
             ],
             [
              0.4444444444444444,
              "#bd3786"
             ],
             [
              0.5555555555555556,
              "#d8576b"
             ],
             [
              0.6666666666666666,
              "#ed7953"
             ],
             [
              0.7777777777777778,
              "#fb9f3a"
             ],
             [
              0.8888888888888888,
              "#fdca26"
             ],
             [
              1,
              "#f0f921"
             ]
            ],
            "type": "histogram2dcontour"
           }
          ],
          "mesh3d": [
           {
            "colorbar": {
             "outlinewidth": 0,
             "ticks": ""
            },
            "type": "mesh3d"
           }
          ],
          "parcoords": [
           {
            "line": {
             "colorbar": {
              "outlinewidth": 0,
              "ticks": ""
             }
            },
            "type": "parcoords"
           }
          ],
          "scatter": [
           {
            "marker": {
             "colorbar": {
              "outlinewidth": 0,
              "ticks": ""
             }
            },
            "type": "scatter"
           }
          ],
          "scatter3d": [
           {
            "line": {
             "colorbar": {
              "outlinewidth": 0,
              "ticks": ""
             }
            },
            "marker": {
             "colorbar": {
              "outlinewidth": 0,
              "ticks": ""
             }
            },
            "type": "scatter3d"
           }
          ],
          "scattercarpet": [
           {
            "marker": {
             "colorbar": {
              "outlinewidth": 0,
              "ticks": ""
             }
            },
            "type": "scattercarpet"
           }
          ],
          "scattergeo": [
           {
            "marker": {
             "colorbar": {
              "outlinewidth": 0,
              "ticks": ""
             }
            },
            "type": "scattergeo"
           }
          ],
          "scattergl": [
           {
            "marker": {
             "colorbar": {
              "outlinewidth": 0,
              "ticks": ""
             }
            },
            "type": "scattergl"
           }
          ],
          "scattermapbox": [
           {
            "marker": {
             "colorbar": {
              "outlinewidth": 0,
              "ticks": ""
             }
            },
            "type": "scattermapbox"
           }
          ],
          "scatterpolar": [
           {
            "marker": {
             "colorbar": {
              "outlinewidth": 0,
              "ticks": ""
             }
            },
            "type": "scatterpolar"
           }
          ],
          "scatterpolargl": [
           {
            "marker": {
             "colorbar": {
              "outlinewidth": 0,
              "ticks": ""
             }
            },
            "type": "scatterpolargl"
           }
          ],
          "scatterternary": [
           {
            "marker": {
             "colorbar": {
              "outlinewidth": 0,
              "ticks": ""
             }
            },
            "type": "scatterternary"
           }
          ],
          "surface": [
           {
            "colorbar": {
             "outlinewidth": 0,
             "ticks": ""
            },
            "colorscale": [
             [
              0,
              "#0d0887"
             ],
             [
              0.1111111111111111,
              "#46039f"
             ],
             [
              0.2222222222222222,
              "#7201a8"
             ],
             [
              0.3333333333333333,
              "#9c179e"
             ],
             [
              0.4444444444444444,
              "#bd3786"
             ],
             [
              0.5555555555555556,
              "#d8576b"
             ],
             [
              0.6666666666666666,
              "#ed7953"
             ],
             [
              0.7777777777777778,
              "#fb9f3a"
             ],
             [
              0.8888888888888888,
              "#fdca26"
             ],
             [
              1,
              "#f0f921"
             ]
            ],
            "type": "surface"
           }
          ],
          "table": [
           {
            "cells": {
             "fill": {
              "color": "#EBF0F8"
             },
             "line": {
              "color": "white"
             }
            },
            "header": {
             "fill": {
              "color": "#C8D4E3"
             },
             "line": {
              "color": "white"
             }
            },
            "type": "table"
           }
          ]
         },
         "layout": {
          "annotationdefaults": {
           "arrowcolor": "#2a3f5f",
           "arrowhead": 0,
           "arrowwidth": 1
          },
          "colorscale": {
           "diverging": [
            [
             0,
             "#8e0152"
            ],
            [
             0.1,
             "#c51b7d"
            ],
            [
             0.2,
             "#de77ae"
            ],
            [
             0.3,
             "#f1b6da"
            ],
            [
             0.4,
             "#fde0ef"
            ],
            [
             0.5,
             "#f7f7f7"
            ],
            [
             0.6,
             "#e6f5d0"
            ],
            [
             0.7,
             "#b8e186"
            ],
            [
             0.8,
             "#7fbc41"
            ],
            [
             0.9,
             "#4d9221"
            ],
            [
             1,
             "#276419"
            ]
           ],
           "sequential": [
            [
             0,
             "#0d0887"
            ],
            [
             0.1111111111111111,
             "#46039f"
            ],
            [
             0.2222222222222222,
             "#7201a8"
            ],
            [
             0.3333333333333333,
             "#9c179e"
            ],
            [
             0.4444444444444444,
             "#bd3786"
            ],
            [
             0.5555555555555556,
             "#d8576b"
            ],
            [
             0.6666666666666666,
             "#ed7953"
            ],
            [
             0.7777777777777778,
             "#fb9f3a"
            ],
            [
             0.8888888888888888,
             "#fdca26"
            ],
            [
             1,
             "#f0f921"
            ]
           ],
           "sequentialminus": [
            [
             0,
             "#0d0887"
            ],
            [
             0.1111111111111111,
             "#46039f"
            ],
            [
             0.2222222222222222,
             "#7201a8"
            ],
            [
             0.3333333333333333,
             "#9c179e"
            ],
            [
             0.4444444444444444,
             "#bd3786"
            ],
            [
             0.5555555555555556,
             "#d8576b"
            ],
            [
             0.6666666666666666,
             "#ed7953"
            ],
            [
             0.7777777777777778,
             "#fb9f3a"
            ],
            [
             0.8888888888888888,
             "#fdca26"
            ],
            [
             1,
             "#f0f921"
            ]
           ]
          },
          "colorway": [
           "#636efa",
           "#EF553B",
           "#00cc96",
           "#ab63fa",
           "#FFA15A",
           "#19d3f3",
           "#FF6692",
           "#B6E880",
           "#FF97FF",
           "#FECB52"
          ],
          "font": {
           "color": "#2a3f5f"
          },
          "geo": {
           "bgcolor": "white",
           "lakecolor": "white",
           "landcolor": "#E5ECF6",
           "showlakes": true,
           "showland": true,
           "subunitcolor": "white"
          },
          "hoverlabel": {
           "align": "left"
          },
          "hovermode": "closest",
          "mapbox": {
           "style": "light"
          },
          "paper_bgcolor": "white",
          "plot_bgcolor": "#E5ECF6",
          "polar": {
           "angularaxis": {
            "gridcolor": "white",
            "linecolor": "white",
            "ticks": ""
           },
           "bgcolor": "#E5ECF6",
           "radialaxis": {
            "gridcolor": "white",
            "linecolor": "white",
            "ticks": ""
           }
          },
          "scene": {
           "xaxis": {
            "backgroundcolor": "#E5ECF6",
            "gridcolor": "white",
            "gridwidth": 2,
            "linecolor": "white",
            "showbackground": true,
            "ticks": "",
            "zerolinecolor": "white"
           },
           "yaxis": {
            "backgroundcolor": "#E5ECF6",
            "gridcolor": "white",
            "gridwidth": 2,
            "linecolor": "white",
            "showbackground": true,
            "ticks": "",
            "zerolinecolor": "white"
           },
           "zaxis": {
            "backgroundcolor": "#E5ECF6",
            "gridcolor": "white",
            "gridwidth": 2,
            "linecolor": "white",
            "showbackground": true,
            "ticks": "",
            "zerolinecolor": "white"
           }
          },
          "shapedefaults": {
           "line": {
            "color": "#2a3f5f"
           }
          },
          "ternary": {
           "aaxis": {
            "gridcolor": "white",
            "linecolor": "white",
            "ticks": ""
           },
           "baxis": {
            "gridcolor": "white",
            "linecolor": "white",
            "ticks": ""
           },
           "bgcolor": "#E5ECF6",
           "caxis": {
            "gridcolor": "white",
            "linecolor": "white",
            "ticks": ""
           }
          },
          "title": {
           "x": 0.05
          },
          "xaxis": {
           "automargin": true,
           "gridcolor": "white",
           "linecolor": "white",
           "ticks": "",
           "zerolinecolor": "white",
           "zerolinewidth": 2
          },
          "yaxis": {
           "automargin": true,
           "gridcolor": "white",
           "linecolor": "white",
           "ticks": "",
           "zerolinecolor": "white",
           "zerolinewidth": 2
          }
         }
        }
       }
      },
      "text/html": [
       "<div>\n",
       "        \n",
       "        \n",
       "            <div id=\"fcd06d6e-fdea-4614-b4cc-7d6e4146ac8c\" class=\"plotly-graph-div\" style=\"height:525px; width:100%;\"></div>\n",
       "            <script type=\"text/javascript\">\n",
       "                require([\"plotly\"], function(Plotly) {\n",
       "                    window.PLOTLYENV=window.PLOTLYENV || {};\n",
       "                    \n",
       "                if (document.getElementById(\"fcd06d6e-fdea-4614-b4cc-7d6e4146ac8c\")) {\n",
       "                    Plotly.newPlot(\n",
       "                        'fcd06d6e-fdea-4614-b4cc-7d6e4146ac8c',\n",
       "                        [{\"mode\": \"lines+markers\", \"name\": \"Green Bay Packers\", \"type\": \"scatter\", \"x\": [2014, 2015, 2016, 2017, 2018], \"y\": [65.1, 60.7, 65.0, 62.6, 61.2]}, {\"mode\": \"lines+markers\", \"name\": \"Tampa Bay Buccaneers\", \"type\": \"scatter\", \"x\": [2014, 2015, 2016, 2017, 2018], \"y\": [56.7, 58.3, 61.4, 62.5, 65.3]}, {\"mode\": \"lines+markers\", \"name\": \"Dallas Cowboys\", \"type\": \"scatter\", \"x\": [2014, 2015, 2016, 2017, 2018], \"y\": [68.9, 63.3, 67.3, 62.7, 67.6]}, {\"mode\": \"lines+markers\", \"name\": \"Atlanta Falcons\", \"type\": \"scatter\", \"x\": [2014, 2015, 2016, 2017, 2018], \"y\": [66.1, 66.0, 69.6, 64.7, 69.4]}, {\"mode\": \"lines+markers\", \"name\": \"Los Angeles Rams\", \"type\": \"scatter\", \"x\": [2014, 2015, 2016, 2017, 2018], \"y\": [63.5, 57.7, 58.2, 61.8, 64.8]}, {\"mode\": \"lines+markers\", \"name\": \"Kansas City Chiefs\", \"type\": \"scatter\", \"x\": [2014, 2015, 2016, 2017, 2018], \"y\": [64.9, 65.5, 66.8, 66.9, 66.0]}, {\"mode\": \"lines+markers\", \"name\": \"Los Angeles Chargers\", \"type\": \"scatter\", \"x\": [2014, 2015, 2016, 2017, 2018], \"y\": [66.2, 66.3, 60.2, 62.8, 68.0]}, {\"mode\": \"lines+markers\", \"name\": \"New Orleans Saints\", \"type\": \"scatter\", \"x\": [2014, 2015, 2016, 2017, 2018], \"y\": [69.2, 69.0, 70.0, 72.0, 73.4]}, {\"mode\": \"lines+markers\", \"name\": \"New England Patriots\", \"type\": \"scatter\", \"x\": [2014, 2015, 2016, 2017, 2018], \"y\": [64.4, 64.2, 66.9, 66.3, 65.9]}, {\"mode\": \"lines+markers\", \"name\": \"Oakland Raiders\", \"type\": \"scatter\", \"x\": [2014, 2015, 2016, 2017, 2018], \"y\": [58.0, 61.7, 63.6, 62.2, 68.7]}, {\"mode\": \"lines+markers\", \"name\": \"Detroit Lions\", \"type\": \"scatter\", \"x\": [2014, 2015, 2016, 2017, 2018], \"y\": [60.4, 66.5, 65.3, 65.6, 65.3]}, {\"mode\": \"lines+markers\", \"name\": \"Philadelphia Eagles\", \"type\": \"scatter\", \"x\": [2014, 2015, 2016, 2017, 2018], \"y\": [61.8, 65.0, 62.4, 60.5, 70.5]}, {\"mode\": \"lines+markers\", \"name\": \"Miami Dolphins\", \"type\": \"scatter\", \"x\": [2014, 2015, 2016, 2017, 2018], \"y\": [66.2, 62.1, 66.2, 62.0, 64.2]}, {\"mode\": \"lines+markers\", \"name\": \"San Francisco 49ers\", \"type\": \"scatter\", \"x\": [2014, 2015, 2016, 2017, 2018], \"y\": [60.0, 61.2, 58.5, 59.6, 62.2]}, {\"mode\": \"lines+markers\", \"name\": \"Seattle Seahawks\", \"type\": \"scatter\", \"x\": [2014, 2015, 2016, 2017, 2018], \"y\": [63.2, 68.1, 64.9, 61.3, 65.6]}, {\"mode\": \"lines+markers\", \"name\": \"Houston Texans\", \"type\": \"scatter\", \"x\": [2014, 2015, 2016, 2017, 2018], \"y\": [60.8, 57.8, 59.5, 57.0, 68.2]}, {\"mode\": \"lines+markers\", \"name\": \"Jacksonville Jaguars\", \"type\": \"scatter\", \"x\": [2014, 2015, 2016, 2017, 2018], \"y\": [58.3, 58.5, 58.9, 60.0, 61.4]}, {\"mode\": \"lines+markers\", \"name\": \"New York Giants\", \"type\": \"scatter\", \"x\": [2014, 2015, 2016, 2017, 2018], \"y\": [63.1, 62.9, 63.0, 61.3, 65.5]}, {\"mode\": \"lines+markers\", \"name\": \"Cincinnati Bengals\", \"type\": \"scatter\", \"x\": [2014, 2015, 2016, 2017, 2018], \"y\": [64.2, 66.1, 64.7, 59.6, 61.1]}, {\"mode\": \"lines+markers\", \"name\": \"Carolina Panthers\", \"type\": \"scatter\", \"x\": [2014, 2015, 2016, 2017, 2018], \"y\": [60.0, 59.9, 54.4, 58.5, 67.1]}, {\"mode\": \"lines+markers\", \"name\": \"Tennessee Titans\", \"type\": \"scatter\", \"x\": [2014, 2015, 2016, 2017, 2018], \"y\": [58.3, 62.1, 60.9, 61.7, 67.0]}, {\"mode\": \"lines+markers\", \"name\": \"Cleveland Browns\", \"type\": \"scatter\", \"x\": [2014, 2015, 2016, 2017, 2018], \"y\": [54.6, 60.9, 59.6, 54.4, 61.5]}, {\"mode\": \"lines+markers\", \"name\": \"Minnesota Vikings\", \"type\": \"scatter\", \"x\": [2014, 2015, 2016, 2017, 2018], \"y\": [62.3, 64.8, 70.4, 67.7, 70.1]}, {\"mode\": \"lines+markers\", \"name\": \"Arizona Cardinals\", \"type\": \"scatter\", \"x\": [2014, 2015, 2016, 2017, 2018], \"y\": [56.3, 62.8, 59.3, 56.7, 57.2]}, {\"mode\": \"lines+markers\", \"name\": \"Chicago Bears\", \"type\": \"scatter\", \"x\": [2014, 2015, 2016, 2017, 2018], \"y\": [65.0, 63.9, 62.1, 61.5, 67.2]}, {\"mode\": \"lines+markers\", \"name\": \"Buffalo Bills\", \"type\": \"scatter\", \"x\": [2014, 2015, 2016, 2017, 2018], \"y\": [62.7, 63.4, 60.3, 60.7, 54.3]}, {\"mode\": \"lines+markers\", \"name\": \"Baltimore Ravens\", \"type\": \"scatter\", \"x\": [2014, 2015, 2016, 2017, 2018], \"y\": [62.1, 63.0, 64.7, 64.0, 60.1]}, {\"mode\": \"lines+markers\", \"name\": \"Denver Broncos\", \"type\": \"scatter\", \"x\": [2014, 2015, 2016, 2017, 2018], \"y\": [65.7, 60.7, 59.5, 58.7, 62.4]}, {\"mode\": \"lines+markers\", \"name\": \"New York Jets\", \"type\": \"scatter\", \"x\": [2014, 2015, 2016, 2017, 2018], \"y\": [57.6, 59.9, 56.5, 63.3, 57.1]}, {\"mode\": \"lines+markers\", \"name\": \"Indianapolis Colts\", \"type\": \"scatter\", \"x\": [2014, 2015, 2016, 2017, 2018], \"y\": [62.0, 57.4, 63.4, 58.5, 67.1]}, {\"mode\": \"lines+markers\", \"name\": \"Pittsburgh Steelers\", \"type\": \"scatter\", \"x\": [2014, 2015, 2016, 2017, 2018], \"y\": [67.2, 66.3, 63.9, 65.1, 66.6]}, {\"mode\": \"lines+markers\", \"name\": \"Washington Redskins\", \"type\": \"scatter\", \"x\": [2014, 2015, 2016, 2017, 2018], \"y\": [66.5, 69.5, 67.1, 64.3, 61.1]}],\n",
       "                        {\"template\": {\"data\": {\"bar\": [{\"error_x\": {\"color\": \"#2a3f5f\"}, \"error_y\": {\"color\": \"#2a3f5f\"}, \"marker\": {\"line\": {\"color\": \"#E5ECF6\", \"width\": 0.5}}, \"type\": \"bar\"}], \"barpolar\": [{\"marker\": {\"line\": {\"color\": \"#E5ECF6\", \"width\": 0.5}}, \"type\": \"barpolar\"}], \"carpet\": [{\"aaxis\": {\"endlinecolor\": \"#2a3f5f\", \"gridcolor\": \"white\", \"linecolor\": \"white\", \"minorgridcolor\": \"white\", \"startlinecolor\": \"#2a3f5f\"}, \"baxis\": {\"endlinecolor\": \"#2a3f5f\", \"gridcolor\": \"white\", \"linecolor\": \"white\", \"minorgridcolor\": \"white\", \"startlinecolor\": \"#2a3f5f\"}, \"type\": \"carpet\"}], \"choropleth\": [{\"colorbar\": {\"outlinewidth\": 0, \"ticks\": \"\"}, \"type\": \"choropleth\"}], \"contour\": [{\"colorbar\": {\"outlinewidth\": 0, \"ticks\": \"\"}, \"colorscale\": [[0.0, \"#0d0887\"], [0.1111111111111111, \"#46039f\"], [0.2222222222222222, \"#7201a8\"], [0.3333333333333333, \"#9c179e\"], [0.4444444444444444, \"#bd3786\"], [0.5555555555555556, \"#d8576b\"], [0.6666666666666666, \"#ed7953\"], [0.7777777777777778, \"#fb9f3a\"], [0.8888888888888888, \"#fdca26\"], [1.0, \"#f0f921\"]], \"type\": \"contour\"}], \"contourcarpet\": [{\"colorbar\": {\"outlinewidth\": 0, \"ticks\": \"\"}, \"type\": \"contourcarpet\"}], \"heatmap\": [{\"colorbar\": {\"outlinewidth\": 0, \"ticks\": \"\"}, \"colorscale\": [[0.0, \"#0d0887\"], [0.1111111111111111, \"#46039f\"], [0.2222222222222222, \"#7201a8\"], [0.3333333333333333, \"#9c179e\"], [0.4444444444444444, \"#bd3786\"], [0.5555555555555556, \"#d8576b\"], [0.6666666666666666, \"#ed7953\"], [0.7777777777777778, \"#fb9f3a\"], [0.8888888888888888, \"#fdca26\"], [1.0, \"#f0f921\"]], \"type\": \"heatmap\"}], \"heatmapgl\": [{\"colorbar\": {\"outlinewidth\": 0, \"ticks\": \"\"}, \"colorscale\": [[0.0, \"#0d0887\"], [0.1111111111111111, \"#46039f\"], [0.2222222222222222, \"#7201a8\"], [0.3333333333333333, \"#9c179e\"], [0.4444444444444444, \"#bd3786\"], [0.5555555555555556, \"#d8576b\"], [0.6666666666666666, \"#ed7953\"], [0.7777777777777778, \"#fb9f3a\"], [0.8888888888888888, \"#fdca26\"], [1.0, \"#f0f921\"]], \"type\": \"heatmapgl\"}], \"histogram\": [{\"marker\": {\"colorbar\": {\"outlinewidth\": 0, \"ticks\": \"\"}}, \"type\": \"histogram\"}], \"histogram2d\": [{\"colorbar\": {\"outlinewidth\": 0, \"ticks\": \"\"}, \"colorscale\": [[0.0, \"#0d0887\"], [0.1111111111111111, \"#46039f\"], [0.2222222222222222, \"#7201a8\"], [0.3333333333333333, \"#9c179e\"], [0.4444444444444444, \"#bd3786\"], [0.5555555555555556, \"#d8576b\"], [0.6666666666666666, \"#ed7953\"], [0.7777777777777778, \"#fb9f3a\"], [0.8888888888888888, \"#fdca26\"], [1.0, \"#f0f921\"]], \"type\": \"histogram2d\"}], \"histogram2dcontour\": [{\"colorbar\": {\"outlinewidth\": 0, \"ticks\": \"\"}, \"colorscale\": [[0.0, \"#0d0887\"], [0.1111111111111111, \"#46039f\"], [0.2222222222222222, \"#7201a8\"], [0.3333333333333333, \"#9c179e\"], [0.4444444444444444, \"#bd3786\"], [0.5555555555555556, \"#d8576b\"], [0.6666666666666666, \"#ed7953\"], [0.7777777777777778, \"#fb9f3a\"], [0.8888888888888888, \"#fdca26\"], [1.0, \"#f0f921\"]], \"type\": \"histogram2dcontour\"}], \"mesh3d\": [{\"colorbar\": {\"outlinewidth\": 0, \"ticks\": \"\"}, \"type\": \"mesh3d\"}], \"parcoords\": [{\"line\": {\"colorbar\": {\"outlinewidth\": 0, \"ticks\": \"\"}}, \"type\": \"parcoords\"}], \"scatter\": [{\"marker\": {\"colorbar\": {\"outlinewidth\": 0, \"ticks\": \"\"}}, \"type\": \"scatter\"}], \"scatter3d\": [{\"line\": {\"colorbar\": {\"outlinewidth\": 0, \"ticks\": \"\"}}, \"marker\": {\"colorbar\": {\"outlinewidth\": 0, \"ticks\": \"\"}}, \"type\": \"scatter3d\"}], \"scattercarpet\": [{\"marker\": {\"colorbar\": {\"outlinewidth\": 0, \"ticks\": \"\"}}, \"type\": \"scattercarpet\"}], \"scattergeo\": [{\"marker\": {\"colorbar\": {\"outlinewidth\": 0, \"ticks\": \"\"}}, \"type\": \"scattergeo\"}], \"scattergl\": [{\"marker\": {\"colorbar\": {\"outlinewidth\": 0, \"ticks\": \"\"}}, \"type\": \"scattergl\"}], \"scattermapbox\": [{\"marker\": {\"colorbar\": {\"outlinewidth\": 0, \"ticks\": \"\"}}, \"type\": \"scattermapbox\"}], \"scatterpolar\": [{\"marker\": {\"colorbar\": {\"outlinewidth\": 0, \"ticks\": \"\"}}, \"type\": \"scatterpolar\"}], \"scatterpolargl\": [{\"marker\": {\"colorbar\": {\"outlinewidth\": 0, \"ticks\": \"\"}}, \"type\": \"scatterpolargl\"}], \"scatterternary\": [{\"marker\": {\"colorbar\": {\"outlinewidth\": 0, \"ticks\": \"\"}}, \"type\": \"scatterternary\"}], \"surface\": [{\"colorbar\": {\"outlinewidth\": 0, \"ticks\": \"\"}, \"colorscale\": [[0.0, \"#0d0887\"], [0.1111111111111111, \"#46039f\"], [0.2222222222222222, \"#7201a8\"], [0.3333333333333333, \"#9c179e\"], [0.4444444444444444, \"#bd3786\"], [0.5555555555555556, \"#d8576b\"], [0.6666666666666666, \"#ed7953\"], [0.7777777777777778, \"#fb9f3a\"], [0.8888888888888888, \"#fdca26\"], [1.0, \"#f0f921\"]], \"type\": \"surface\"}], \"table\": [{\"cells\": {\"fill\": {\"color\": \"#EBF0F8\"}, \"line\": {\"color\": \"white\"}}, \"header\": {\"fill\": {\"color\": \"#C8D4E3\"}, \"line\": {\"color\": \"white\"}}, \"type\": \"table\"}]}, \"layout\": {\"annotationdefaults\": {\"arrowcolor\": \"#2a3f5f\", \"arrowhead\": 0, \"arrowwidth\": 1}, \"colorscale\": {\"diverging\": [[0, \"#8e0152\"], [0.1, \"#c51b7d\"], [0.2, \"#de77ae\"], [0.3, \"#f1b6da\"], [0.4, \"#fde0ef\"], [0.5, \"#f7f7f7\"], [0.6, \"#e6f5d0\"], [0.7, \"#b8e186\"], [0.8, \"#7fbc41\"], [0.9, \"#4d9221\"], [1, \"#276419\"]], \"sequential\": [[0.0, \"#0d0887\"], [0.1111111111111111, \"#46039f\"], [0.2222222222222222, \"#7201a8\"], [0.3333333333333333, \"#9c179e\"], [0.4444444444444444, \"#bd3786\"], [0.5555555555555556, \"#d8576b\"], [0.6666666666666666, \"#ed7953\"], [0.7777777777777778, \"#fb9f3a\"], [0.8888888888888888, \"#fdca26\"], [1.0, \"#f0f921\"]], \"sequentialminus\": [[0.0, \"#0d0887\"], [0.1111111111111111, \"#46039f\"], [0.2222222222222222, \"#7201a8\"], [0.3333333333333333, \"#9c179e\"], [0.4444444444444444, \"#bd3786\"], [0.5555555555555556, \"#d8576b\"], [0.6666666666666666, \"#ed7953\"], [0.7777777777777778, \"#fb9f3a\"], [0.8888888888888888, \"#fdca26\"], [1.0, \"#f0f921\"]]}, \"colorway\": [\"#636efa\", \"#EF553B\", \"#00cc96\", \"#ab63fa\", \"#FFA15A\", \"#19d3f3\", \"#FF6692\", \"#B6E880\", \"#FF97FF\", \"#FECB52\"], \"font\": {\"color\": \"#2a3f5f\"}, \"geo\": {\"bgcolor\": \"white\", \"lakecolor\": \"white\", \"landcolor\": \"#E5ECF6\", \"showlakes\": true, \"showland\": true, \"subunitcolor\": \"white\"}, \"hoverlabel\": {\"align\": \"left\"}, \"hovermode\": \"closest\", \"mapbox\": {\"style\": \"light\"}, \"paper_bgcolor\": \"white\", \"plot_bgcolor\": \"#E5ECF6\", \"polar\": {\"angularaxis\": {\"gridcolor\": \"white\", \"linecolor\": \"white\", \"ticks\": \"\"}, \"bgcolor\": \"#E5ECF6\", \"radialaxis\": {\"gridcolor\": \"white\", \"linecolor\": \"white\", \"ticks\": \"\"}}, \"scene\": {\"xaxis\": {\"backgroundcolor\": \"#E5ECF6\", \"gridcolor\": \"white\", \"gridwidth\": 2, \"linecolor\": \"white\", \"showbackground\": true, \"ticks\": \"\", \"zerolinecolor\": \"white\"}, \"yaxis\": {\"backgroundcolor\": \"#E5ECF6\", \"gridcolor\": \"white\", \"gridwidth\": 2, \"linecolor\": \"white\", \"showbackground\": true, \"ticks\": \"\", \"zerolinecolor\": \"white\"}, \"zaxis\": {\"backgroundcolor\": \"#E5ECF6\", \"gridcolor\": \"white\", \"gridwidth\": 2, \"linecolor\": \"white\", \"showbackground\": true, \"ticks\": \"\", \"zerolinecolor\": \"white\"}}, \"shapedefaults\": {\"line\": {\"color\": \"#2a3f5f\"}}, \"ternary\": {\"aaxis\": {\"gridcolor\": \"white\", \"linecolor\": \"white\", \"ticks\": \"\"}, \"baxis\": {\"gridcolor\": \"white\", \"linecolor\": \"white\", \"ticks\": \"\"}, \"bgcolor\": \"#E5ECF6\", \"caxis\": {\"gridcolor\": \"white\", \"linecolor\": \"white\", \"ticks\": \"\"}}, \"title\": {\"x\": 0.05}, \"xaxis\": {\"automargin\": true, \"gridcolor\": \"white\", \"linecolor\": \"white\", \"ticks\": \"\", \"zerolinecolor\": \"white\", \"zerolinewidth\": 2}, \"yaxis\": {\"automargin\": true, \"gridcolor\": \"white\", \"linecolor\": \"white\", \"ticks\": \"\", \"zerolinecolor\": \"white\", \"zerolinewidth\": 2}}}},\n",
       "                        {\"responsive\": true}\n",
       "                    ).then(function(){\n",
       "                            \n",
       "var gd = document.getElementById('fcd06d6e-fdea-4614-b4cc-7d6e4146ac8c');\n",
       "var x = new MutationObserver(function (mutations, observer) {{\n",
       "        var display = window.getComputedStyle(gd).display;\n",
       "        if (!display || display === 'none') {{\n",
       "            console.log([gd, 'removed!']);\n",
       "            Plotly.purge(gd);\n",
       "            observer.disconnect();\n",
       "        }}\n",
       "}});\n",
       "\n",
       "// Listen for the removal of the full notebook cells\n",
       "var notebookContainer = gd.closest('#notebook-container');\n",
       "if (notebookContainer) {{\n",
       "    x.observe(notebookContainer, {childList: true});\n",
       "}}\n",
       "\n",
       "// Listen for the clearing of the current output cell\n",
       "var outputEl = gd.closest('.output');\n",
       "if (outputEl) {{\n",
       "    x.observe(outputEl, {childList: true});\n",
       "}}\n",
       "\n",
       "                        })\n",
       "                };\n",
       "                });\n",
       "            </script>\n",
       "        </div>"
      ]
     },
     "metadata": {},
     "output_type": "display_data"
    }
   ],
   "source": [
    "import plotly.graph_objects as go\n",
    "\n",
    "fig = go.Figure()\n",
    "\n",
    "# Add traces\n",
    "fig.add_trace(go.Scatter(x=year, y=gbPackers_pct,\n",
    "                    mode='lines+markers',\n",
    "                    name='Green Bay Packers'))\n",
    "fig.add_trace(go.Scatter(x=year, y=tBay_pct,\n",
    "                    mode='lines+markers',\n",
    "                    name='Tampa Bay Buccaneers'))\n",
    "fig.add_trace(go.Scatter(x=year, y=dallas_pct,\n",
    "                    mode='lines+markers',\n",
    "                    name='Dallas Cowboys'))\n",
    "\n",
    "fig.add_trace(go.Scatter(x=year, y=atlanta_pct,\n",
    "                    mode='lines+markers',\n",
    "                    name='Atlanta Falcons'))\n",
    "fig.add_trace(go.Scatter(x=year, y=rams_pct,\n",
    "                    mode='lines+markers',\n",
    "                    name='Los Angeles Rams'))\n",
    "fig.add_trace(go.Scatter(x=year, y=kansas_pct,\n",
    "                    mode='lines+markers',\n",
    "                    name='Kansas City Chiefs'))\n",
    "\n",
    "fig.add_trace(go.Scatter(x=year, y=chargers_pct,\n",
    "                    mode='lines+markers',\n",
    "                    name='Los Angeles Chargers'))\n",
    "fig.add_trace(go.Scatter(x=year, y=orleands_pct,\n",
    "                    mode='lines+markers',\n",
    "                    name='New Orleans Saints'))\n",
    "fig.add_trace(go.Scatter(x=year, y=england_pct,\n",
    "                    mode='lines+markers',\n",
    "                    name='New England Patriots'))\n",
    "\n",
    "fig.add_trace(go.Scatter(x=year, y=oak_pct,\n",
    "                    mode='lines+markers',\n",
    "                    name='Oakland Raiders'))\n",
    "fig.add_trace(go.Scatter(x=year, y=detroid_pct,\n",
    "                    mode='lines+markers',\n",
    "                    name='Detroit Lions'))\n",
    "fig.add_trace(go.Scatter(x=year, y=philadelphia_pct,\n",
    "                    mode='lines+markers',\n",
    "                    name='Philadelphia Eagles'))\n",
    "\n",
    "fig.add_trace(go.Scatter(x=year, y=miami_pct,\n",
    "                    mode='lines+markers',\n",
    "                    name='Miami Dolphins'))\n",
    "fig.add_trace(go.Scatter(x=year, y=san_francisco_pct,\n",
    "                    mode='lines+markers',\n",
    "                    name='San Francisco 49ers'))\n",
    "fig.add_trace(go.Scatter(x=year, y=seattle_pct,\n",
    "                    mode='lines+markers',\n",
    "                    name='Seattle Seahawks'))\n",
    "\n",
    "fig.add_trace(go.Scatter(x=year, y=houston_pct,\n",
    "                    mode='lines+markers',\n",
    "                    name='Houston Texans'))\n",
    "fig.add_trace(go.Scatter(x=year, y=jacksonville_pct,\n",
    "                    mode='lines+markers',\n",
    "                    name='Jacksonville Jaguars'))\n",
    "fig.add_trace(go.Scatter(x=year, y=giants_pct,\n",
    "                    mode='lines+markers',\n",
    "                    name='New York Giants'))\n",
    "\n",
    "fig.add_trace(go.Scatter(x=year, y=cincinnati_pct,\n",
    "                    mode='lines+markers',\n",
    "                    name='Cincinnati Bengals'))\n",
    "fig.add_trace(go.Scatter(x=year, y=carolina_pct,\n",
    "                    mode='lines+markers',\n",
    "                    name='Carolina Panthers'))\n",
    "fig.add_trace(go.Scatter(x=year, y=tenessee_pct,\n",
    "                    mode='lines+markers',\n",
    "                    name='Tennessee Titans'))\n",
    "\n",
    "fig.add_trace(go.Scatter(x=year, y=cleveland_pct,\n",
    "                    mode='lines+markers',\n",
    "                    name='Cleveland Browns'))\n",
    "fig.add_trace(go.Scatter(x=year, y=minnesota_pct,\n",
    "                    mode='lines+markers',\n",
    "                    name='Minnesota Vikings'))\n",
    "fig.add_trace(go.Scatter(x=year, y=arizona_pct,\n",
    "                    mode='lines+markers',\n",
    "                    name='Arizona Cardinals'))\n",
    "\n",
    "fig.add_trace(go.Scatter(x=year, y=chicago_pct,\n",
    "                    mode='lines+markers',\n",
    "                    name='Chicago Bears'))\n",
    "fig.add_trace(go.Scatter(x=year, y=buffalo_pct,\n",
    "                    mode='lines+markers',\n",
    "                    name='Buffalo Bills'))\n",
    "fig.add_trace(go.Scatter(x=year, y=baltimore_pct,\n",
    "                    mode='lines+markers',\n",
    "                    name='Baltimore Ravens'))\n",
    "\n",
    "fig.add_trace(go.Scatter(x=year, y=denver_pct,\n",
    "                    mode='lines+markers',\n",
    "                    name='Denver Broncos'))\n",
    "fig.add_trace(go.Scatter(x=year, y=jets_pct,\n",
    "                    mode='lines+markers',\n",
    "                    name='New York Jets'))\n",
    "fig.add_trace(go.Scatter(x=year, y=inianapolis_pct,\n",
    "                    mode='lines+markers',\n",
    "                    name='Indianapolis Colts'))\n",
    "\n",
    "fig.add_trace(go.Scatter(x=year, y=pittsburgh_pct,\n",
    "                    mode='lines+markers',\n",
    "                    name='Pittsburgh Steelers'))\n",
    "fig.add_trace(go.Scatter(x=year, y=washington_pct,\n",
    "                    mode='lines+markers',\n",
    "                    name='Washington Redskins'))\n",
    "\n",
    "fig.show()"
   ]
  },
  {
   "cell_type": "markdown",
   "metadata": {},
   "source": [
    "## Net Yard Passing"
   ]
  },
  {
   "cell_type": "code",
   "execution_count": 8,
   "metadata": {},
   "outputs": [],
   "source": [
    "gbPackers_netY = gbPackers_passing.iloc[:, 12].values\n",
    "tBay_netY = tBay_passing.iloc[:, 12].values\n",
    "dallas_netY = dallas_passing.iloc[:, 12].values\n",
    "atlanta_netY = atlanta_passing.iloc[:, 12].values\n",
    "rams_netY = rams_passing.iloc[:, 12].values\n",
    "kansas_netY = kansas_passing.iloc[:, 12].values\n",
    "chargers_netY = chargers_passing.iloc[:, 12].values\n",
    "orleands_netY = orleands_passing.iloc[:, 12].values\n",
    "england_netY = england_passing.iloc[:, 12].values\n",
    "oak_netY = oak_passing.iloc[:, 12].values\n",
    "detroid_netY = detroid_passing.iloc[:, 12].values\n",
    "philadelphia_netY = philadelphia_passing.iloc[:, 12].values\n",
    "miami_netY = miami_passing.iloc[:, 12].values\n",
    "san_francisco_netY = san_francisco_passing.iloc[:, 12].values\n",
    "seattle_netY = seattle_passing.iloc[:, 12].values\n",
    "houston_netY = houston_passing.iloc[:, 12].values\n",
    "jacksonville_netY = jacksonville_passing.iloc[:, 12].values\n",
    "giants_netY = giants_passing.iloc[:, 12].values\n",
    "cincinnati_netY = cincinnati_passing.iloc[:, 12].values\n",
    "carolina_netY = carolina_passing.iloc[:, 12].values\n",
    "tenessee_netY = tenessee_passing.iloc[:, 12].values\n",
    "cleveland_netY = cleveland_passing.iloc[:, 12].values\n",
    "minnesota_netY = minnesota_passing.iloc[:, 12].values\n",
    "arizona_netY = arizona_passing.iloc[:, 12].values\n",
    "chicago_netY = chicago_passing.iloc[:, 12].values\n",
    "buffalo_netY = buffalo_passing.iloc[:, 12].values\n",
    "baltimore_netY = baltimore_passing.iloc[:, 12].values\n",
    "denver_netY = denver_passing.iloc[:, 12].values\n",
    "jets_netY = jets_passing.iloc[:, 12].values\n",
    "inianapolis_netY = inianapolis_passing.iloc[:, 12].values\n",
    "pittsburgh_netY = pittsburgh_passing.iloc[:, 12].values\n",
    "washington_netY = washington_passing.iloc[:, 12].values"
   ]
  },
  {
   "cell_type": "code",
   "execution_count": 9,
   "metadata": {},
   "outputs": [
    {
     "data": {
      "application/vnd.plotly.v1+json": {
       "config": {
        "plotlyServerURL": "https://plot.ly"
       },
       "data": [
        {
         "mode": "lines+markers",
         "name": "Green Bay Packers",
         "type": "scatter",
         "x": [
          2014,
          2015,
          2016,
          2017,
          2018
         ],
         "y": [
          4261,
          3503,
          4199,
          3167,
          4238
         ]
        },
        {
         "mode": "lines+markers",
         "name": "Tampa Bay Buccaneers",
         "type": "scatter",
         "x": [
          2014,
          2015,
          2016,
          2017,
          2018
         ],
         "y": [
          3297,
          3852,
          3926,
          4366,
          5125
         ]
        },
        {
         "mode": "lines+markers",
         "name": "Dallas Cowboys",
         "type": "scatter",
         "x": [
          2014,
          2015,
          2016,
          2017,
          2018
         ],
         "y": [
          3784,
          3471,
          3631,
          3141,
          3538
         ]
        },
        {
         "mode": "lines+markers",
         "name": "Atlanta Falcons",
         "type": "scatter",
         "x": [
          2014,
          2015,
          2016,
          2017,
          2018
         ],
         "y": [
          4553,
          4379,
          4725,
          3990,
          4653
         ]
        },
        {
         "mode": "lines+markers",
         "name": "Los Angeles Rams",
         "type": "scatter",
         "x": [
          2014,
          2015,
          2016,
          2017,
          2018
         ],
         "y": [
          3400,
          2805,
          2951,
          3831,
          4507
         ]
        },
        {
         "mode": "lines+markers",
         "name": "Kansas City Chiefs",
         "type": "scatter",
         "x": [
          2014,
          2015,
          2016,
          2017,
          2018
         ],
         "y": [
          3182,
          3255,
          3740,
          4104,
          4955
         ]
        },
        {
         "mode": "lines+markers",
         "name": "Los Angeles Chargers",
         "type": "scatter",
         "x": [
          2014,
          2015,
          2016,
          2017,
          2018
         ],
         "y": [
          4098,
          4591,
          4198,
          4431,
          4089
         ]
        },
        {
         "mode": "lines+markers",
         "name": "New Orleans Saints",
         "type": "scatter",
         "x": [
          2014,
          2015,
          2016,
          2017,
          2018
         ],
         "y": [
          4764,
          4970,
          5074,
          4189,
          4042
         ]
        },
        {
         "mode": "lines+markers",
         "name": "New England Patriots",
         "type": "scatter",
         "x": [
          2014,
          2015,
          2016,
          2017,
          2018
         ],
         "y": [
          4121,
          4587,
          4308,
          4418,
          4258
         ]
        },
        {
         "mode": "lines+markers",
         "name": "Oakland Raiders",
         "type": "scatter",
         "x": [
          2014,
          2015,
          2016,
          2017,
          2018
         ],
         "y": [
          3275,
          3879,
          4051,
          3631,
          3751
         ]
        },
        {
         "mode": "lines+markers",
         "name": "Detroit Lions",
         "type": "scatter",
         "x": [
          2014,
          2015,
          2016,
          2017,
          2018
         ],
         "y": [
          4030,
          4212,
          4111,
          4183,
          3576
         ]
        },
        {
         "mode": "lines+markers",
         "name": "Philadelphia Eagles",
         "type": "scatter",
         "x": [
          2014,
          2015,
          2016,
          2017,
          2018
         ],
         "y": [
          4356,
          4087,
          3585,
          3737,
          4275
         ]
        },
        {
         "mode": "lines+markers",
         "name": "Miami Dolphins",
         "type": "scatter",
         "x": [
          2014,
          2015,
          2016,
          2017,
          2018
         ],
         "y": [
          3729,
          3811,
          3500,
          3535,
          2900
         ]
        },
        {
         "mode": "lines+markers",
         "name": "San Francisco 49ers",
         "type": "scatter",
         "x": [
          2014,
          2015,
          2016,
          2017,
          2018
         ],
         "y": [
          3063,
          3316,
          2911,
          3925,
          3867
         ]
        },
        {
         "mode": "lines+markers",
         "name": "Seattle Seahawks",
         "type": "scatter",
         "x": [
          2014,
          2015,
          2016,
          2017,
          2018
         ],
         "y": [
          3250,
          3790,
          4124,
          3657,
          3093
         ]
        },
        {
         "mode": "lines+markers",
         "name": "Houston Texans",
         "type": "scatter",
         "x": [
          2014,
          2015,
          2016,
          2017,
          2018
         ],
         "y": [
          3352,
          3833,
          3176,
          3278,
          3781
         ]
        },
        {
         "mode": "lines+markers",
         "name": "Jacksonville Jaguars",
         "type": "scatter",
         "x": [
          2014,
          2015,
          2016,
          2017,
          2018
         ],
         "y": [
          3001,
          4108,
          3728,
          3593,
          3109
         ]
        },
        {
         "mode": "lines+markers",
         "name": "New York Giants",
         "type": "scatter",
         "x": [
          2014,
          2015,
          2016,
          2017,
          2018
         ],
         "y": [
          4272,
          4343,
          3879,
          3479,
          4047
         ]
        },
        {
         "mode": "lines+markers",
         "name": "Cincinnati Bengals",
         "type": "scatter",
         "x": [
          2014,
          2015,
          2016,
          2017,
          2018
         ],
         "y": [
          3421,
          3923,
          3942,
          3122,
          3290
         ]
        },
        {
         "mode": "lines+markers",
         "name": "Carolina Panthers",
         "type": "scatter",
         "x": [
          2014,
          2015,
          2016,
          2017,
          2018
         ],
         "y": [
          3511,
          3589,
          3685,
          3077,
          3836
         ]
        },
        {
         "mode": "lines+markers",
         "name": "Tennessee Titans",
         "type": "scatter",
         "x": [
          2014,
          2015,
          2016,
          2017,
          2018
         ],
         "y": [
          3412,
          3503,
          3541,
          3191,
          2975
         ]
        },
        {
         "mode": "lines+markers",
         "name": "Cleveland Browns",
         "type": "scatter",
         "x": [
          2014,
          2015,
          2016,
          2017,
          2018
         ],
         "y": [
          3465,
          3782,
          3264,
          3228,
          4007
         ]
        },
        {
         "mode": "lines+markers",
         "name": "Minnesota Vikings",
         "type": "scatter",
         "x": [
          2014,
          2015,
          2016,
          2017,
          2018
         ],
         "y": [
          3244,
          2928,
          3836,
          3753,
          4036
         ]
        },
        {
         "mode": "lines+markers",
         "name": "Arizona Cardinals",
         "type": "scatter",
         "x": [
          2014,
          2015,
          2016,
          2017,
          2018
         ],
         "y": [
          3808,
          4616,
          4136,
          3640,
          2523
         ]
        },
        {
         "mode": "lines+markers",
         "name": "Chicago Bears",
         "type": "scatter",
         "x": [
          2014,
          2015,
          2016,
          2017,
          2018
         ],
         "y": [
          3792,
          3660,
          3969,
          2811,
          3564
         ]
        },
        {
         "mode": "lines+markers",
         "name": "Buffalo Bills",
         "type": "scatter",
         "x": [
          2014,
          2015,
          2016,
          2017,
          2018
         ],
         "y": [
          3614,
          3343,
          3036,
          2825,
          2794
         ]
        },
        {
         "mode": "lines+markers",
         "name": "Baltimore Ravens",
         "type": "scatter",
         "x": [
          2014,
          2015,
          2016,
          2017,
          2018
         ],
         "y": [
          3819,
          4271,
          4100,
          3030,
          3558
         ]
        },
        {
         "mode": "lines+markers",
         "name": "Denver Broncos",
         "type": "scatter",
         "x": [
          2014,
          2015,
          2016,
          2017,
          2018
         ],
         "y": [
          4661,
          3970,
          3685,
          3333,
          3695
         ]
        },
        {
         "mode": "lines+markers",
         "name": "New York Jets",
         "type": "scatter",
         "x": [
          2014,
          2015,
          2016,
          2017,
          2018
         ],
         "y": [
          2946,
          4057,
          3466,
          3182,
          3165
         ]
        },
        {
         "mode": "lines+markers",
         "name": "Indianapolis Colts",
         "type": "scatter",
         "x": [
          2014,
          2015,
          2016,
          2017,
          2018
         ],
         "y": [
          4894,
          3704,
          4202,
          2892,
          4461
         ]
        },
        {
         "mode": "lines+markers",
         "name": "Pittsburgh Steelers",
         "type": "scatter",
         "x": [
          2014,
          2015,
          2016,
          2017,
          2018
         ],
         "y": [
          4825,
          4603,
          4202,
          4380,
          5008
         ]
        },
        {
         "mode": "lines+markers",
         "name": "Washington Redskins",
         "type": "scatter",
         "x": [
          2014,
          2015,
          2016,
          2017,
          2018
         ],
         "y": [
          4047,
          4095,
          4758,
          3751,
          3021
         ]
        }
       ],
       "layout": {
        "template": {
         "data": {
          "bar": [
           {
            "error_x": {
             "color": "#2a3f5f"
            },
            "error_y": {
             "color": "#2a3f5f"
            },
            "marker": {
             "line": {
              "color": "#E5ECF6",
              "width": 0.5
             }
            },
            "type": "bar"
           }
          ],
          "barpolar": [
           {
            "marker": {
             "line": {
              "color": "#E5ECF6",
              "width": 0.5
             }
            },
            "type": "barpolar"
           }
          ],
          "carpet": [
           {
            "aaxis": {
             "endlinecolor": "#2a3f5f",
             "gridcolor": "white",
             "linecolor": "white",
             "minorgridcolor": "white",
             "startlinecolor": "#2a3f5f"
            },
            "baxis": {
             "endlinecolor": "#2a3f5f",
             "gridcolor": "white",
             "linecolor": "white",
             "minorgridcolor": "white",
             "startlinecolor": "#2a3f5f"
            },
            "type": "carpet"
           }
          ],
          "choropleth": [
           {
            "colorbar": {
             "outlinewidth": 0,
             "ticks": ""
            },
            "type": "choropleth"
           }
          ],
          "contour": [
           {
            "colorbar": {
             "outlinewidth": 0,
             "ticks": ""
            },
            "colorscale": [
             [
              0,
              "#0d0887"
             ],
             [
              0.1111111111111111,
              "#46039f"
             ],
             [
              0.2222222222222222,
              "#7201a8"
             ],
             [
              0.3333333333333333,
              "#9c179e"
             ],
             [
              0.4444444444444444,
              "#bd3786"
             ],
             [
              0.5555555555555556,
              "#d8576b"
             ],
             [
              0.6666666666666666,
              "#ed7953"
             ],
             [
              0.7777777777777778,
              "#fb9f3a"
             ],
             [
              0.8888888888888888,
              "#fdca26"
             ],
             [
              1,
              "#f0f921"
             ]
            ],
            "type": "contour"
           }
          ],
          "contourcarpet": [
           {
            "colorbar": {
             "outlinewidth": 0,
             "ticks": ""
            },
            "type": "contourcarpet"
           }
          ],
          "heatmap": [
           {
            "colorbar": {
             "outlinewidth": 0,
             "ticks": ""
            },
            "colorscale": [
             [
              0,
              "#0d0887"
             ],
             [
              0.1111111111111111,
              "#46039f"
             ],
             [
              0.2222222222222222,
              "#7201a8"
             ],
             [
              0.3333333333333333,
              "#9c179e"
             ],
             [
              0.4444444444444444,
              "#bd3786"
             ],
             [
              0.5555555555555556,
              "#d8576b"
             ],
             [
              0.6666666666666666,
              "#ed7953"
             ],
             [
              0.7777777777777778,
              "#fb9f3a"
             ],
             [
              0.8888888888888888,
              "#fdca26"
             ],
             [
              1,
              "#f0f921"
             ]
            ],
            "type": "heatmap"
           }
          ],
          "heatmapgl": [
           {
            "colorbar": {
             "outlinewidth": 0,
             "ticks": ""
            },
            "colorscale": [
             [
              0,
              "#0d0887"
             ],
             [
              0.1111111111111111,
              "#46039f"
             ],
             [
              0.2222222222222222,
              "#7201a8"
             ],
             [
              0.3333333333333333,
              "#9c179e"
             ],
             [
              0.4444444444444444,
              "#bd3786"
             ],
             [
              0.5555555555555556,
              "#d8576b"
             ],
             [
              0.6666666666666666,
              "#ed7953"
             ],
             [
              0.7777777777777778,
              "#fb9f3a"
             ],
             [
              0.8888888888888888,
              "#fdca26"
             ],
             [
              1,
              "#f0f921"
             ]
            ],
            "type": "heatmapgl"
           }
          ],
          "histogram": [
           {
            "marker": {
             "colorbar": {
              "outlinewidth": 0,
              "ticks": ""
             }
            },
            "type": "histogram"
           }
          ],
          "histogram2d": [
           {
            "colorbar": {
             "outlinewidth": 0,
             "ticks": ""
            },
            "colorscale": [
             [
              0,
              "#0d0887"
             ],
             [
              0.1111111111111111,
              "#46039f"
             ],
             [
              0.2222222222222222,
              "#7201a8"
             ],
             [
              0.3333333333333333,
              "#9c179e"
             ],
             [
              0.4444444444444444,
              "#bd3786"
             ],
             [
              0.5555555555555556,
              "#d8576b"
             ],
             [
              0.6666666666666666,
              "#ed7953"
             ],
             [
              0.7777777777777778,
              "#fb9f3a"
             ],
             [
              0.8888888888888888,
              "#fdca26"
             ],
             [
              1,
              "#f0f921"
             ]
            ],
            "type": "histogram2d"
           }
          ],
          "histogram2dcontour": [
           {
            "colorbar": {
             "outlinewidth": 0,
             "ticks": ""
            },
            "colorscale": [
             [
              0,
              "#0d0887"
             ],
             [
              0.1111111111111111,
              "#46039f"
             ],
             [
              0.2222222222222222,
              "#7201a8"
             ],
             [
              0.3333333333333333,
              "#9c179e"
             ],
             [
              0.4444444444444444,
              "#bd3786"
             ],
             [
              0.5555555555555556,
              "#d8576b"
             ],
             [
              0.6666666666666666,
              "#ed7953"
             ],
             [
              0.7777777777777778,
              "#fb9f3a"
             ],
             [
              0.8888888888888888,
              "#fdca26"
             ],
             [
              1,
              "#f0f921"
             ]
            ],
            "type": "histogram2dcontour"
           }
          ],
          "mesh3d": [
           {
            "colorbar": {
             "outlinewidth": 0,
             "ticks": ""
            },
            "type": "mesh3d"
           }
          ],
          "parcoords": [
           {
            "line": {
             "colorbar": {
              "outlinewidth": 0,
              "ticks": ""
             }
            },
            "type": "parcoords"
           }
          ],
          "scatter": [
           {
            "marker": {
             "colorbar": {
              "outlinewidth": 0,
              "ticks": ""
             }
            },
            "type": "scatter"
           }
          ],
          "scatter3d": [
           {
            "line": {
             "colorbar": {
              "outlinewidth": 0,
              "ticks": ""
             }
            },
            "marker": {
             "colorbar": {
              "outlinewidth": 0,
              "ticks": ""
             }
            },
            "type": "scatter3d"
           }
          ],
          "scattercarpet": [
           {
            "marker": {
             "colorbar": {
              "outlinewidth": 0,
              "ticks": ""
             }
            },
            "type": "scattercarpet"
           }
          ],
          "scattergeo": [
           {
            "marker": {
             "colorbar": {
              "outlinewidth": 0,
              "ticks": ""
             }
            },
            "type": "scattergeo"
           }
          ],
          "scattergl": [
           {
            "marker": {
             "colorbar": {
              "outlinewidth": 0,
              "ticks": ""
             }
            },
            "type": "scattergl"
           }
          ],
          "scattermapbox": [
           {
            "marker": {
             "colorbar": {
              "outlinewidth": 0,
              "ticks": ""
             }
            },
            "type": "scattermapbox"
           }
          ],
          "scatterpolar": [
           {
            "marker": {
             "colorbar": {
              "outlinewidth": 0,
              "ticks": ""
             }
            },
            "type": "scatterpolar"
           }
          ],
          "scatterpolargl": [
           {
            "marker": {
             "colorbar": {
              "outlinewidth": 0,
              "ticks": ""
             }
            },
            "type": "scatterpolargl"
           }
          ],
          "scatterternary": [
           {
            "marker": {
             "colorbar": {
              "outlinewidth": 0,
              "ticks": ""
             }
            },
            "type": "scatterternary"
           }
          ],
          "surface": [
           {
            "colorbar": {
             "outlinewidth": 0,
             "ticks": ""
            },
            "colorscale": [
             [
              0,
              "#0d0887"
             ],
             [
              0.1111111111111111,
              "#46039f"
             ],
             [
              0.2222222222222222,
              "#7201a8"
             ],
             [
              0.3333333333333333,
              "#9c179e"
             ],
             [
              0.4444444444444444,
              "#bd3786"
             ],
             [
              0.5555555555555556,
              "#d8576b"
             ],
             [
              0.6666666666666666,
              "#ed7953"
             ],
             [
              0.7777777777777778,
              "#fb9f3a"
             ],
             [
              0.8888888888888888,
              "#fdca26"
             ],
             [
              1,
              "#f0f921"
             ]
            ],
            "type": "surface"
           }
          ],
          "table": [
           {
            "cells": {
             "fill": {
              "color": "#EBF0F8"
             },
             "line": {
              "color": "white"
             }
            },
            "header": {
             "fill": {
              "color": "#C8D4E3"
             },
             "line": {
              "color": "white"
             }
            },
            "type": "table"
           }
          ]
         },
         "layout": {
          "annotationdefaults": {
           "arrowcolor": "#2a3f5f",
           "arrowhead": 0,
           "arrowwidth": 1
          },
          "colorscale": {
           "diverging": [
            [
             0,
             "#8e0152"
            ],
            [
             0.1,
             "#c51b7d"
            ],
            [
             0.2,
             "#de77ae"
            ],
            [
             0.3,
             "#f1b6da"
            ],
            [
             0.4,
             "#fde0ef"
            ],
            [
             0.5,
             "#f7f7f7"
            ],
            [
             0.6,
             "#e6f5d0"
            ],
            [
             0.7,
             "#b8e186"
            ],
            [
             0.8,
             "#7fbc41"
            ],
            [
             0.9,
             "#4d9221"
            ],
            [
             1,
             "#276419"
            ]
           ],
           "sequential": [
            [
             0,
             "#0d0887"
            ],
            [
             0.1111111111111111,
             "#46039f"
            ],
            [
             0.2222222222222222,
             "#7201a8"
            ],
            [
             0.3333333333333333,
             "#9c179e"
            ],
            [
             0.4444444444444444,
             "#bd3786"
            ],
            [
             0.5555555555555556,
             "#d8576b"
            ],
            [
             0.6666666666666666,
             "#ed7953"
            ],
            [
             0.7777777777777778,
             "#fb9f3a"
            ],
            [
             0.8888888888888888,
             "#fdca26"
            ],
            [
             1,
             "#f0f921"
            ]
           ],
           "sequentialminus": [
            [
             0,
             "#0d0887"
            ],
            [
             0.1111111111111111,
             "#46039f"
            ],
            [
             0.2222222222222222,
             "#7201a8"
            ],
            [
             0.3333333333333333,
             "#9c179e"
            ],
            [
             0.4444444444444444,
             "#bd3786"
            ],
            [
             0.5555555555555556,
             "#d8576b"
            ],
            [
             0.6666666666666666,
             "#ed7953"
            ],
            [
             0.7777777777777778,
             "#fb9f3a"
            ],
            [
             0.8888888888888888,
             "#fdca26"
            ],
            [
             1,
             "#f0f921"
            ]
           ]
          },
          "colorway": [
           "#636efa",
           "#EF553B",
           "#00cc96",
           "#ab63fa",
           "#FFA15A",
           "#19d3f3",
           "#FF6692",
           "#B6E880",
           "#FF97FF",
           "#FECB52"
          ],
          "font": {
           "color": "#2a3f5f"
          },
          "geo": {
           "bgcolor": "white",
           "lakecolor": "white",
           "landcolor": "#E5ECF6",
           "showlakes": true,
           "showland": true,
           "subunitcolor": "white"
          },
          "hoverlabel": {
           "align": "left"
          },
          "hovermode": "closest",
          "mapbox": {
           "style": "light"
          },
          "paper_bgcolor": "white",
          "plot_bgcolor": "#E5ECF6",
          "polar": {
           "angularaxis": {
            "gridcolor": "white",
            "linecolor": "white",
            "ticks": ""
           },
           "bgcolor": "#E5ECF6",
           "radialaxis": {
            "gridcolor": "white",
            "linecolor": "white",
            "ticks": ""
           }
          },
          "scene": {
           "xaxis": {
            "backgroundcolor": "#E5ECF6",
            "gridcolor": "white",
            "gridwidth": 2,
            "linecolor": "white",
            "showbackground": true,
            "ticks": "",
            "zerolinecolor": "white"
           },
           "yaxis": {
            "backgroundcolor": "#E5ECF6",
            "gridcolor": "white",
            "gridwidth": 2,
            "linecolor": "white",
            "showbackground": true,
            "ticks": "",
            "zerolinecolor": "white"
           },
           "zaxis": {
            "backgroundcolor": "#E5ECF6",
            "gridcolor": "white",
            "gridwidth": 2,
            "linecolor": "white",
            "showbackground": true,
            "ticks": "",
            "zerolinecolor": "white"
           }
          },
          "shapedefaults": {
           "line": {
            "color": "#2a3f5f"
           }
          },
          "ternary": {
           "aaxis": {
            "gridcolor": "white",
            "linecolor": "white",
            "ticks": ""
           },
           "baxis": {
            "gridcolor": "white",
            "linecolor": "white",
            "ticks": ""
           },
           "bgcolor": "#E5ECF6",
           "caxis": {
            "gridcolor": "white",
            "linecolor": "white",
            "ticks": ""
           }
          },
          "title": {
           "x": 0.05
          },
          "xaxis": {
           "automargin": true,
           "gridcolor": "white",
           "linecolor": "white",
           "ticks": "",
           "zerolinecolor": "white",
           "zerolinewidth": 2
          },
          "yaxis": {
           "automargin": true,
           "gridcolor": "white",
           "linecolor": "white",
           "ticks": "",
           "zerolinecolor": "white",
           "zerolinewidth": 2
          }
         }
        }
       }
      },
      "text/html": [
       "<div>\n",
       "        \n",
       "        \n",
       "            <div id=\"28b1de90-8f89-41b7-86db-84f28b16c1db\" class=\"plotly-graph-div\" style=\"height:525px; width:100%;\"></div>\n",
       "            <script type=\"text/javascript\">\n",
       "                require([\"plotly\"], function(Plotly) {\n",
       "                    window.PLOTLYENV=window.PLOTLYENV || {};\n",
       "                    \n",
       "                if (document.getElementById(\"28b1de90-8f89-41b7-86db-84f28b16c1db\")) {\n",
       "                    Plotly.newPlot(\n",
       "                        '28b1de90-8f89-41b7-86db-84f28b16c1db',\n",
       "                        [{\"mode\": \"lines+markers\", \"name\": \"Green Bay Packers\", \"type\": \"scatter\", \"x\": [2014, 2015, 2016, 2017, 2018], \"y\": [4261, 3503, 4199, 3167, 4238]}, {\"mode\": \"lines+markers\", \"name\": \"Tampa Bay Buccaneers\", \"type\": \"scatter\", \"x\": [2014, 2015, 2016, 2017, 2018], \"y\": [3297, 3852, 3926, 4366, 5125]}, {\"mode\": \"lines+markers\", \"name\": \"Dallas Cowboys\", \"type\": \"scatter\", \"x\": [2014, 2015, 2016, 2017, 2018], \"y\": [3784, 3471, 3631, 3141, 3538]}, {\"mode\": \"lines+markers\", \"name\": \"Atlanta Falcons\", \"type\": \"scatter\", \"x\": [2014, 2015, 2016, 2017, 2018], \"y\": [4553, 4379, 4725, 3990, 4653]}, {\"mode\": \"lines+markers\", \"name\": \"Los Angeles Rams\", \"type\": \"scatter\", \"x\": [2014, 2015, 2016, 2017, 2018], \"y\": [3400, 2805, 2951, 3831, 4507]}, {\"mode\": \"lines+markers\", \"name\": \"Kansas City Chiefs\", \"type\": \"scatter\", \"x\": [2014, 2015, 2016, 2017, 2018], \"y\": [3182, 3255, 3740, 4104, 4955]}, {\"mode\": \"lines+markers\", \"name\": \"Los Angeles Chargers\", \"type\": \"scatter\", \"x\": [2014, 2015, 2016, 2017, 2018], \"y\": [4098, 4591, 4198, 4431, 4089]}, {\"mode\": \"lines+markers\", \"name\": \"New Orleans Saints\", \"type\": \"scatter\", \"x\": [2014, 2015, 2016, 2017, 2018], \"y\": [4764, 4970, 5074, 4189, 4042]}, {\"mode\": \"lines+markers\", \"name\": \"New England Patriots\", \"type\": \"scatter\", \"x\": [2014, 2015, 2016, 2017, 2018], \"y\": [4121, 4587, 4308, 4418, 4258]}, {\"mode\": \"lines+markers\", \"name\": \"Oakland Raiders\", \"type\": \"scatter\", \"x\": [2014, 2015, 2016, 2017, 2018], \"y\": [3275, 3879, 4051, 3631, 3751]}, {\"mode\": \"lines+markers\", \"name\": \"Detroit Lions\", \"type\": \"scatter\", \"x\": [2014, 2015, 2016, 2017, 2018], \"y\": [4030, 4212, 4111, 4183, 3576]}, {\"mode\": \"lines+markers\", \"name\": \"Philadelphia Eagles\", \"type\": \"scatter\", \"x\": [2014, 2015, 2016, 2017, 2018], \"y\": [4356, 4087, 3585, 3737, 4275]}, {\"mode\": \"lines+markers\", \"name\": \"Miami Dolphins\", \"type\": \"scatter\", \"x\": [2014, 2015, 2016, 2017, 2018], \"y\": [3729, 3811, 3500, 3535, 2900]}, {\"mode\": \"lines+markers\", \"name\": \"San Francisco 49ers\", \"type\": \"scatter\", \"x\": [2014, 2015, 2016, 2017, 2018], \"y\": [3063, 3316, 2911, 3925, 3867]}, {\"mode\": \"lines+markers\", \"name\": \"Seattle Seahawks\", \"type\": \"scatter\", \"x\": [2014, 2015, 2016, 2017, 2018], \"y\": [3250, 3790, 4124, 3657, 3093]}, {\"mode\": \"lines+markers\", \"name\": \"Houston Texans\", \"type\": \"scatter\", \"x\": [2014, 2015, 2016, 2017, 2018], \"y\": [3352, 3833, 3176, 3278, 3781]}, {\"mode\": \"lines+markers\", \"name\": \"Jacksonville Jaguars\", \"type\": \"scatter\", \"x\": [2014, 2015, 2016, 2017, 2018], \"y\": [3001, 4108, 3728, 3593, 3109]}, {\"mode\": \"lines+markers\", \"name\": \"New York Giants\", \"type\": \"scatter\", \"x\": [2014, 2015, 2016, 2017, 2018], \"y\": [4272, 4343, 3879, 3479, 4047]}, {\"mode\": \"lines+markers\", \"name\": \"Cincinnati Bengals\", \"type\": \"scatter\", \"x\": [2014, 2015, 2016, 2017, 2018], \"y\": [3421, 3923, 3942, 3122, 3290]}, {\"mode\": \"lines+markers\", \"name\": \"Carolina Panthers\", \"type\": \"scatter\", \"x\": [2014, 2015, 2016, 2017, 2018], \"y\": [3511, 3589, 3685, 3077, 3836]}, {\"mode\": \"lines+markers\", \"name\": \"Tennessee Titans\", \"type\": \"scatter\", \"x\": [2014, 2015, 2016, 2017, 2018], \"y\": [3412, 3503, 3541, 3191, 2975]}, {\"mode\": \"lines+markers\", \"name\": \"Cleveland Browns\", \"type\": \"scatter\", \"x\": [2014, 2015, 2016, 2017, 2018], \"y\": [3465, 3782, 3264, 3228, 4007]}, {\"mode\": \"lines+markers\", \"name\": \"Minnesota Vikings\", \"type\": \"scatter\", \"x\": [2014, 2015, 2016, 2017, 2018], \"y\": [3244, 2928, 3836, 3753, 4036]}, {\"mode\": \"lines+markers\", \"name\": \"Arizona Cardinals\", \"type\": \"scatter\", \"x\": [2014, 2015, 2016, 2017, 2018], \"y\": [3808, 4616, 4136, 3640, 2523]}, {\"mode\": \"lines+markers\", \"name\": \"Chicago Bears\", \"type\": \"scatter\", \"x\": [2014, 2015, 2016, 2017, 2018], \"y\": [3792, 3660, 3969, 2811, 3564]}, {\"mode\": \"lines+markers\", \"name\": \"Buffalo Bills\", \"type\": \"scatter\", \"x\": [2014, 2015, 2016, 2017, 2018], \"y\": [3614, 3343, 3036, 2825, 2794]}, {\"mode\": \"lines+markers\", \"name\": \"Baltimore Ravens\", \"type\": \"scatter\", \"x\": [2014, 2015, 2016, 2017, 2018], \"y\": [3819, 4271, 4100, 3030, 3558]}, {\"mode\": \"lines+markers\", \"name\": \"Denver Broncos\", \"type\": \"scatter\", \"x\": [2014, 2015, 2016, 2017, 2018], \"y\": [4661, 3970, 3685, 3333, 3695]}, {\"mode\": \"lines+markers\", \"name\": \"New York Jets\", \"type\": \"scatter\", \"x\": [2014, 2015, 2016, 2017, 2018], \"y\": [2946, 4057, 3466, 3182, 3165]}, {\"mode\": \"lines+markers\", \"name\": \"Indianapolis Colts\", \"type\": \"scatter\", \"x\": [2014, 2015, 2016, 2017, 2018], \"y\": [4894, 3704, 4202, 2892, 4461]}, {\"mode\": \"lines+markers\", \"name\": \"Pittsburgh Steelers\", \"type\": \"scatter\", \"x\": [2014, 2015, 2016, 2017, 2018], \"y\": [4825, 4603, 4202, 4380, 5008]}, {\"mode\": \"lines+markers\", \"name\": \"Washington Redskins\", \"type\": \"scatter\", \"x\": [2014, 2015, 2016, 2017, 2018], \"y\": [4047, 4095, 4758, 3751, 3021]}],\n",
       "                        {\"template\": {\"data\": {\"bar\": [{\"error_x\": {\"color\": \"#2a3f5f\"}, \"error_y\": {\"color\": \"#2a3f5f\"}, \"marker\": {\"line\": {\"color\": \"#E5ECF6\", \"width\": 0.5}}, \"type\": \"bar\"}], \"barpolar\": [{\"marker\": {\"line\": {\"color\": \"#E5ECF6\", \"width\": 0.5}}, \"type\": \"barpolar\"}], \"carpet\": [{\"aaxis\": {\"endlinecolor\": \"#2a3f5f\", \"gridcolor\": \"white\", \"linecolor\": \"white\", \"minorgridcolor\": \"white\", \"startlinecolor\": \"#2a3f5f\"}, \"baxis\": {\"endlinecolor\": \"#2a3f5f\", \"gridcolor\": \"white\", \"linecolor\": \"white\", \"minorgridcolor\": \"white\", \"startlinecolor\": \"#2a3f5f\"}, \"type\": \"carpet\"}], \"choropleth\": [{\"colorbar\": {\"outlinewidth\": 0, \"ticks\": \"\"}, \"type\": \"choropleth\"}], \"contour\": [{\"colorbar\": {\"outlinewidth\": 0, \"ticks\": \"\"}, \"colorscale\": [[0.0, \"#0d0887\"], [0.1111111111111111, \"#46039f\"], [0.2222222222222222, \"#7201a8\"], [0.3333333333333333, \"#9c179e\"], [0.4444444444444444, \"#bd3786\"], [0.5555555555555556, \"#d8576b\"], [0.6666666666666666, \"#ed7953\"], [0.7777777777777778, \"#fb9f3a\"], [0.8888888888888888, \"#fdca26\"], [1.0, \"#f0f921\"]], \"type\": \"contour\"}], \"contourcarpet\": [{\"colorbar\": {\"outlinewidth\": 0, \"ticks\": \"\"}, \"type\": \"contourcarpet\"}], \"heatmap\": [{\"colorbar\": {\"outlinewidth\": 0, \"ticks\": \"\"}, \"colorscale\": [[0.0, \"#0d0887\"], [0.1111111111111111, \"#46039f\"], [0.2222222222222222, \"#7201a8\"], [0.3333333333333333, \"#9c179e\"], [0.4444444444444444, \"#bd3786\"], [0.5555555555555556, \"#d8576b\"], [0.6666666666666666, \"#ed7953\"], [0.7777777777777778, \"#fb9f3a\"], [0.8888888888888888, \"#fdca26\"], [1.0, \"#f0f921\"]], \"type\": \"heatmap\"}], \"heatmapgl\": [{\"colorbar\": {\"outlinewidth\": 0, \"ticks\": \"\"}, \"colorscale\": [[0.0, \"#0d0887\"], [0.1111111111111111, \"#46039f\"], [0.2222222222222222, \"#7201a8\"], [0.3333333333333333, \"#9c179e\"], [0.4444444444444444, \"#bd3786\"], [0.5555555555555556, \"#d8576b\"], [0.6666666666666666, \"#ed7953\"], [0.7777777777777778, \"#fb9f3a\"], [0.8888888888888888, \"#fdca26\"], [1.0, \"#f0f921\"]], \"type\": \"heatmapgl\"}], \"histogram\": [{\"marker\": {\"colorbar\": {\"outlinewidth\": 0, \"ticks\": \"\"}}, \"type\": \"histogram\"}], \"histogram2d\": [{\"colorbar\": {\"outlinewidth\": 0, \"ticks\": \"\"}, \"colorscale\": [[0.0, \"#0d0887\"], [0.1111111111111111, \"#46039f\"], [0.2222222222222222, \"#7201a8\"], [0.3333333333333333, \"#9c179e\"], [0.4444444444444444, \"#bd3786\"], [0.5555555555555556, \"#d8576b\"], [0.6666666666666666, \"#ed7953\"], [0.7777777777777778, \"#fb9f3a\"], [0.8888888888888888, \"#fdca26\"], [1.0, \"#f0f921\"]], \"type\": \"histogram2d\"}], \"histogram2dcontour\": [{\"colorbar\": {\"outlinewidth\": 0, \"ticks\": \"\"}, \"colorscale\": [[0.0, \"#0d0887\"], [0.1111111111111111, \"#46039f\"], [0.2222222222222222, \"#7201a8\"], [0.3333333333333333, \"#9c179e\"], [0.4444444444444444, \"#bd3786\"], [0.5555555555555556, \"#d8576b\"], [0.6666666666666666, \"#ed7953\"], [0.7777777777777778, \"#fb9f3a\"], [0.8888888888888888, \"#fdca26\"], [1.0, \"#f0f921\"]], \"type\": \"histogram2dcontour\"}], \"mesh3d\": [{\"colorbar\": {\"outlinewidth\": 0, \"ticks\": \"\"}, \"type\": \"mesh3d\"}], \"parcoords\": [{\"line\": {\"colorbar\": {\"outlinewidth\": 0, \"ticks\": \"\"}}, \"type\": \"parcoords\"}], \"scatter\": [{\"marker\": {\"colorbar\": {\"outlinewidth\": 0, \"ticks\": \"\"}}, \"type\": \"scatter\"}], \"scatter3d\": [{\"line\": {\"colorbar\": {\"outlinewidth\": 0, \"ticks\": \"\"}}, \"marker\": {\"colorbar\": {\"outlinewidth\": 0, \"ticks\": \"\"}}, \"type\": \"scatter3d\"}], \"scattercarpet\": [{\"marker\": {\"colorbar\": {\"outlinewidth\": 0, \"ticks\": \"\"}}, \"type\": \"scattercarpet\"}], \"scattergeo\": [{\"marker\": {\"colorbar\": {\"outlinewidth\": 0, \"ticks\": \"\"}}, \"type\": \"scattergeo\"}], \"scattergl\": [{\"marker\": {\"colorbar\": {\"outlinewidth\": 0, \"ticks\": \"\"}}, \"type\": \"scattergl\"}], \"scattermapbox\": [{\"marker\": {\"colorbar\": {\"outlinewidth\": 0, \"ticks\": \"\"}}, \"type\": \"scattermapbox\"}], \"scatterpolar\": [{\"marker\": {\"colorbar\": {\"outlinewidth\": 0, \"ticks\": \"\"}}, \"type\": \"scatterpolar\"}], \"scatterpolargl\": [{\"marker\": {\"colorbar\": {\"outlinewidth\": 0, \"ticks\": \"\"}}, \"type\": \"scatterpolargl\"}], \"scatterternary\": [{\"marker\": {\"colorbar\": {\"outlinewidth\": 0, \"ticks\": \"\"}}, \"type\": \"scatterternary\"}], \"surface\": [{\"colorbar\": {\"outlinewidth\": 0, \"ticks\": \"\"}, \"colorscale\": [[0.0, \"#0d0887\"], [0.1111111111111111, \"#46039f\"], [0.2222222222222222, \"#7201a8\"], [0.3333333333333333, \"#9c179e\"], [0.4444444444444444, \"#bd3786\"], [0.5555555555555556, \"#d8576b\"], [0.6666666666666666, \"#ed7953\"], [0.7777777777777778, \"#fb9f3a\"], [0.8888888888888888, \"#fdca26\"], [1.0, \"#f0f921\"]], \"type\": \"surface\"}], \"table\": [{\"cells\": {\"fill\": {\"color\": \"#EBF0F8\"}, \"line\": {\"color\": \"white\"}}, \"header\": {\"fill\": {\"color\": \"#C8D4E3\"}, \"line\": {\"color\": \"white\"}}, \"type\": \"table\"}]}, \"layout\": {\"annotationdefaults\": {\"arrowcolor\": \"#2a3f5f\", \"arrowhead\": 0, \"arrowwidth\": 1}, \"colorscale\": {\"diverging\": [[0, \"#8e0152\"], [0.1, \"#c51b7d\"], [0.2, \"#de77ae\"], [0.3, \"#f1b6da\"], [0.4, \"#fde0ef\"], [0.5, \"#f7f7f7\"], [0.6, \"#e6f5d0\"], [0.7, \"#b8e186\"], [0.8, \"#7fbc41\"], [0.9, \"#4d9221\"], [1, \"#276419\"]], \"sequential\": [[0.0, \"#0d0887\"], [0.1111111111111111, \"#46039f\"], [0.2222222222222222, \"#7201a8\"], [0.3333333333333333, \"#9c179e\"], [0.4444444444444444, \"#bd3786\"], [0.5555555555555556, \"#d8576b\"], [0.6666666666666666, \"#ed7953\"], [0.7777777777777778, \"#fb9f3a\"], [0.8888888888888888, \"#fdca26\"], [1.0, \"#f0f921\"]], \"sequentialminus\": [[0.0, \"#0d0887\"], [0.1111111111111111, \"#46039f\"], [0.2222222222222222, \"#7201a8\"], [0.3333333333333333, \"#9c179e\"], [0.4444444444444444, \"#bd3786\"], [0.5555555555555556, \"#d8576b\"], [0.6666666666666666, \"#ed7953\"], [0.7777777777777778, \"#fb9f3a\"], [0.8888888888888888, \"#fdca26\"], [1.0, \"#f0f921\"]]}, \"colorway\": [\"#636efa\", \"#EF553B\", \"#00cc96\", \"#ab63fa\", \"#FFA15A\", \"#19d3f3\", \"#FF6692\", \"#B6E880\", \"#FF97FF\", \"#FECB52\"], \"font\": {\"color\": \"#2a3f5f\"}, \"geo\": {\"bgcolor\": \"white\", \"lakecolor\": \"white\", \"landcolor\": \"#E5ECF6\", \"showlakes\": true, \"showland\": true, \"subunitcolor\": \"white\"}, \"hoverlabel\": {\"align\": \"left\"}, \"hovermode\": \"closest\", \"mapbox\": {\"style\": \"light\"}, \"paper_bgcolor\": \"white\", \"plot_bgcolor\": \"#E5ECF6\", \"polar\": {\"angularaxis\": {\"gridcolor\": \"white\", \"linecolor\": \"white\", \"ticks\": \"\"}, \"bgcolor\": \"#E5ECF6\", \"radialaxis\": {\"gridcolor\": \"white\", \"linecolor\": \"white\", \"ticks\": \"\"}}, \"scene\": {\"xaxis\": {\"backgroundcolor\": \"#E5ECF6\", \"gridcolor\": \"white\", \"gridwidth\": 2, \"linecolor\": \"white\", \"showbackground\": true, \"ticks\": \"\", \"zerolinecolor\": \"white\"}, \"yaxis\": {\"backgroundcolor\": \"#E5ECF6\", \"gridcolor\": \"white\", \"gridwidth\": 2, \"linecolor\": \"white\", \"showbackground\": true, \"ticks\": \"\", \"zerolinecolor\": \"white\"}, \"zaxis\": {\"backgroundcolor\": \"#E5ECF6\", \"gridcolor\": \"white\", \"gridwidth\": 2, \"linecolor\": \"white\", \"showbackground\": true, \"ticks\": \"\", \"zerolinecolor\": \"white\"}}, \"shapedefaults\": {\"line\": {\"color\": \"#2a3f5f\"}}, \"ternary\": {\"aaxis\": {\"gridcolor\": \"white\", \"linecolor\": \"white\", \"ticks\": \"\"}, \"baxis\": {\"gridcolor\": \"white\", \"linecolor\": \"white\", \"ticks\": \"\"}, \"bgcolor\": \"#E5ECF6\", \"caxis\": {\"gridcolor\": \"white\", \"linecolor\": \"white\", \"ticks\": \"\"}}, \"title\": {\"x\": 0.05}, \"xaxis\": {\"automargin\": true, \"gridcolor\": \"white\", \"linecolor\": \"white\", \"ticks\": \"\", \"zerolinecolor\": \"white\", \"zerolinewidth\": 2}, \"yaxis\": {\"automargin\": true, \"gridcolor\": \"white\", \"linecolor\": \"white\", \"ticks\": \"\", \"zerolinecolor\": \"white\", \"zerolinewidth\": 2}}}},\n",
       "                        {\"responsive\": true}\n",
       "                    ).then(function(){\n",
       "                            \n",
       "var gd = document.getElementById('28b1de90-8f89-41b7-86db-84f28b16c1db');\n",
       "var x = new MutationObserver(function (mutations, observer) {{\n",
       "        var display = window.getComputedStyle(gd).display;\n",
       "        if (!display || display === 'none') {{\n",
       "            console.log([gd, 'removed!']);\n",
       "            Plotly.purge(gd);\n",
       "            observer.disconnect();\n",
       "        }}\n",
       "}});\n",
       "\n",
       "// Listen for the removal of the full notebook cells\n",
       "var notebookContainer = gd.closest('#notebook-container');\n",
       "if (notebookContainer) {{\n",
       "    x.observe(notebookContainer, {childList: true});\n",
       "}}\n",
       "\n",
       "// Listen for the clearing of the current output cell\n",
       "var outputEl = gd.closest('.output');\n",
       "if (outputEl) {{\n",
       "    x.observe(outputEl, {childList: true});\n",
       "}}\n",
       "\n",
       "                        })\n",
       "                };\n",
       "                });\n",
       "            </script>\n",
       "        </div>"
      ]
     },
     "metadata": {},
     "output_type": "display_data"
    }
   ],
   "source": [
    "fig = go.Figure()\n",
    "\n",
    "# Add traces\n",
    "fig.add_trace(go.Scatter(x=year, y=gbPackers_netY,\n",
    "                    mode='lines+markers',\n",
    "                    name='Green Bay Packers'))\n",
    "fig.add_trace(go.Scatter(x=year, y=tBay_netY,\n",
    "                    mode='lines+markers',\n",
    "                    name='Tampa Bay Buccaneers'))\n",
    "fig.add_trace(go.Scatter(x=year, y=dallas_netY,\n",
    "                    mode='lines+markers',\n",
    "                    name='Dallas Cowboys'))\n",
    "\n",
    "fig.add_trace(go.Scatter(x=year, y=atlanta_netY,\n",
    "                    mode='lines+markers',\n",
    "                    name='Atlanta Falcons'))\n",
    "fig.add_trace(go.Scatter(x=year, y=rams_netY,\n",
    "                    mode='lines+markers',\n",
    "                    name='Los Angeles Rams'))\n",
    "fig.add_trace(go.Scatter(x=year, y=kansas_netY,\n",
    "                    mode='lines+markers',\n",
    "                    name='Kansas City Chiefs'))\n",
    "\n",
    "fig.add_trace(go.Scatter(x=year, y=chargers_netY,\n",
    "                    mode='lines+markers',\n",
    "                    name='Los Angeles Chargers'))\n",
    "fig.add_trace(go.Scatter(x=year, y=orleands_netY,\n",
    "                    mode='lines+markers',\n",
    "                    name='New Orleans Saints'))\n",
    "fig.add_trace(go.Scatter(x=year, y=england_netY,\n",
    "                    mode='lines+markers',\n",
    "                    name='New England Patriots'))\n",
    "\n",
    "fig.add_trace(go.Scatter(x=year, y=oak_netY,\n",
    "                    mode='lines+markers',\n",
    "                    name='Oakland Raiders'))\n",
    "fig.add_trace(go.Scatter(x=year, y=detroid_netY,\n",
    "                    mode='lines+markers',\n",
    "                    name='Detroit Lions'))\n",
    "fig.add_trace(go.Scatter(x=year, y=philadelphia_netY,\n",
    "                    mode='lines+markers',\n",
    "                    name='Philadelphia Eagles'))\n",
    "\n",
    "fig.add_trace(go.Scatter(x=year, y=miami_netY,\n",
    "                    mode='lines+markers',\n",
    "                    name='Miami Dolphins'))\n",
    "fig.add_trace(go.Scatter(x=year, y=san_francisco_netY,\n",
    "                    mode='lines+markers',\n",
    "                    name='San Francisco 49ers'))\n",
    "fig.add_trace(go.Scatter(x=year, y=seattle_netY,\n",
    "                    mode='lines+markers',\n",
    "                    name='Seattle Seahawks'))\n",
    "\n",
    "fig.add_trace(go.Scatter(x=year, y=houston_netY,\n",
    "                    mode='lines+markers',\n",
    "                    name='Houston Texans'))\n",
    "fig.add_trace(go.Scatter(x=year, y=jacksonville_netY,\n",
    "                    mode='lines+markers',\n",
    "                    name='Jacksonville Jaguars'))\n",
    "fig.add_trace(go.Scatter(x=year, y=giants_netY,\n",
    "                    mode='lines+markers',\n",
    "                    name='New York Giants'))\n",
    "\n",
    "fig.add_trace(go.Scatter(x=year, y=cincinnati_netY,\n",
    "                    mode='lines+markers',\n",
    "                    name='Cincinnati Bengals'))\n",
    "fig.add_trace(go.Scatter(x=year, y=carolina_netY,\n",
    "                    mode='lines+markers',\n",
    "                    name='Carolina Panthers'))\n",
    "fig.add_trace(go.Scatter(x=year, y=tenessee_netY,\n",
    "                    mode='lines+markers',\n",
    "                    name='Tennessee Titans'))\n",
    "\n",
    "fig.add_trace(go.Scatter(x=year, y=cleveland_netY,\n",
    "                    mode='lines+markers',\n",
    "                    name='Cleveland Browns'))\n",
    "fig.add_trace(go.Scatter(x=year, y=minnesota_netY,\n",
    "                    mode='lines+markers',\n",
    "                    name='Minnesota Vikings'))\n",
    "fig.add_trace(go.Scatter(x=year, y=arizona_netY,\n",
    "                    mode='lines+markers',\n",
    "                    name='Arizona Cardinals'))\n",
    "\n",
    "fig.add_trace(go.Scatter(x=year, y=chicago_netY,\n",
    "                    mode='lines+markers',\n",
    "                    name='Chicago Bears'))\n",
    "fig.add_trace(go.Scatter(x=year, y=buffalo_netY,\n",
    "                    mode='lines+markers',\n",
    "                    name='Buffalo Bills'))\n",
    "fig.add_trace(go.Scatter(x=year, y=baltimore_netY,\n",
    "                    mode='lines+markers',\n",
    "                    name='Baltimore Ravens'))\n",
    "\n",
    "fig.add_trace(go.Scatter(x=year, y=denver_netY,\n",
    "                    mode='lines+markers',\n",
    "                    name='Denver Broncos'))\n",
    "fig.add_trace(go.Scatter(x=year, y=jets_netY,\n",
    "                    mode='lines+markers',\n",
    "                    name='New York Jets'))\n",
    "fig.add_trace(go.Scatter(x=year, y=inianapolis_netY,\n",
    "                    mode='lines+markers',\n",
    "                    name='Indianapolis Colts'))\n",
    "\n",
    "fig.add_trace(go.Scatter(x=year, y=pittsburgh_netY,\n",
    "                    mode='lines+markers',\n",
    "                    name='Pittsburgh Steelers'))\n",
    "fig.add_trace(go.Scatter(x=year, y=washington_netY,\n",
    "                    mode='lines+markers',\n",
    "                    name='Washington Redskins'))\n",
    "\n",
    "fig.show()"
   ]
  },
  {
   "cell_type": "markdown",
   "metadata": {},
   "source": [
    "## Net Yard Passing per Game"
   ]
  },
  {
   "cell_type": "code",
   "execution_count": 10,
   "metadata": {},
   "outputs": [],
   "source": [
    "gbPackers_netYG = gbPackers_passing.iloc[:, 13].values\n",
    "tBay_netYG = tBay_passing.iloc[:, 13].values\n",
    "dallas_netYG = dallas_passing.iloc[:, 13].values\n",
    "atlanta_netYG = atlanta_passing.iloc[:, 13].values\n",
    "rams_netYG = rams_passing.iloc[:, 13].values\n",
    "kansas_netYG = kansas_passing.iloc[:, 13].values\n",
    "chargers_netYG = chargers_passing.iloc[:, 13].values\n",
    "orleands_netYG = orleands_passing.iloc[:, 13].values\n",
    "england_netYG = england_passing.iloc[:, 13].values\n",
    "oak_netYG = oak_passing.iloc[:, 13].values\n",
    "detroid_netYG = detroid_passing.iloc[:, 13].values\n",
    "philadelphia_netYG = philadelphia_passing.iloc[:, 13].values\n",
    "miami_netYG = miami_passing.iloc[:, 13].values\n",
    "san_francisco_netYG = san_francisco_passing.iloc[:, 13].values\n",
    "seattle_netYG = seattle_passing.iloc[:, 13].values\n",
    "houston_netYG = houston_passing.iloc[:, 13].values\n",
    "jacksonville_netYG = jacksonville_passing.iloc[:, 13].values\n",
    "giants_netYG = giants_passing.iloc[:, 13].values\n",
    "cincinnati_netYG = cincinnati_passing.iloc[:, 13].values\n",
    "carolina_netYG = carolina_passing.iloc[:, 13].values\n",
    "tenessee_netYG = tenessee_passing.iloc[:, 13].values\n",
    "cleveland_netYG = cleveland_passing.iloc[:, 13].values\n",
    "minnesota_netYG = minnesota_passing.iloc[:, 13].values\n",
    "arizona_netYG = arizona_passing.iloc[:, 13].values\n",
    "chicago_netYG = chicago_passing.iloc[:, 13].values\n",
    "buffalo_netYG = buffalo_passing.iloc[:, 13].values\n",
    "baltimore_netYG = baltimore_passing.iloc[:, 13].values\n",
    "denver_netYG = denver_passing.iloc[:, 13].values\n",
    "jets_netYG = jets_passing.iloc[:, 13].values\n",
    "inianapolis_netYG = inianapolis_passing.iloc[:, 13].values\n",
    "pittsburgh_netYG = pittsburgh_passing.iloc[:, 13].values\n",
    "washington_netYG = washington_passing.iloc[:, 13].values"
   ]
  },
  {
   "cell_type": "code",
   "execution_count": 11,
   "metadata": {},
   "outputs": [
    {
     "data": {
      "application/vnd.plotly.v1+json": {
       "config": {
        "plotlyServerURL": "https://plot.ly"
       },
       "data": [
        {
         "mode": "lines+markers",
         "name": "Green Bay Packers",
         "type": "scatter",
         "x": [
          2014,
          2015,
          2016,
          2017,
          2018
         ],
         "y": [
          266.3,
          218.9,
          262.4,
          197.9,
          264.9
         ]
        },
        {
         "mode": "lines+markers",
         "name": "Tampa Bay Buccaneers",
         "type": "scatter",
         "x": [
          2014,
          2015,
          2016,
          2017,
          2018
         ],
         "y": [
          206.1,
          240.8,
          245.4,
          272.9,
          320.3
         ]
        },
        {
         "mode": "lines+markers",
         "name": "Dallas Cowboys",
         "type": "scatter",
         "x": [
          2014,
          2015,
          2016,
          2017,
          2018
         ],
         "y": [
          236.5,
          216.9,
          226.9,
          196.3,
          221.1
         ]
        },
        {
         "mode": "lines+markers",
         "name": "Atlanta Falcons",
         "type": "scatter",
         "x": [
          2014,
          2015,
          2016,
          2017,
          2018
         ],
         "y": [
          284.6,
          273.7,
          295.3,
          249.4,
          290.8
         ]
        },
        {
         "mode": "lines+markers",
         "name": "Los Angeles Rams",
         "type": "scatter",
         "x": [
          2014,
          2015,
          2016,
          2017,
          2018
         ],
         "y": [
          212.5,
          175.3,
          184.4,
          239.4,
          281.7
         ]
        },
        {
         "mode": "lines+markers",
         "name": "Kansas City Chiefs",
         "type": "scatter",
         "x": [
          2014,
          2015,
          2016,
          2017,
          2018
         ],
         "y": [
          198.9,
          203.4,
          233.8,
          256.5,
          309.7
         ]
        },
        {
         "mode": "lines+markers",
         "name": "Los Angeles Chargers",
         "type": "scatter",
         "x": [
          2014,
          2015,
          2016,
          2017,
          2018
         ],
         "y": [
          256.1,
          286.9,
          262.4,
          276.9,
          255.6
         ]
        },
        {
         "mode": "lines+markers",
         "name": "New Orleans Saints",
         "type": "scatter",
         "x": [
          2014,
          2015,
          2016,
          2017,
          2018
         ],
         "y": [
          297.8,
          310.6,
          317.1,
          261.8,
          252.6
         ]
        },
        {
         "mode": "lines+markers",
         "name": "New England Patriots",
         "type": "scatter",
         "x": [
          2014,
          2015,
          2016,
          2017,
          2018
         ],
         "y": [
          257.6,
          286.7,
          269.2,
          276.1,
          266.1
         ]
        },
        {
         "mode": "lines+markers",
         "name": "Oakland Raiders",
         "type": "scatter",
         "x": [
          2014,
          2015,
          2016,
          2017,
          2018
         ],
         "y": [
          204.7,
          242.4,
          253.2,
          226.9,
          234.4
         ]
        },
        {
         "mode": "lines+markers",
         "name": "Detroit Lions",
         "type": "scatter",
         "x": [
          2014,
          2015,
          2016,
          2017,
          2018
         ],
         "y": [
          251.9,
          263.2,
          256.9,
          261.4,
          223.5
         ]
        },
        {
         "mode": "lines+markers",
         "name": "Philadelphia Eagles",
         "type": "scatter",
         "x": [
          2014,
          2015,
          2016,
          2017,
          2018
         ],
         "y": [
          272.2,
          255.4,
          224.1,
          233.6,
          267.2
         ]
        },
        {
         "mode": "lines+markers",
         "name": "Miami Dolphins",
         "type": "scatter",
         "x": [
          2014,
          2015,
          2016,
          2017,
          2018
         ],
         "y": [
          233.1,
          238.2,
          218.8,
          220.9,
          181.2
         ]
        },
        {
         "mode": "lines+markers",
         "name": "San Francisco 49ers",
         "type": "scatter",
         "x": [
          2014,
          2015,
          2016,
          2017,
          2018
         ],
         "y": [
          191.4,
          207.2,
          181.9,
          245.3,
          241.7
         ]
        },
        {
         "mode": "lines+markers",
         "name": "Seattle Seahawks",
         "type": "scatter",
         "x": [
          2014,
          2015,
          2016,
          2017,
          2018
         ],
         "y": [
          203.1,
          236.9,
          257.8,
          228.6,
          193.3
         ]
        },
        {
         "mode": "lines+markers",
         "name": "Houston Texans",
         "type": "scatter",
         "x": [
          2014,
          2015,
          2016,
          2017,
          2018
         ],
         "y": [
          209.5,
          239.6,
          198.5,
          204.9,
          236.3
         ]
        },
        {
         "mode": "lines+markers",
         "name": "Jacksonville Jaguars",
         "type": "scatter",
         "x": [
          2014,
          2015,
          2016,
          2017,
          2018
         ],
         "y": [
          187.6,
          256.8,
          233,
          224.6,
          194.3
         ]
        },
        {
         "mode": "lines+markers",
         "name": "New York Giants",
         "type": "scatter",
         "x": [
          2014,
          2015,
          2016,
          2017,
          2018
         ],
         "y": [
          267,
          271.4,
          242.4,
          217.4,
          252.9
         ]
        },
        {
         "mode": "lines+markers",
         "name": "Cincinnati Bengals",
         "type": "scatter",
         "x": [
          2014,
          2015,
          2016,
          2017,
          2018
         ],
         "y": [
          213.8,
          245.2,
          246.4,
          195.1,
          205.6
         ]
        },
        {
         "mode": "lines+markers",
         "name": "Carolina Panthers",
         "type": "scatter",
         "x": [
          2014,
          2015,
          2016,
          2017,
          2018
         ],
         "y": [
          219.4,
          224.3,
          230.3,
          192.3,
          239.8
         ]
        },
        {
         "mode": "lines+markers",
         "name": "Tennessee Titans",
         "type": "scatter",
         "x": [
          2014,
          2015,
          2016,
          2017,
          2018
         ],
         "y": [
          213.2,
          218.9,
          221.3,
          199.4,
          185.9
         ]
        },
        {
         "mode": "lines+markers",
         "name": "Cleveland Browns",
         "type": "scatter",
         "x": [
          2014,
          2015,
          2016,
          2017,
          2018
         ],
         "y": [
          216.6,
          236.4,
          204,
          201.8,
          250.4
         ]
        },
        {
         "mode": "lines+markers",
         "name": "Minnesota Vikings",
         "type": "scatter",
         "x": [
          2014,
          2015,
          2016,
          2017,
          2018
         ],
         "y": [
          202.8,
          183,
          239.8,
          234.6,
          252.2
         ]
        },
        {
         "mode": "lines+markers",
         "name": "Arizona Cardinals",
         "type": "scatter",
         "x": [
          2014,
          2015,
          2016,
          2017,
          2018
         ],
         "y": [
          238,
          288.5,
          258.5,
          227.5,
          157.7
         ]
        },
        {
         "mode": "lines+markers",
         "name": "Chicago Bears",
         "type": "scatter",
         "x": [
          2014,
          2015,
          2016,
          2017,
          2018
         ],
         "y": [
          237,
          228.8,
          248.1,
          175.7,
          222.8
         ]
        },
        {
         "mode": "lines+markers",
         "name": "Buffalo Bills",
         "type": "scatter",
         "x": [
          2014,
          2015,
          2016,
          2017,
          2018
         ],
         "y": [
          225.9,
          208.9,
          189.8,
          176.6,
          174.6
         ]
        },
        {
         "mode": "lines+markers",
         "name": "Baltimore Ravens",
         "type": "scatter",
         "x": [
          2014,
          2015,
          2016,
          2017,
          2018
         ],
         "y": [
          238.7,
          266.9,
          256.2,
          189.4,
          222.4
         ]
        },
        {
         "mode": "lines+markers",
         "name": "Denver Broncos",
         "type": "scatter",
         "x": [
          2014,
          2015,
          2016,
          2017,
          2018
         ],
         "y": [
          291.3,
          248.1,
          230.3,
          208.3,
          230.9
         ]
        },
        {
         "mode": "lines+markers",
         "name": "New York Jets",
         "type": "scatter",
         "x": [
          2014,
          2015,
          2016,
          2017,
          2018
         ],
         "y": [
          184.1,
          253.6,
          216.6,
          198.9,
          197.8
         ]
        },
        {
         "mode": "lines+markers",
         "name": "Indianapolis Colts",
         "type": "scatter",
         "x": [
          2014,
          2015,
          2016,
          2017,
          2018
         ],
         "y": [
          305.9,
          231.5,
          262.6,
          180.8,
          278.8
         ]
        },
        {
         "mode": "lines+markers",
         "name": "Pittsburgh Steelers",
         "type": "scatter",
         "x": [
          2014,
          2015,
          2016,
          2017,
          2018
         ],
         "y": [
          301.6,
          287.7,
          262.6,
          273.8,
          313
         ]
        },
        {
         "mode": "lines+markers",
         "name": "Washington Redskins",
         "type": "scatter",
         "x": [
          2014,
          2015,
          2016,
          2017,
          2018
         ],
         "y": [
          252.9,
          255.9,
          297.4,
          234.4,
          188.8
         ]
        }
       ],
       "layout": {
        "template": {
         "data": {
          "bar": [
           {
            "error_x": {
             "color": "#2a3f5f"
            },
            "error_y": {
             "color": "#2a3f5f"
            },
            "marker": {
             "line": {
              "color": "#E5ECF6",
              "width": 0.5
             }
            },
            "type": "bar"
           }
          ],
          "barpolar": [
           {
            "marker": {
             "line": {
              "color": "#E5ECF6",
              "width": 0.5
             }
            },
            "type": "barpolar"
           }
          ],
          "carpet": [
           {
            "aaxis": {
             "endlinecolor": "#2a3f5f",
             "gridcolor": "white",
             "linecolor": "white",
             "minorgridcolor": "white",
             "startlinecolor": "#2a3f5f"
            },
            "baxis": {
             "endlinecolor": "#2a3f5f",
             "gridcolor": "white",
             "linecolor": "white",
             "minorgridcolor": "white",
             "startlinecolor": "#2a3f5f"
            },
            "type": "carpet"
           }
          ],
          "choropleth": [
           {
            "colorbar": {
             "outlinewidth": 0,
             "ticks": ""
            },
            "type": "choropleth"
           }
          ],
          "contour": [
           {
            "colorbar": {
             "outlinewidth": 0,
             "ticks": ""
            },
            "colorscale": [
             [
              0,
              "#0d0887"
             ],
             [
              0.1111111111111111,
              "#46039f"
             ],
             [
              0.2222222222222222,
              "#7201a8"
             ],
             [
              0.3333333333333333,
              "#9c179e"
             ],
             [
              0.4444444444444444,
              "#bd3786"
             ],
             [
              0.5555555555555556,
              "#d8576b"
             ],
             [
              0.6666666666666666,
              "#ed7953"
             ],
             [
              0.7777777777777778,
              "#fb9f3a"
             ],
             [
              0.8888888888888888,
              "#fdca26"
             ],
             [
              1,
              "#f0f921"
             ]
            ],
            "type": "contour"
           }
          ],
          "contourcarpet": [
           {
            "colorbar": {
             "outlinewidth": 0,
             "ticks": ""
            },
            "type": "contourcarpet"
           }
          ],
          "heatmap": [
           {
            "colorbar": {
             "outlinewidth": 0,
             "ticks": ""
            },
            "colorscale": [
             [
              0,
              "#0d0887"
             ],
             [
              0.1111111111111111,
              "#46039f"
             ],
             [
              0.2222222222222222,
              "#7201a8"
             ],
             [
              0.3333333333333333,
              "#9c179e"
             ],
             [
              0.4444444444444444,
              "#bd3786"
             ],
             [
              0.5555555555555556,
              "#d8576b"
             ],
             [
              0.6666666666666666,
              "#ed7953"
             ],
             [
              0.7777777777777778,
              "#fb9f3a"
             ],
             [
              0.8888888888888888,
              "#fdca26"
             ],
             [
              1,
              "#f0f921"
             ]
            ],
            "type": "heatmap"
           }
          ],
          "heatmapgl": [
           {
            "colorbar": {
             "outlinewidth": 0,
             "ticks": ""
            },
            "colorscale": [
             [
              0,
              "#0d0887"
             ],
             [
              0.1111111111111111,
              "#46039f"
             ],
             [
              0.2222222222222222,
              "#7201a8"
             ],
             [
              0.3333333333333333,
              "#9c179e"
             ],
             [
              0.4444444444444444,
              "#bd3786"
             ],
             [
              0.5555555555555556,
              "#d8576b"
             ],
             [
              0.6666666666666666,
              "#ed7953"
             ],
             [
              0.7777777777777778,
              "#fb9f3a"
             ],
             [
              0.8888888888888888,
              "#fdca26"
             ],
             [
              1,
              "#f0f921"
             ]
            ],
            "type": "heatmapgl"
           }
          ],
          "histogram": [
           {
            "marker": {
             "colorbar": {
              "outlinewidth": 0,
              "ticks": ""
             }
            },
            "type": "histogram"
           }
          ],
          "histogram2d": [
           {
            "colorbar": {
             "outlinewidth": 0,
             "ticks": ""
            },
            "colorscale": [
             [
              0,
              "#0d0887"
             ],
             [
              0.1111111111111111,
              "#46039f"
             ],
             [
              0.2222222222222222,
              "#7201a8"
             ],
             [
              0.3333333333333333,
              "#9c179e"
             ],
             [
              0.4444444444444444,
              "#bd3786"
             ],
             [
              0.5555555555555556,
              "#d8576b"
             ],
             [
              0.6666666666666666,
              "#ed7953"
             ],
             [
              0.7777777777777778,
              "#fb9f3a"
             ],
             [
              0.8888888888888888,
              "#fdca26"
             ],
             [
              1,
              "#f0f921"
             ]
            ],
            "type": "histogram2d"
           }
          ],
          "histogram2dcontour": [
           {
            "colorbar": {
             "outlinewidth": 0,
             "ticks": ""
            },
            "colorscale": [
             [
              0,
              "#0d0887"
             ],
             [
              0.1111111111111111,
              "#46039f"
             ],
             [
              0.2222222222222222,
              "#7201a8"
             ],
             [
              0.3333333333333333,
              "#9c179e"
             ],
             [
              0.4444444444444444,
              "#bd3786"
             ],
             [
              0.5555555555555556,
              "#d8576b"
             ],
             [
              0.6666666666666666,
              "#ed7953"
             ],
             [
              0.7777777777777778,
              "#fb9f3a"
             ],
             [
              0.8888888888888888,
              "#fdca26"
             ],
             [
              1,
              "#f0f921"
             ]
            ],
            "type": "histogram2dcontour"
           }
          ],
          "mesh3d": [
           {
            "colorbar": {
             "outlinewidth": 0,
             "ticks": ""
            },
            "type": "mesh3d"
           }
          ],
          "parcoords": [
           {
            "line": {
             "colorbar": {
              "outlinewidth": 0,
              "ticks": ""
             }
            },
            "type": "parcoords"
           }
          ],
          "scatter": [
           {
            "marker": {
             "colorbar": {
              "outlinewidth": 0,
              "ticks": ""
             }
            },
            "type": "scatter"
           }
          ],
          "scatter3d": [
           {
            "line": {
             "colorbar": {
              "outlinewidth": 0,
              "ticks": ""
             }
            },
            "marker": {
             "colorbar": {
              "outlinewidth": 0,
              "ticks": ""
             }
            },
            "type": "scatter3d"
           }
          ],
          "scattercarpet": [
           {
            "marker": {
             "colorbar": {
              "outlinewidth": 0,
              "ticks": ""
             }
            },
            "type": "scattercarpet"
           }
          ],
          "scattergeo": [
           {
            "marker": {
             "colorbar": {
              "outlinewidth": 0,
              "ticks": ""
             }
            },
            "type": "scattergeo"
           }
          ],
          "scattergl": [
           {
            "marker": {
             "colorbar": {
              "outlinewidth": 0,
              "ticks": ""
             }
            },
            "type": "scattergl"
           }
          ],
          "scattermapbox": [
           {
            "marker": {
             "colorbar": {
              "outlinewidth": 0,
              "ticks": ""
             }
            },
            "type": "scattermapbox"
           }
          ],
          "scatterpolar": [
           {
            "marker": {
             "colorbar": {
              "outlinewidth": 0,
              "ticks": ""
             }
            },
            "type": "scatterpolar"
           }
          ],
          "scatterpolargl": [
           {
            "marker": {
             "colorbar": {
              "outlinewidth": 0,
              "ticks": ""
             }
            },
            "type": "scatterpolargl"
           }
          ],
          "scatterternary": [
           {
            "marker": {
             "colorbar": {
              "outlinewidth": 0,
              "ticks": ""
             }
            },
            "type": "scatterternary"
           }
          ],
          "surface": [
           {
            "colorbar": {
             "outlinewidth": 0,
             "ticks": ""
            },
            "colorscale": [
             [
              0,
              "#0d0887"
             ],
             [
              0.1111111111111111,
              "#46039f"
             ],
             [
              0.2222222222222222,
              "#7201a8"
             ],
             [
              0.3333333333333333,
              "#9c179e"
             ],
             [
              0.4444444444444444,
              "#bd3786"
             ],
             [
              0.5555555555555556,
              "#d8576b"
             ],
             [
              0.6666666666666666,
              "#ed7953"
             ],
             [
              0.7777777777777778,
              "#fb9f3a"
             ],
             [
              0.8888888888888888,
              "#fdca26"
             ],
             [
              1,
              "#f0f921"
             ]
            ],
            "type": "surface"
           }
          ],
          "table": [
           {
            "cells": {
             "fill": {
              "color": "#EBF0F8"
             },
             "line": {
              "color": "white"
             }
            },
            "header": {
             "fill": {
              "color": "#C8D4E3"
             },
             "line": {
              "color": "white"
             }
            },
            "type": "table"
           }
          ]
         },
         "layout": {
          "annotationdefaults": {
           "arrowcolor": "#2a3f5f",
           "arrowhead": 0,
           "arrowwidth": 1
          },
          "colorscale": {
           "diverging": [
            [
             0,
             "#8e0152"
            ],
            [
             0.1,
             "#c51b7d"
            ],
            [
             0.2,
             "#de77ae"
            ],
            [
             0.3,
             "#f1b6da"
            ],
            [
             0.4,
             "#fde0ef"
            ],
            [
             0.5,
             "#f7f7f7"
            ],
            [
             0.6,
             "#e6f5d0"
            ],
            [
             0.7,
             "#b8e186"
            ],
            [
             0.8,
             "#7fbc41"
            ],
            [
             0.9,
             "#4d9221"
            ],
            [
             1,
             "#276419"
            ]
           ],
           "sequential": [
            [
             0,
             "#0d0887"
            ],
            [
             0.1111111111111111,
             "#46039f"
            ],
            [
             0.2222222222222222,
             "#7201a8"
            ],
            [
             0.3333333333333333,
             "#9c179e"
            ],
            [
             0.4444444444444444,
             "#bd3786"
            ],
            [
             0.5555555555555556,
             "#d8576b"
            ],
            [
             0.6666666666666666,
             "#ed7953"
            ],
            [
             0.7777777777777778,
             "#fb9f3a"
            ],
            [
             0.8888888888888888,
             "#fdca26"
            ],
            [
             1,
             "#f0f921"
            ]
           ],
           "sequentialminus": [
            [
             0,
             "#0d0887"
            ],
            [
             0.1111111111111111,
             "#46039f"
            ],
            [
             0.2222222222222222,
             "#7201a8"
            ],
            [
             0.3333333333333333,
             "#9c179e"
            ],
            [
             0.4444444444444444,
             "#bd3786"
            ],
            [
             0.5555555555555556,
             "#d8576b"
            ],
            [
             0.6666666666666666,
             "#ed7953"
            ],
            [
             0.7777777777777778,
             "#fb9f3a"
            ],
            [
             0.8888888888888888,
             "#fdca26"
            ],
            [
             1,
             "#f0f921"
            ]
           ]
          },
          "colorway": [
           "#636efa",
           "#EF553B",
           "#00cc96",
           "#ab63fa",
           "#FFA15A",
           "#19d3f3",
           "#FF6692",
           "#B6E880",
           "#FF97FF",
           "#FECB52"
          ],
          "font": {
           "color": "#2a3f5f"
          },
          "geo": {
           "bgcolor": "white",
           "lakecolor": "white",
           "landcolor": "#E5ECF6",
           "showlakes": true,
           "showland": true,
           "subunitcolor": "white"
          },
          "hoverlabel": {
           "align": "left"
          },
          "hovermode": "closest",
          "mapbox": {
           "style": "light"
          },
          "paper_bgcolor": "white",
          "plot_bgcolor": "#E5ECF6",
          "polar": {
           "angularaxis": {
            "gridcolor": "white",
            "linecolor": "white",
            "ticks": ""
           },
           "bgcolor": "#E5ECF6",
           "radialaxis": {
            "gridcolor": "white",
            "linecolor": "white",
            "ticks": ""
           }
          },
          "scene": {
           "xaxis": {
            "backgroundcolor": "#E5ECF6",
            "gridcolor": "white",
            "gridwidth": 2,
            "linecolor": "white",
            "showbackground": true,
            "ticks": "",
            "zerolinecolor": "white"
           },
           "yaxis": {
            "backgroundcolor": "#E5ECF6",
            "gridcolor": "white",
            "gridwidth": 2,
            "linecolor": "white",
            "showbackground": true,
            "ticks": "",
            "zerolinecolor": "white"
           },
           "zaxis": {
            "backgroundcolor": "#E5ECF6",
            "gridcolor": "white",
            "gridwidth": 2,
            "linecolor": "white",
            "showbackground": true,
            "ticks": "",
            "zerolinecolor": "white"
           }
          },
          "shapedefaults": {
           "line": {
            "color": "#2a3f5f"
           }
          },
          "ternary": {
           "aaxis": {
            "gridcolor": "white",
            "linecolor": "white",
            "ticks": ""
           },
           "baxis": {
            "gridcolor": "white",
            "linecolor": "white",
            "ticks": ""
           },
           "bgcolor": "#E5ECF6",
           "caxis": {
            "gridcolor": "white",
            "linecolor": "white",
            "ticks": ""
           }
          },
          "title": {
           "x": 0.05
          },
          "xaxis": {
           "automargin": true,
           "gridcolor": "white",
           "linecolor": "white",
           "ticks": "",
           "zerolinecolor": "white",
           "zerolinewidth": 2
          },
          "yaxis": {
           "automargin": true,
           "gridcolor": "white",
           "linecolor": "white",
           "ticks": "",
           "zerolinecolor": "white",
           "zerolinewidth": 2
          }
         }
        }
       }
      },
      "text/html": [
       "<div>\n",
       "        \n",
       "        \n",
       "            <div id=\"a579bcca-3a78-4a67-a3a0-c2a109f44d67\" class=\"plotly-graph-div\" style=\"height:525px; width:100%;\"></div>\n",
       "            <script type=\"text/javascript\">\n",
       "                require([\"plotly\"], function(Plotly) {\n",
       "                    window.PLOTLYENV=window.PLOTLYENV || {};\n",
       "                    \n",
       "                if (document.getElementById(\"a579bcca-3a78-4a67-a3a0-c2a109f44d67\")) {\n",
       "                    Plotly.newPlot(\n",
       "                        'a579bcca-3a78-4a67-a3a0-c2a109f44d67',\n",
       "                        [{\"mode\": \"lines+markers\", \"name\": \"Green Bay Packers\", \"type\": \"scatter\", \"x\": [2014, 2015, 2016, 2017, 2018], \"y\": [266.3, 218.9, 262.4, 197.9, 264.9]}, {\"mode\": \"lines+markers\", \"name\": \"Tampa Bay Buccaneers\", \"type\": \"scatter\", \"x\": [2014, 2015, 2016, 2017, 2018], \"y\": [206.1, 240.8, 245.4, 272.9, 320.3]}, {\"mode\": \"lines+markers\", \"name\": \"Dallas Cowboys\", \"type\": \"scatter\", \"x\": [2014, 2015, 2016, 2017, 2018], \"y\": [236.5, 216.9, 226.9, 196.3, 221.1]}, {\"mode\": \"lines+markers\", \"name\": \"Atlanta Falcons\", \"type\": \"scatter\", \"x\": [2014, 2015, 2016, 2017, 2018], \"y\": [284.6, 273.7, 295.3, 249.4, 290.8]}, {\"mode\": \"lines+markers\", \"name\": \"Los Angeles Rams\", \"type\": \"scatter\", \"x\": [2014, 2015, 2016, 2017, 2018], \"y\": [212.5, 175.3, 184.4, 239.4, 281.7]}, {\"mode\": \"lines+markers\", \"name\": \"Kansas City Chiefs\", \"type\": \"scatter\", \"x\": [2014, 2015, 2016, 2017, 2018], \"y\": [198.9, 203.4, 233.8, 256.5, 309.7]}, {\"mode\": \"lines+markers\", \"name\": \"Los Angeles Chargers\", \"type\": \"scatter\", \"x\": [2014, 2015, 2016, 2017, 2018], \"y\": [256.1, 286.9, 262.4, 276.9, 255.6]}, {\"mode\": \"lines+markers\", \"name\": \"New Orleans Saints\", \"type\": \"scatter\", \"x\": [2014, 2015, 2016, 2017, 2018], \"y\": [297.8, 310.6, 317.1, 261.8, 252.6]}, {\"mode\": \"lines+markers\", \"name\": \"New England Patriots\", \"type\": \"scatter\", \"x\": [2014, 2015, 2016, 2017, 2018], \"y\": [257.6, 286.7, 269.2, 276.1, 266.1]}, {\"mode\": \"lines+markers\", \"name\": \"Oakland Raiders\", \"type\": \"scatter\", \"x\": [2014, 2015, 2016, 2017, 2018], \"y\": [204.7, 242.4, 253.2, 226.9, 234.4]}, {\"mode\": \"lines+markers\", \"name\": \"Detroit Lions\", \"type\": \"scatter\", \"x\": [2014, 2015, 2016, 2017, 2018], \"y\": [251.9, 263.2, 256.9, 261.4, 223.5]}, {\"mode\": \"lines+markers\", \"name\": \"Philadelphia Eagles\", \"type\": \"scatter\", \"x\": [2014, 2015, 2016, 2017, 2018], \"y\": [272.2, 255.4, 224.1, 233.6, 267.2]}, {\"mode\": \"lines+markers\", \"name\": \"Miami Dolphins\", \"type\": \"scatter\", \"x\": [2014, 2015, 2016, 2017, 2018], \"y\": [233.1, 238.2, 218.8, 220.9, 181.2]}, {\"mode\": \"lines+markers\", \"name\": \"San Francisco 49ers\", \"type\": \"scatter\", \"x\": [2014, 2015, 2016, 2017, 2018], \"y\": [191.4, 207.2, 181.9, 245.3, 241.7]}, {\"mode\": \"lines+markers\", \"name\": \"Seattle Seahawks\", \"type\": \"scatter\", \"x\": [2014, 2015, 2016, 2017, 2018], \"y\": [203.1, 236.9, 257.8, 228.6, 193.3]}, {\"mode\": \"lines+markers\", \"name\": \"Houston Texans\", \"type\": \"scatter\", \"x\": [2014, 2015, 2016, 2017, 2018], \"y\": [209.5, 239.6, 198.5, 204.9, 236.3]}, {\"mode\": \"lines+markers\", \"name\": \"Jacksonville Jaguars\", \"type\": \"scatter\", \"x\": [2014, 2015, 2016, 2017, 2018], \"y\": [187.6, 256.8, 233.0, 224.6, 194.3]}, {\"mode\": \"lines+markers\", \"name\": \"New York Giants\", \"type\": \"scatter\", \"x\": [2014, 2015, 2016, 2017, 2018], \"y\": [267.0, 271.4, 242.4, 217.4, 252.9]}, {\"mode\": \"lines+markers\", \"name\": \"Cincinnati Bengals\", \"type\": \"scatter\", \"x\": [2014, 2015, 2016, 2017, 2018], \"y\": [213.8, 245.2, 246.4, 195.1, 205.6]}, {\"mode\": \"lines+markers\", \"name\": \"Carolina Panthers\", \"type\": \"scatter\", \"x\": [2014, 2015, 2016, 2017, 2018], \"y\": [219.4, 224.3, 230.3, 192.3, 239.8]}, {\"mode\": \"lines+markers\", \"name\": \"Tennessee Titans\", \"type\": \"scatter\", \"x\": [2014, 2015, 2016, 2017, 2018], \"y\": [213.2, 218.9, 221.3, 199.4, 185.9]}, {\"mode\": \"lines+markers\", \"name\": \"Cleveland Browns\", \"type\": \"scatter\", \"x\": [2014, 2015, 2016, 2017, 2018], \"y\": [216.6, 236.4, 204.0, 201.8, 250.4]}, {\"mode\": \"lines+markers\", \"name\": \"Minnesota Vikings\", \"type\": \"scatter\", \"x\": [2014, 2015, 2016, 2017, 2018], \"y\": [202.8, 183.0, 239.8, 234.6, 252.2]}, {\"mode\": \"lines+markers\", \"name\": \"Arizona Cardinals\", \"type\": \"scatter\", \"x\": [2014, 2015, 2016, 2017, 2018], \"y\": [238.0, 288.5, 258.5, 227.5, 157.7]}, {\"mode\": \"lines+markers\", \"name\": \"Chicago Bears\", \"type\": \"scatter\", \"x\": [2014, 2015, 2016, 2017, 2018], \"y\": [237.0, 228.8, 248.1, 175.7, 222.8]}, {\"mode\": \"lines+markers\", \"name\": \"Buffalo Bills\", \"type\": \"scatter\", \"x\": [2014, 2015, 2016, 2017, 2018], \"y\": [225.9, 208.9, 189.8, 176.6, 174.6]}, {\"mode\": \"lines+markers\", \"name\": \"Baltimore Ravens\", \"type\": \"scatter\", \"x\": [2014, 2015, 2016, 2017, 2018], \"y\": [238.7, 266.9, 256.2, 189.4, 222.4]}, {\"mode\": \"lines+markers\", \"name\": \"Denver Broncos\", \"type\": \"scatter\", \"x\": [2014, 2015, 2016, 2017, 2018], \"y\": [291.3, 248.1, 230.3, 208.3, 230.9]}, {\"mode\": \"lines+markers\", \"name\": \"New York Jets\", \"type\": \"scatter\", \"x\": [2014, 2015, 2016, 2017, 2018], \"y\": [184.1, 253.6, 216.6, 198.9, 197.8]}, {\"mode\": \"lines+markers\", \"name\": \"Indianapolis Colts\", \"type\": \"scatter\", \"x\": [2014, 2015, 2016, 2017, 2018], \"y\": [305.9, 231.5, 262.6, 180.8, 278.8]}, {\"mode\": \"lines+markers\", \"name\": \"Pittsburgh Steelers\", \"type\": \"scatter\", \"x\": [2014, 2015, 2016, 2017, 2018], \"y\": [301.6, 287.7, 262.6, 273.8, 313.0]}, {\"mode\": \"lines+markers\", \"name\": \"Washington Redskins\", \"type\": \"scatter\", \"x\": [2014, 2015, 2016, 2017, 2018], \"y\": [252.9, 255.9, 297.4, 234.4, 188.8]}],\n",
       "                        {\"template\": {\"data\": {\"bar\": [{\"error_x\": {\"color\": \"#2a3f5f\"}, \"error_y\": {\"color\": \"#2a3f5f\"}, \"marker\": {\"line\": {\"color\": \"#E5ECF6\", \"width\": 0.5}}, \"type\": \"bar\"}], \"barpolar\": [{\"marker\": {\"line\": {\"color\": \"#E5ECF6\", \"width\": 0.5}}, \"type\": \"barpolar\"}], \"carpet\": [{\"aaxis\": {\"endlinecolor\": \"#2a3f5f\", \"gridcolor\": \"white\", \"linecolor\": \"white\", \"minorgridcolor\": \"white\", \"startlinecolor\": \"#2a3f5f\"}, \"baxis\": {\"endlinecolor\": \"#2a3f5f\", \"gridcolor\": \"white\", \"linecolor\": \"white\", \"minorgridcolor\": \"white\", \"startlinecolor\": \"#2a3f5f\"}, \"type\": \"carpet\"}], \"choropleth\": [{\"colorbar\": {\"outlinewidth\": 0, \"ticks\": \"\"}, \"type\": \"choropleth\"}], \"contour\": [{\"colorbar\": {\"outlinewidth\": 0, \"ticks\": \"\"}, \"colorscale\": [[0.0, \"#0d0887\"], [0.1111111111111111, \"#46039f\"], [0.2222222222222222, \"#7201a8\"], [0.3333333333333333, \"#9c179e\"], [0.4444444444444444, \"#bd3786\"], [0.5555555555555556, \"#d8576b\"], [0.6666666666666666, \"#ed7953\"], [0.7777777777777778, \"#fb9f3a\"], [0.8888888888888888, \"#fdca26\"], [1.0, \"#f0f921\"]], \"type\": \"contour\"}], \"contourcarpet\": [{\"colorbar\": {\"outlinewidth\": 0, \"ticks\": \"\"}, \"type\": \"contourcarpet\"}], \"heatmap\": [{\"colorbar\": {\"outlinewidth\": 0, \"ticks\": \"\"}, \"colorscale\": [[0.0, \"#0d0887\"], [0.1111111111111111, \"#46039f\"], [0.2222222222222222, \"#7201a8\"], [0.3333333333333333, \"#9c179e\"], [0.4444444444444444, \"#bd3786\"], [0.5555555555555556, \"#d8576b\"], [0.6666666666666666, \"#ed7953\"], [0.7777777777777778, \"#fb9f3a\"], [0.8888888888888888, \"#fdca26\"], [1.0, \"#f0f921\"]], \"type\": \"heatmap\"}], \"heatmapgl\": [{\"colorbar\": {\"outlinewidth\": 0, \"ticks\": \"\"}, \"colorscale\": [[0.0, \"#0d0887\"], [0.1111111111111111, \"#46039f\"], [0.2222222222222222, \"#7201a8\"], [0.3333333333333333, \"#9c179e\"], [0.4444444444444444, \"#bd3786\"], [0.5555555555555556, \"#d8576b\"], [0.6666666666666666, \"#ed7953\"], [0.7777777777777778, \"#fb9f3a\"], [0.8888888888888888, \"#fdca26\"], [1.0, \"#f0f921\"]], \"type\": \"heatmapgl\"}], \"histogram\": [{\"marker\": {\"colorbar\": {\"outlinewidth\": 0, \"ticks\": \"\"}}, \"type\": \"histogram\"}], \"histogram2d\": [{\"colorbar\": {\"outlinewidth\": 0, \"ticks\": \"\"}, \"colorscale\": [[0.0, \"#0d0887\"], [0.1111111111111111, \"#46039f\"], [0.2222222222222222, \"#7201a8\"], [0.3333333333333333, \"#9c179e\"], [0.4444444444444444, \"#bd3786\"], [0.5555555555555556, \"#d8576b\"], [0.6666666666666666, \"#ed7953\"], [0.7777777777777778, \"#fb9f3a\"], [0.8888888888888888, \"#fdca26\"], [1.0, \"#f0f921\"]], \"type\": \"histogram2d\"}], \"histogram2dcontour\": [{\"colorbar\": {\"outlinewidth\": 0, \"ticks\": \"\"}, \"colorscale\": [[0.0, \"#0d0887\"], [0.1111111111111111, \"#46039f\"], [0.2222222222222222, \"#7201a8\"], [0.3333333333333333, \"#9c179e\"], [0.4444444444444444, \"#bd3786\"], [0.5555555555555556, \"#d8576b\"], [0.6666666666666666, \"#ed7953\"], [0.7777777777777778, \"#fb9f3a\"], [0.8888888888888888, \"#fdca26\"], [1.0, \"#f0f921\"]], \"type\": \"histogram2dcontour\"}], \"mesh3d\": [{\"colorbar\": {\"outlinewidth\": 0, \"ticks\": \"\"}, \"type\": \"mesh3d\"}], \"parcoords\": [{\"line\": {\"colorbar\": {\"outlinewidth\": 0, \"ticks\": \"\"}}, \"type\": \"parcoords\"}], \"scatter\": [{\"marker\": {\"colorbar\": {\"outlinewidth\": 0, \"ticks\": \"\"}}, \"type\": \"scatter\"}], \"scatter3d\": [{\"line\": {\"colorbar\": {\"outlinewidth\": 0, \"ticks\": \"\"}}, \"marker\": {\"colorbar\": {\"outlinewidth\": 0, \"ticks\": \"\"}}, \"type\": \"scatter3d\"}], \"scattercarpet\": [{\"marker\": {\"colorbar\": {\"outlinewidth\": 0, \"ticks\": \"\"}}, \"type\": \"scattercarpet\"}], \"scattergeo\": [{\"marker\": {\"colorbar\": {\"outlinewidth\": 0, \"ticks\": \"\"}}, \"type\": \"scattergeo\"}], \"scattergl\": [{\"marker\": {\"colorbar\": {\"outlinewidth\": 0, \"ticks\": \"\"}}, \"type\": \"scattergl\"}], \"scattermapbox\": [{\"marker\": {\"colorbar\": {\"outlinewidth\": 0, \"ticks\": \"\"}}, \"type\": \"scattermapbox\"}], \"scatterpolar\": [{\"marker\": {\"colorbar\": {\"outlinewidth\": 0, \"ticks\": \"\"}}, \"type\": \"scatterpolar\"}], \"scatterpolargl\": [{\"marker\": {\"colorbar\": {\"outlinewidth\": 0, \"ticks\": \"\"}}, \"type\": \"scatterpolargl\"}], \"scatterternary\": [{\"marker\": {\"colorbar\": {\"outlinewidth\": 0, \"ticks\": \"\"}}, \"type\": \"scatterternary\"}], \"surface\": [{\"colorbar\": {\"outlinewidth\": 0, \"ticks\": \"\"}, \"colorscale\": [[0.0, \"#0d0887\"], [0.1111111111111111, \"#46039f\"], [0.2222222222222222, \"#7201a8\"], [0.3333333333333333, \"#9c179e\"], [0.4444444444444444, \"#bd3786\"], [0.5555555555555556, \"#d8576b\"], [0.6666666666666666, \"#ed7953\"], [0.7777777777777778, \"#fb9f3a\"], [0.8888888888888888, \"#fdca26\"], [1.0, \"#f0f921\"]], \"type\": \"surface\"}], \"table\": [{\"cells\": {\"fill\": {\"color\": \"#EBF0F8\"}, \"line\": {\"color\": \"white\"}}, \"header\": {\"fill\": {\"color\": \"#C8D4E3\"}, \"line\": {\"color\": \"white\"}}, \"type\": \"table\"}]}, \"layout\": {\"annotationdefaults\": {\"arrowcolor\": \"#2a3f5f\", \"arrowhead\": 0, \"arrowwidth\": 1}, \"colorscale\": {\"diverging\": [[0, \"#8e0152\"], [0.1, \"#c51b7d\"], [0.2, \"#de77ae\"], [0.3, \"#f1b6da\"], [0.4, \"#fde0ef\"], [0.5, \"#f7f7f7\"], [0.6, \"#e6f5d0\"], [0.7, \"#b8e186\"], [0.8, \"#7fbc41\"], [0.9, \"#4d9221\"], [1, \"#276419\"]], \"sequential\": [[0.0, \"#0d0887\"], [0.1111111111111111, \"#46039f\"], [0.2222222222222222, \"#7201a8\"], [0.3333333333333333, \"#9c179e\"], [0.4444444444444444, \"#bd3786\"], [0.5555555555555556, \"#d8576b\"], [0.6666666666666666, \"#ed7953\"], [0.7777777777777778, \"#fb9f3a\"], [0.8888888888888888, \"#fdca26\"], [1.0, \"#f0f921\"]], \"sequentialminus\": [[0.0, \"#0d0887\"], [0.1111111111111111, \"#46039f\"], [0.2222222222222222, \"#7201a8\"], [0.3333333333333333, \"#9c179e\"], [0.4444444444444444, \"#bd3786\"], [0.5555555555555556, \"#d8576b\"], [0.6666666666666666, \"#ed7953\"], [0.7777777777777778, \"#fb9f3a\"], [0.8888888888888888, \"#fdca26\"], [1.0, \"#f0f921\"]]}, \"colorway\": [\"#636efa\", \"#EF553B\", \"#00cc96\", \"#ab63fa\", \"#FFA15A\", \"#19d3f3\", \"#FF6692\", \"#B6E880\", \"#FF97FF\", \"#FECB52\"], \"font\": {\"color\": \"#2a3f5f\"}, \"geo\": {\"bgcolor\": \"white\", \"lakecolor\": \"white\", \"landcolor\": \"#E5ECF6\", \"showlakes\": true, \"showland\": true, \"subunitcolor\": \"white\"}, \"hoverlabel\": {\"align\": \"left\"}, \"hovermode\": \"closest\", \"mapbox\": {\"style\": \"light\"}, \"paper_bgcolor\": \"white\", \"plot_bgcolor\": \"#E5ECF6\", \"polar\": {\"angularaxis\": {\"gridcolor\": \"white\", \"linecolor\": \"white\", \"ticks\": \"\"}, \"bgcolor\": \"#E5ECF6\", \"radialaxis\": {\"gridcolor\": \"white\", \"linecolor\": \"white\", \"ticks\": \"\"}}, \"scene\": {\"xaxis\": {\"backgroundcolor\": \"#E5ECF6\", \"gridcolor\": \"white\", \"gridwidth\": 2, \"linecolor\": \"white\", \"showbackground\": true, \"ticks\": \"\", \"zerolinecolor\": \"white\"}, \"yaxis\": {\"backgroundcolor\": \"#E5ECF6\", \"gridcolor\": \"white\", \"gridwidth\": 2, \"linecolor\": \"white\", \"showbackground\": true, \"ticks\": \"\", \"zerolinecolor\": \"white\"}, \"zaxis\": {\"backgroundcolor\": \"#E5ECF6\", \"gridcolor\": \"white\", \"gridwidth\": 2, \"linecolor\": \"white\", \"showbackground\": true, \"ticks\": \"\", \"zerolinecolor\": \"white\"}}, \"shapedefaults\": {\"line\": {\"color\": \"#2a3f5f\"}}, \"ternary\": {\"aaxis\": {\"gridcolor\": \"white\", \"linecolor\": \"white\", \"ticks\": \"\"}, \"baxis\": {\"gridcolor\": \"white\", \"linecolor\": \"white\", \"ticks\": \"\"}, \"bgcolor\": \"#E5ECF6\", \"caxis\": {\"gridcolor\": \"white\", \"linecolor\": \"white\", \"ticks\": \"\"}}, \"title\": {\"x\": 0.05}, \"xaxis\": {\"automargin\": true, \"gridcolor\": \"white\", \"linecolor\": \"white\", \"ticks\": \"\", \"zerolinecolor\": \"white\", \"zerolinewidth\": 2}, \"yaxis\": {\"automargin\": true, \"gridcolor\": \"white\", \"linecolor\": \"white\", \"ticks\": \"\", \"zerolinecolor\": \"white\", \"zerolinewidth\": 2}}}},\n",
       "                        {\"responsive\": true}\n",
       "                    ).then(function(){\n",
       "                            \n",
       "var gd = document.getElementById('a579bcca-3a78-4a67-a3a0-c2a109f44d67');\n",
       "var x = new MutationObserver(function (mutations, observer) {{\n",
       "        var display = window.getComputedStyle(gd).display;\n",
       "        if (!display || display === 'none') {{\n",
       "            console.log([gd, 'removed!']);\n",
       "            Plotly.purge(gd);\n",
       "            observer.disconnect();\n",
       "        }}\n",
       "}});\n",
       "\n",
       "// Listen for the removal of the full notebook cells\n",
       "var notebookContainer = gd.closest('#notebook-container');\n",
       "if (notebookContainer) {{\n",
       "    x.observe(notebookContainer, {childList: true});\n",
       "}}\n",
       "\n",
       "// Listen for the clearing of the current output cell\n",
       "var outputEl = gd.closest('.output');\n",
       "if (outputEl) {{\n",
       "    x.observe(outputEl, {childList: true});\n",
       "}}\n",
       "\n",
       "                        })\n",
       "                };\n",
       "                });\n",
       "            </script>\n",
       "        </div>"
      ]
     },
     "metadata": {},
     "output_type": "display_data"
    }
   ],
   "source": [
    "fig = go.Figure()\n",
    "\n",
    "# Add traces\n",
    "fig.add_trace(go.Scatter(x=year, y=gbPackers_netYG,\n",
    "                    mode='lines+markers',\n",
    "                    name='Green Bay Packers'))\n",
    "fig.add_trace(go.Scatter(x=year, y=tBay_netYG,\n",
    "                    mode='lines+markers',\n",
    "                    name='Tampa Bay Buccaneers'))\n",
    "fig.add_trace(go.Scatter(x=year, y=dallas_netYG,\n",
    "                    mode='lines+markers',\n",
    "                    name='Dallas Cowboys'))\n",
    "\n",
    "fig.add_trace(go.Scatter(x=year, y=atlanta_netYG,\n",
    "                    mode='lines+markers',\n",
    "                    name='Atlanta Falcons'))\n",
    "fig.add_trace(go.Scatter(x=year, y=rams_netYG,\n",
    "                    mode='lines+markers',\n",
    "                    name='Los Angeles Rams'))\n",
    "fig.add_trace(go.Scatter(x=year, y=kansas_netYG,\n",
    "                    mode='lines+markers',\n",
    "                    name='Kansas City Chiefs'))\n",
    "\n",
    "fig.add_trace(go.Scatter(x=year, y=chargers_netYG,\n",
    "                    mode='lines+markers',\n",
    "                    name='Los Angeles Chargers'))\n",
    "fig.add_trace(go.Scatter(x=year, y=orleands_netYG,\n",
    "                    mode='lines+markers',\n",
    "                    name='New Orleans Saints'))\n",
    "fig.add_trace(go.Scatter(x=year, y=england_netYG,\n",
    "                    mode='lines+markers',\n",
    "                    name='New England Patriots'))\n",
    "\n",
    "fig.add_trace(go.Scatter(x=year, y=oak_netYG,\n",
    "                    mode='lines+markers',\n",
    "                    name='Oakland Raiders'))\n",
    "fig.add_trace(go.Scatter(x=year, y=detroid_netYG,\n",
    "                    mode='lines+markers',\n",
    "                    name='Detroit Lions'))\n",
    "fig.add_trace(go.Scatter(x=year, y=philadelphia_netYG,\n",
    "                    mode='lines+markers',\n",
    "                    name='Philadelphia Eagles'))\n",
    "\n",
    "fig.add_trace(go.Scatter(x=year, y=miami_netYG,\n",
    "                    mode='lines+markers',\n",
    "                    name='Miami Dolphins'))\n",
    "fig.add_trace(go.Scatter(x=year, y=san_francisco_netYG,\n",
    "                    mode='lines+markers',\n",
    "                    name='San Francisco 49ers'))\n",
    "fig.add_trace(go.Scatter(x=year, y=seattle_netYG,\n",
    "                    mode='lines+markers',\n",
    "                    name='Seattle Seahawks'))\n",
    "\n",
    "fig.add_trace(go.Scatter(x=year, y=houston_netYG,\n",
    "                    mode='lines+markers',\n",
    "                    name='Houston Texans'))\n",
    "fig.add_trace(go.Scatter(x=year, y=jacksonville_netYG,\n",
    "                    mode='lines+markers',\n",
    "                    name='Jacksonville Jaguars'))\n",
    "fig.add_trace(go.Scatter(x=year, y=giants_netYG,\n",
    "                    mode='lines+markers',\n",
    "                    name='New York Giants'))\n",
    "\n",
    "fig.add_trace(go.Scatter(x=year, y=cincinnati_netYG,\n",
    "                    mode='lines+markers',\n",
    "                    name='Cincinnati Bengals'))\n",
    "fig.add_trace(go.Scatter(x=year, y=carolina_netYG,\n",
    "                    mode='lines+markers',\n",
    "                    name='Carolina Panthers'))\n",
    "fig.add_trace(go.Scatter(x=year, y=tenessee_netYG,\n",
    "                    mode='lines+markers',\n",
    "                    name='Tennessee Titans'))\n",
    "\n",
    "fig.add_trace(go.Scatter(x=year, y=cleveland_netYG,\n",
    "                    mode='lines+markers',\n",
    "                    name='Cleveland Browns'))\n",
    "fig.add_trace(go.Scatter(x=year, y=minnesota_netYG,\n",
    "                    mode='lines+markers',\n",
    "                    name='Minnesota Vikings'))\n",
    "fig.add_trace(go.Scatter(x=year, y=arizona_netYG,\n",
    "                    mode='lines+markers',\n",
    "                    name='Arizona Cardinals'))\n",
    "\n",
    "fig.add_trace(go.Scatter(x=year, y=chicago_netYG,\n",
    "                    mode='lines+markers',\n",
    "                    name='Chicago Bears'))\n",
    "fig.add_trace(go.Scatter(x=year, y=buffalo_netYG,\n",
    "                    mode='lines+markers',\n",
    "                    name='Buffalo Bills'))\n",
    "fig.add_trace(go.Scatter(x=year, y=baltimore_netYG,\n",
    "                    mode='lines+markers',\n",
    "                    name='Baltimore Ravens'))\n",
    "\n",
    "fig.add_trace(go.Scatter(x=year, y=denver_netYG,\n",
    "                    mode='lines+markers',\n",
    "                    name='Denver Broncos'))\n",
    "fig.add_trace(go.Scatter(x=year, y=jets_netYG,\n",
    "                    mode='lines+markers',\n",
    "                    name='New York Jets'))\n",
    "fig.add_trace(go.Scatter(x=year, y=inianapolis_netYG,\n",
    "                    mode='lines+markers',\n",
    "                    name='Indianapolis Colts'))\n",
    "\n",
    "fig.add_trace(go.Scatter(x=year, y=pittsburgh_netYG,\n",
    "                    mode='lines+markers',\n",
    "                    name='Pittsburgh Steelers'))\n",
    "fig.add_trace(go.Scatter(x=year, y=washington_netYG,\n",
    "                    mode='lines+markers',\n",
    "                    name='Washington Redskins'))\n",
    "\n",
    "fig.show()"
   ]
  },
  {
   "cell_type": "code",
   "execution_count": null,
   "metadata": {},
   "outputs": [],
   "source": []
  },
  {
   "cell_type": "code",
   "execution_count": null,
   "metadata": {},
   "outputs": [],
   "source": []
  },
  {
   "cell_type": "code",
   "execution_count": 8,
   "metadata": {},
   "outputs": [
    {
     "data": {
      "text/html": [
       "<div>\n",
       "<style scoped>\n",
       "    .dataframe tbody tr th:only-of-type {\n",
       "        vertical-align: middle;\n",
       "    }\n",
       "\n",
       "    .dataframe tbody tr th {\n",
       "        vertical-align: top;\n",
       "    }\n",
       "\n",
       "    .dataframe thead th {\n",
       "        text-align: right;\n",
       "    }\n",
       "</style>\n",
       "<table border=\"1\" class=\"dataframe\">\n",
       "  <thead>\n",
       "    <tr style=\"text-align: right;\">\n",
       "      <th></th>\n",
       "      <th>Team</th>\n",
       "      <th>Gms</th>\n",
       "      <th>Att</th>\n",
       "      <th>Cmp</th>\n",
       "      <th>Pct</th>\n",
       "      <th>Yds</th>\n",
       "      <th>YPA</th>\n",
       "      <th>TD</th>\n",
       "      <th>Int</th>\n",
       "      <th>Sack</th>\n",
       "      <th>Loss</th>\n",
       "      <th>Rate</th>\n",
       "      <th>NetYds</th>\n",
       "      <th>Yds/G</th>\n",
       "      <th>Year</th>\n",
       "    </tr>\n",
       "  </thead>\n",
       "  <tbody>\n",
       "    <tr>\n",
       "      <th>0</th>\n",
       "      <td>Arizona Cardinals</td>\n",
       "      <td>16</td>\n",
       "      <td>568</td>\n",
       "      <td>320</td>\n",
       "      <td>56.3</td>\n",
       "      <td>3990</td>\n",
       "      <td>7.02</td>\n",
       "      <td>21</td>\n",
       "      <td>12</td>\n",
       "      <td>28</td>\n",
       "      <td>182</td>\n",
       "      <td>81.8</td>\n",
       "      <td>3808</td>\n",
       "      <td>238.0</td>\n",
       "      <td>2014</td>\n",
       "    </tr>\n",
       "    <tr>\n",
       "      <th>1</th>\n",
       "      <td>Atlanta Falcons</td>\n",
       "      <td>16</td>\n",
       "      <td>632</td>\n",
       "      <td>418</td>\n",
       "      <td>66.1</td>\n",
       "      <td>4758</td>\n",
       "      <td>7.53</td>\n",
       "      <td>28</td>\n",
       "      <td>15</td>\n",
       "      <td>31</td>\n",
       "      <td>205</td>\n",
       "      <td>93.4</td>\n",
       "      <td>4553</td>\n",
       "      <td>284.6</td>\n",
       "      <td>2014</td>\n",
       "    </tr>\n",
       "    <tr>\n",
       "      <th>2</th>\n",
       "      <td>Baltimore Ravens</td>\n",
       "      <td>16</td>\n",
       "      <td>554</td>\n",
       "      <td>344</td>\n",
       "      <td>62.1</td>\n",
       "      <td>3986</td>\n",
       "      <td>7.19</td>\n",
       "      <td>27</td>\n",
       "      <td>12</td>\n",
       "      <td>19</td>\n",
       "      <td>167</td>\n",
       "      <td>91.0</td>\n",
       "      <td>3819</td>\n",
       "      <td>238.7</td>\n",
       "      <td>2014</td>\n",
       "    </tr>\n",
       "    <tr>\n",
       "      <th>3</th>\n",
       "      <td>Buffalo Bills</td>\n",
       "      <td>16</td>\n",
       "      <td>579</td>\n",
       "      <td>363</td>\n",
       "      <td>62.7</td>\n",
       "      <td>3856</td>\n",
       "      <td>6.66</td>\n",
       "      <td>23</td>\n",
       "      <td>13</td>\n",
       "      <td>39</td>\n",
       "      <td>242</td>\n",
       "      <td>86.0</td>\n",
       "      <td>3614</td>\n",
       "      <td>225.9</td>\n",
       "      <td>2014</td>\n",
       "    </tr>\n",
       "    <tr>\n",
       "      <th>4</th>\n",
       "      <td>Carolina Panthers</td>\n",
       "      <td>16</td>\n",
       "      <td>545</td>\n",
       "      <td>327</td>\n",
       "      <td>60.0</td>\n",
       "      <td>3828</td>\n",
       "      <td>7.02</td>\n",
       "      <td>23</td>\n",
       "      <td>12</td>\n",
       "      <td>42</td>\n",
       "      <td>317</td>\n",
       "      <td>86.2</td>\n",
       "      <td>3511</td>\n",
       "      <td>219.4</td>\n",
       "      <td>2014</td>\n",
       "    </tr>\n",
       "    <tr>\n",
       "      <th>...</th>\n",
       "      <td>...</td>\n",
       "      <td>...</td>\n",
       "      <td>...</td>\n",
       "      <td>...</td>\n",
       "      <td>...</td>\n",
       "      <td>...</td>\n",
       "      <td>...</td>\n",
       "      <td>...</td>\n",
       "      <td>...</td>\n",
       "      <td>...</td>\n",
       "      <td>...</td>\n",
       "      <td>...</td>\n",
       "      <td>...</td>\n",
       "      <td>...</td>\n",
       "      <td>...</td>\n",
       "    </tr>\n",
       "    <tr>\n",
       "      <th>155</th>\n",
       "      <td>San Francisco 49ers</td>\n",
       "      <td>16</td>\n",
       "      <td>532</td>\n",
       "      <td>331</td>\n",
       "      <td>62.2</td>\n",
       "      <td>4247</td>\n",
       "      <td>7.98</td>\n",
       "      <td>26</td>\n",
       "      <td>20</td>\n",
       "      <td>48</td>\n",
       "      <td>380</td>\n",
       "      <td>87.8</td>\n",
       "      <td>3867</td>\n",
       "      <td>241.7</td>\n",
       "      <td>2018</td>\n",
       "    </tr>\n",
       "    <tr>\n",
       "      <th>156</th>\n",
       "      <td>Seattle Seahawks</td>\n",
       "      <td>16</td>\n",
       "      <td>427</td>\n",
       "      <td>280</td>\n",
       "      <td>65.6</td>\n",
       "      <td>3448</td>\n",
       "      <td>8.07</td>\n",
       "      <td>35</td>\n",
       "      <td>7</td>\n",
       "      <td>51</td>\n",
       "      <td>355</td>\n",
       "      <td>110.9</td>\n",
       "      <td>3093</td>\n",
       "      <td>193.3</td>\n",
       "      <td>2018</td>\n",
       "    </tr>\n",
       "    <tr>\n",
       "      <th>157</th>\n",
       "      <td>Tampa Bay Buccaneers</td>\n",
       "      <td>16</td>\n",
       "      <td>625</td>\n",
       "      <td>408</td>\n",
       "      <td>65.3</td>\n",
       "      <td>5358</td>\n",
       "      <td>8.57</td>\n",
       "      <td>36</td>\n",
       "      <td>26</td>\n",
       "      <td>41</td>\n",
       "      <td>233</td>\n",
       "      <td>94.1</td>\n",
       "      <td>5125</td>\n",
       "      <td>320.3</td>\n",
       "      <td>2018</td>\n",
       "    </tr>\n",
       "    <tr>\n",
       "      <th>158</th>\n",
       "      <td>Tennessee Titans</td>\n",
       "      <td>16</td>\n",
       "      <td>437</td>\n",
       "      <td>293</td>\n",
       "      <td>67.0</td>\n",
       "      <td>3255</td>\n",
       "      <td>7.45</td>\n",
       "      <td>16</td>\n",
       "      <td>12</td>\n",
       "      <td>47</td>\n",
       "      <td>280</td>\n",
       "      <td>89.8</td>\n",
       "      <td>2975</td>\n",
       "      <td>185.9</td>\n",
       "      <td>2018</td>\n",
       "    </tr>\n",
       "    <tr>\n",
       "      <th>159</th>\n",
       "      <td>Washington Redskins</td>\n",
       "      <td>16</td>\n",
       "      <td>509</td>\n",
       "      <td>311</td>\n",
       "      <td>61.1</td>\n",
       "      <td>3287</td>\n",
       "      <td>6.46</td>\n",
       "      <td>16</td>\n",
       "      <td>15</td>\n",
       "      <td>44</td>\n",
       "      <td>266</td>\n",
       "      <td>78.1</td>\n",
       "      <td>3021</td>\n",
       "      <td>188.8</td>\n",
       "      <td>2018</td>\n",
       "    </tr>\n",
       "  </tbody>\n",
       "</table>\n",
       "<p>160 rows × 15 columns</p>\n",
       "</div>"
      ],
      "text/plain": [
       "                     Team  Gms  Att  Cmp   Pct   Yds   YPA  TD  Int  Sack  \\\n",
       "0       Arizona Cardinals   16  568  320  56.3  3990  7.02  21   12    28   \n",
       "1         Atlanta Falcons   16  632  418  66.1  4758  7.53  28   15    31   \n",
       "2        Baltimore Ravens   16  554  344  62.1  3986  7.19  27   12    19   \n",
       "3           Buffalo Bills   16  579  363  62.7  3856  6.66  23   13    39   \n",
       "4       Carolina Panthers   16  545  327  60.0  3828  7.02  23   12    42   \n",
       "..                    ...  ...  ...  ...   ...   ...   ...  ..  ...   ...   \n",
       "155   San Francisco 49ers   16  532  331  62.2  4247  7.98  26   20    48   \n",
       "156      Seattle Seahawks   16  427  280  65.6  3448  8.07  35    7    51   \n",
       "157  Tampa Bay Buccaneers   16  625  408  65.3  5358  8.57  36   26    41   \n",
       "158      Tennessee Titans   16  437  293  67.0  3255  7.45  16   12    47   \n",
       "159   Washington Redskins   16  509  311  61.1  3287  6.46  16   15    44   \n",
       "\n",
       "     Loss   Rate  NetYds  Yds/G  Year  \n",
       "0     182   81.8    3808  238.0  2014  \n",
       "1     205   93.4    4553  284.6  2014  \n",
       "2     167   91.0    3819  238.7  2014  \n",
       "3     242   86.0    3614  225.9  2014  \n",
       "4     317   86.2    3511  219.4  2014  \n",
       "..    ...    ...     ...    ...   ...  \n",
       "155   380   87.8    3867  241.7  2018  \n",
       "156   355  110.9    3093  193.3  2018  \n",
       "157   233   94.1    5125  320.3  2018  \n",
       "158   280   89.8    2975  185.9  2018  \n",
       "159   266   78.1    3021  188.8  2018  \n",
       "\n",
       "[160 rows x 15 columns]"
      ]
     },
     "execution_count": 8,
     "metadata": {},
     "output_type": "execute_result"
    }
   ],
   "source": [
    "dataset_passing"
   ]
  },
  {
   "cell_type": "code",
   "execution_count": null,
   "metadata": {},
   "outputs": [],
   "source": []
  },
  {
   "cell_type": "code",
   "execution_count": null,
   "metadata": {},
   "outputs": [],
   "source": []
  }
 ],
 "metadata": {
  "kernelspec": {
   "display_name": "Python 3",
   "language": "python",
   "name": "python3"
  },
  "language_info": {
   "codemirror_mode": {
    "name": "ipython",
    "version": 3
   },
   "file_extension": ".py",
   "mimetype": "text/x-python",
   "name": "python",
   "nbconvert_exporter": "python",
   "pygments_lexer": "ipython3",
   "version": "3.7.3"
  }
 },
 "nbformat": 4,
 "nbformat_minor": 2
}
